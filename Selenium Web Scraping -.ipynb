{
 "cells": [
  {
   "cell_type": "code",
   "execution_count": 1,
   "id": "06a99b22",
   "metadata": {},
   "outputs": [],
   "source": [
    "#Q1: Write a python program to scrape data for “Data Analyst” Job position in “Bangalore” location. \n",
    "#Youhave to scrape the job-title, job-location, company_name, experience_required. You have to scrape first 10jobs data."
   ]
  },
  {
   "cell_type": "code",
   "execution_count": 2,
   "id": "707e1e8c",
   "metadata": {},
   "outputs": [],
   "source": [
    "import selenium\n",
    "import pandas as pd\n",
    "from selenium import webdriver\n",
    "import warnings\n",
    "warnings.filterwarnings('ignore')\n",
    "import time "
   ]
  },
  {
   "cell_type": "code",
   "execution_count": 3,
   "id": "301cfe7a",
   "metadata": {},
   "outputs": [],
   "source": [
    "#connect to the web driver\n",
    "\n",
    "driver=webdriver.Chrome(r'C:\\Users\\akash\\Downloads\\chromedriver_win32\\chromedriver.exe')"
   ]
  },
  {
   "cell_type": "code",
   "execution_count": 4,
   "id": "3186e401",
   "metadata": {},
   "outputs": [],
   "source": [
    "driver.get('https://www.naukri.com/')"
   ]
  },
  {
   "cell_type": "code",
   "execution_count": 5,
   "id": "c079c5cf",
   "metadata": {},
   "outputs": [],
   "source": [
    "#finding element for job search bar\n",
    "\n",
    "search_field_designation=driver.find_element_by_class_name('suggestor-input') #job search bar\n",
    "search_field_designation.send_keys('Data Analyst')\n",
    "search_field_location=driver.find_element_by_xpath('/html/body/div/div[2]/div[3]/div/div/div[3]/div/div/div/input')\n",
    "search_field_location.send_keys('Bangalore')"
   ]
  },
  {
   "cell_type": "code",
   "execution_count": 6,
   "id": "296de46a",
   "metadata": {},
   "outputs": [],
   "source": [
    "search_button=driver.find_element_by_xpath('/html/body/div/div[2]/div[3]/div/div/div[6]')\n",
    "search_button.click()"
   ]
  },
  {
   "cell_type": "code",
   "execution_count": 7,
   "id": "8a29caad",
   "metadata": {},
   "outputs": [],
   "source": [
    "#specifying the url page \n",
    "url=('https://www.naukri.com/data-analyst-jobs-in-bangalore?k=data%20analyst&l=bangalore')"
   ]
  },
  {
   "cell_type": "code",
   "execution_count": 8,
   "id": "94564943",
   "metadata": {},
   "outputs": [],
   "source": [
    "job_titles=[]\n",
    "company_names=[]\n",
    "locations_list=[]\n",
    "experience_list=[]"
   ]
  },
  {
   "cell_type": "code",
   "execution_count": 9,
   "id": "574e5a20",
   "metadata": {},
   "outputs": [
    {
     "data": {
      "text/plain": [
       "[<selenium.webdriver.remote.webelement.WebElement (session=\"e42ec1c8869f0df89cde54b575bd8c33\", element=\"f1d7f7f8-82de-444e-9253-7450eb65fcb6\")>,\n",
       " <selenium.webdriver.remote.webelement.WebElement (session=\"e42ec1c8869f0df89cde54b575bd8c33\", element=\"4f5b07ca-cacf-40fc-84b7-b86d94784172\")>,\n",
       " <selenium.webdriver.remote.webelement.WebElement (session=\"e42ec1c8869f0df89cde54b575bd8c33\", element=\"db1572b0-d923-4338-bb73-096d2f0668c6\")>,\n",
       " <selenium.webdriver.remote.webelement.WebElement (session=\"e42ec1c8869f0df89cde54b575bd8c33\", element=\"0020fdb5-60cf-47e4-aec0-d6c91cf79fb3\")>]"
      ]
     },
     "execution_count": 9,
     "metadata": {},
     "output_type": "execute_result"
    }
   ],
   "source": [
    "titles_tags=driver.find_elements_by_xpath(\"//a[@class='title fw500 ellipsis']\")\n",
    "titles_tags[0:4]"
   ]
  },
  {
   "cell_type": "code",
   "execution_count": 10,
   "id": "7689edae",
   "metadata": {},
   "outputs": [
    {
     "data": {
      "text/plain": [
       "['Data Analyst II',\n",
       " 'Senior Data Analyst II',\n",
       " 'Senior Data Analyst II',\n",
       " 'Senior Data Analyst - Logistics']"
      ]
     },
     "execution_count": 10,
     "metadata": {},
     "output_type": "execute_result"
    }
   ],
   "source": [
    "for i in titles_tags:\n",
    "    title=i.text\n",
    "    job_titles.append(title)\n",
    "job_titles[0:4]"
   ]
  },
  {
   "cell_type": "code",
   "execution_count": 11,
   "id": "685309b2",
   "metadata": {},
   "outputs": [
    {
     "data": {
      "text/plain": [
       "[<selenium.webdriver.remote.webelement.WebElement (session=\"e42ec1c8869f0df89cde54b575bd8c33\", element=\"428b6353-3072-4369-a1f2-73ea1382acdd\")>,\n",
       " <selenium.webdriver.remote.webelement.WebElement (session=\"e42ec1c8869f0df89cde54b575bd8c33\", element=\"14423728-e5c2-4b29-b034-e8de658ebf28\")>,\n",
       " <selenium.webdriver.remote.webelement.WebElement (session=\"e42ec1c8869f0df89cde54b575bd8c33\", element=\"ee0d326d-8fbd-4c5a-a865-56876385dbcf\")>,\n",
       " <selenium.webdriver.remote.webelement.WebElement (session=\"e42ec1c8869f0df89cde54b575bd8c33\", element=\"1f6b2439-38c6-4c43-a8a4-cb4b1e0007c8\")>]"
      ]
     },
     "execution_count": 11,
     "metadata": {},
     "output_type": "execute_result"
    }
   ],
   "source": [
    "companies_tags=driver.find_elements_by_xpath(\"//a[@class='subTitle ellipsis fleft']\")\n",
    "companies_tags[0:4]"
   ]
  },
  {
   "cell_type": "code",
   "execution_count": 12,
   "id": "e7e44cce",
   "metadata": {},
   "outputs": [
    {
     "data": {
      "text/plain": [
       "['Cerner', 'Flipkart', 'Flipkart', 'Gojek']"
      ]
     },
     "execution_count": 12,
     "metadata": {},
     "output_type": "execute_result"
    }
   ],
   "source": [
    "for i in companies_tags:\n",
    "    company_name=i.text\n",
    "    company_names.append(company_name)\n",
    "company_names[0:4]"
   ]
  },
  {
   "cell_type": "code",
   "execution_count": 13,
   "id": "9965e325",
   "metadata": {},
   "outputs": [
    {
     "data": {
      "text/plain": [
       "[<selenium.webdriver.remote.webelement.WebElement (session=\"e42ec1c8869f0df89cde54b575bd8c33\", element=\"0106e4d8-c5e8-4365-b79d-f0133dbb9938\")>,\n",
       " <selenium.webdriver.remote.webelement.WebElement (session=\"e42ec1c8869f0df89cde54b575bd8c33\", element=\"2cc12deb-808d-4292-a8aa-51c97d5a4919\")>,\n",
       " <selenium.webdriver.remote.webelement.WebElement (session=\"e42ec1c8869f0df89cde54b575bd8c33\", element=\"28121038-aab6-41a1-b485-02741ab47d9e\")>,\n",
       " <selenium.webdriver.remote.webelement.WebElement (session=\"e42ec1c8869f0df89cde54b575bd8c33\", element=\"c64960b1-63f7-4262-ae4d-0aac5365bff1\")>]"
      ]
     },
     "execution_count": 13,
     "metadata": {},
     "output_type": "execute_result"
    }
   ],
   "source": [
    "experience_tags=driver.find_elements_by_xpath(\"//li[@class='fleft grey-text br2 placeHolderLi experience']/span[1]\")\n",
    "experience_tags[0:4]"
   ]
  },
  {
   "cell_type": "code",
   "execution_count": 14,
   "id": "84381403",
   "metadata": {},
   "outputs": [
    {
     "data": {
      "text/plain": [
       "['6-10 Yrs', '2-4 Yrs', '3-6 Yrs', '4-10 Yrs']"
      ]
     },
     "execution_count": 14,
     "metadata": {},
     "output_type": "execute_result"
    }
   ],
   "source": [
    "for i in experience_tags:\n",
    "    experience=i.text\n",
    "    experience_list.append(experience)\n",
    "experience_list[0:4]"
   ]
  },
  {
   "cell_type": "code",
   "execution_count": 15,
   "id": "c7cd0e2c",
   "metadata": {},
   "outputs": [
    {
     "data": {
      "text/plain": [
       "[<selenium.webdriver.remote.webelement.WebElement (session=\"e42ec1c8869f0df89cde54b575bd8c33\", element=\"518275f3-075e-4281-9d22-0c65410d0d26\")>,\n",
       " <selenium.webdriver.remote.webelement.WebElement (session=\"e42ec1c8869f0df89cde54b575bd8c33\", element=\"6b629d6e-7cfd-4a48-ae1b-0323612e276e\")>,\n",
       " <selenium.webdriver.remote.webelement.WebElement (session=\"e42ec1c8869f0df89cde54b575bd8c33\", element=\"bf3927b0-5078-483e-afc8-c0f8192689fe\")>,\n",
       " <selenium.webdriver.remote.webelement.WebElement (session=\"e42ec1c8869f0df89cde54b575bd8c33\", element=\"960f6f4e-3808-4ffe-9c48-9c52b353c790\")>]"
      ]
     },
     "execution_count": 15,
     "metadata": {},
     "output_type": "execute_result"
    }
   ],
   "source": [
    "locations_tags=driver.find_elements_by_xpath(\"//li[@class='fleft grey-text br2 placeHolderLi location']/span[1]\")\n",
    "locations_tags[0:4]"
   ]
  },
  {
   "cell_type": "code",
   "execution_count": 16,
   "id": "8d15092b",
   "metadata": {},
   "outputs": [
    {
     "data": {
      "text/plain": [
       "['Bangalore/Bengaluru',\n",
       " 'Bangalore/Bengaluru',\n",
       " 'Bangalore/Bengaluru',\n",
       " 'Bangalore/Bengaluru']"
      ]
     },
     "execution_count": 16,
     "metadata": {},
     "output_type": "execute_result"
    }
   ],
   "source": [
    "for i in locations_tags:\n",
    "    location=i.text\n",
    "    locations_list.append(location)\n",
    "locations_list[0:4]"
   ]
  },
  {
   "cell_type": "code",
   "execution_count": 17,
   "id": "107bc6d1",
   "metadata": {},
   "outputs": [
    {
     "name": "stdout",
     "output_type": "stream",
     "text": [
      "20 20 20 20\n"
     ]
    }
   ],
   "source": [
    "print(len(job_titles),len(company_names),len(experience_list),len(locations_list))"
   ]
  },
  {
   "cell_type": "code",
   "execution_count": 18,
   "id": "815a3bab",
   "metadata": {},
   "outputs": [],
   "source": [
    "jobs=pd.DataFrame({})\n",
    "jobs['titles']=job_titles \n",
    "jobs['company']=company_names\n",
    "jobs['expereince']=experience_list\n",
    "jobs['locations']=locations_list"
   ]
  },
  {
   "cell_type": "code",
   "execution_count": 19,
   "id": "405305a3",
   "metadata": {},
   "outputs": [
    {
     "data": {
      "text/html": [
       "<div>\n",
       "<style scoped>\n",
       "    .dataframe tbody tr th:only-of-type {\n",
       "        vertical-align: middle;\n",
       "    }\n",
       "\n",
       "    .dataframe tbody tr th {\n",
       "        vertical-align: top;\n",
       "    }\n",
       "\n",
       "    .dataframe thead th {\n",
       "        text-align: right;\n",
       "    }\n",
       "</style>\n",
       "<table border=\"1\" class=\"dataframe\">\n",
       "  <thead>\n",
       "    <tr style=\"text-align: right;\">\n",
       "      <th></th>\n",
       "      <th>titles</th>\n",
       "      <th>company</th>\n",
       "      <th>expereince</th>\n",
       "      <th>locations</th>\n",
       "    </tr>\n",
       "  </thead>\n",
       "  <tbody>\n",
       "    <tr>\n",
       "      <th>0</th>\n",
       "      <td>Data Analyst II</td>\n",
       "      <td>Cerner</td>\n",
       "      <td>6-10 Yrs</td>\n",
       "      <td>Bangalore/Bengaluru</td>\n",
       "    </tr>\n",
       "    <tr>\n",
       "      <th>1</th>\n",
       "      <td>Senior Data Analyst II</td>\n",
       "      <td>Flipkart</td>\n",
       "      <td>2-4 Yrs</td>\n",
       "      <td>Bangalore/Bengaluru</td>\n",
       "    </tr>\n",
       "    <tr>\n",
       "      <th>2</th>\n",
       "      <td>Senior Data Analyst II</td>\n",
       "      <td>Flipkart</td>\n",
       "      <td>3-6 Yrs</td>\n",
       "      <td>Bangalore/Bengaluru</td>\n",
       "    </tr>\n",
       "    <tr>\n",
       "      <th>3</th>\n",
       "      <td>Senior Data Analyst - Logistics</td>\n",
       "      <td>Gojek</td>\n",
       "      <td>4-10 Yrs</td>\n",
       "      <td>Bangalore/Bengaluru</td>\n",
       "    </tr>\n",
       "    <tr>\n",
       "      <th>4</th>\n",
       "      <td>Senior Data Analyst</td>\n",
       "      <td>Flipkart</td>\n",
       "      <td>4-6 Yrs</td>\n",
       "      <td>Bangalore/Bengaluru</td>\n",
       "    </tr>\n",
       "    <tr>\n",
       "      <th>5</th>\n",
       "      <td>Sr Domain Expert -Data Analysts</td>\n",
       "      <td>Siemens</td>\n",
       "      <td>0-10 Yrs</td>\n",
       "      <td>Bangalore/Bengaluru</td>\n",
       "    </tr>\n",
       "    <tr>\n",
       "      <th>6</th>\n",
       "      <td>Consultant - Data Analyst</td>\n",
       "      <td>Flipkart</td>\n",
       "      <td>1-3 Yrs</td>\n",
       "      <td>Bangalore/Bengaluru</td>\n",
       "    </tr>\n",
       "    <tr>\n",
       "      <th>7</th>\n",
       "      <td>Data Analyst</td>\n",
       "      <td>Zetwerk Manufacturing Businesses</td>\n",
       "      <td>1-3 Yrs</td>\n",
       "      <td>Bangalore/Bengaluru</td>\n",
       "    </tr>\n",
       "    <tr>\n",
       "      <th>8</th>\n",
       "      <td>People Data Analyst</td>\n",
       "      <td>Walmart</td>\n",
       "      <td>4-10 Yrs</td>\n",
       "      <td>Bangalore/Bengaluru</td>\n",
       "    </tr>\n",
       "    <tr>\n",
       "      <th>9</th>\n",
       "      <td>Data Analyst</td>\n",
       "      <td>Enrich talents</td>\n",
       "      <td>0-4 Yrs</td>\n",
       "      <td>Bangalore/Bengaluru</td>\n",
       "    </tr>\n",
       "    <tr>\n",
       "      <th>10</th>\n",
       "      <td>Senior Data Analyst</td>\n",
       "      <td>Saffron Careers Private Limited</td>\n",
       "      <td>3-9 Yrs</td>\n",
       "      <td>Bangalore/Bengaluru</td>\n",
       "    </tr>\n",
       "    <tr>\n",
       "      <th>11</th>\n",
       "      <td>Data Analyst</td>\n",
       "      <td>Virtusa</td>\n",
       "      <td>4-7 Yrs</td>\n",
       "      <td>Hyderabad/Secunderabad, Chennai, Bangalore/Ben...</td>\n",
       "    </tr>\n",
       "    <tr>\n",
       "      <th>12</th>\n",
       "      <td>Blockchain AML Data Analyst</td>\n",
       "      <td>PayPal</td>\n",
       "      <td>3-7 Yrs</td>\n",
       "      <td>Bangalore/Bengaluru</td>\n",
       "    </tr>\n",
       "    <tr>\n",
       "      <th>13</th>\n",
       "      <td>Senior Data Analyst</td>\n",
       "      <td>Walmart</td>\n",
       "      <td>5-8 Yrs</td>\n",
       "      <td>Bangalore/Bengaluru</td>\n",
       "    </tr>\n",
       "    <tr>\n",
       "      <th>14</th>\n",
       "      <td>Senior Data Analyst</td>\n",
       "      <td>LatentView</td>\n",
       "      <td>2-6 Yrs</td>\n",
       "      <td>Chennai, Bangalore/Bengaluru</td>\n",
       "    </tr>\n",
       "    <tr>\n",
       "      <th>15</th>\n",
       "      <td>Data Analyst - Python/Artificial Intelligence</td>\n",
       "      <td>iMindYourBusiness</td>\n",
       "      <td>0-2 Yrs</td>\n",
       "      <td>Kolkata, Mumbai, Hyderabad/Secunderabad, Pune,...</td>\n",
       "    </tr>\n",
       "    <tr>\n",
       "      <th>16</th>\n",
       "      <td>Data Analyst</td>\n",
       "      <td>AECOM</td>\n",
       "      <td>2-7 Yrs</td>\n",
       "      <td>Bangalore/Bengaluru</td>\n",
       "    </tr>\n",
       "    <tr>\n",
       "      <th>17</th>\n",
       "      <td>Data Analysts with Business Analysis</td>\n",
       "      <td>Avanze Technologies India Pvt. Ltd.</td>\n",
       "      <td>6-8 Yrs</td>\n",
       "      <td>Bangalore/Bengaluru</td>\n",
       "    </tr>\n",
       "    <tr>\n",
       "      <th>18</th>\n",
       "      <td>Senior Data Analyst (Digital Services Analytics)</td>\n",
       "      <td>Dell Technologies</td>\n",
       "      <td>1-6 Yrs</td>\n",
       "      <td>Bangalore/Bengaluru</td>\n",
       "    </tr>\n",
       "    <tr>\n",
       "      <th>19</th>\n",
       "      <td>Senior Data Analyst</td>\n",
       "      <td>FINNOVATION TECH SOLUTIONS PRIVATE LIMITED</td>\n",
       "      <td>3-6 Yrs</td>\n",
       "      <td>Bangalore/Bengaluru(Old Madras Road)</td>\n",
       "    </tr>\n",
       "  </tbody>\n",
       "</table>\n",
       "</div>"
      ],
      "text/plain": [
       "                                              titles  \\\n",
       "0                                    Data Analyst II   \n",
       "1                             Senior Data Analyst II   \n",
       "2                             Senior Data Analyst II   \n",
       "3                    Senior Data Analyst - Logistics   \n",
       "4                                Senior Data Analyst   \n",
       "5                    Sr Domain Expert -Data Analysts   \n",
       "6                          Consultant - Data Analyst   \n",
       "7                                       Data Analyst   \n",
       "8                                People Data Analyst   \n",
       "9                                       Data Analyst   \n",
       "10                               Senior Data Analyst   \n",
       "11                                      Data Analyst   \n",
       "12                       Blockchain AML Data Analyst   \n",
       "13                               Senior Data Analyst   \n",
       "14                               Senior Data Analyst   \n",
       "15     Data Analyst - Python/Artificial Intelligence   \n",
       "16                                      Data Analyst   \n",
       "17              Data Analysts with Business Analysis   \n",
       "18  Senior Data Analyst (Digital Services Analytics)   \n",
       "19                               Senior Data Analyst   \n",
       "\n",
       "                                       company expereince  \\\n",
       "0                                       Cerner   6-10 Yrs   \n",
       "1                                     Flipkart    2-4 Yrs   \n",
       "2                                     Flipkart    3-6 Yrs   \n",
       "3                                        Gojek   4-10 Yrs   \n",
       "4                                     Flipkart    4-6 Yrs   \n",
       "5                                      Siemens   0-10 Yrs   \n",
       "6                                     Flipkart    1-3 Yrs   \n",
       "7             Zetwerk Manufacturing Businesses    1-3 Yrs   \n",
       "8                                      Walmart   4-10 Yrs   \n",
       "9                               Enrich talents    0-4 Yrs   \n",
       "10             Saffron Careers Private Limited    3-9 Yrs   \n",
       "11                                     Virtusa    4-7 Yrs   \n",
       "12                                      PayPal    3-7 Yrs   \n",
       "13                                     Walmart    5-8 Yrs   \n",
       "14                                  LatentView    2-6 Yrs   \n",
       "15                           iMindYourBusiness    0-2 Yrs   \n",
       "16                                       AECOM    2-7 Yrs   \n",
       "17         Avanze Technologies India Pvt. Ltd.    6-8 Yrs   \n",
       "18                           Dell Technologies    1-6 Yrs   \n",
       "19  FINNOVATION TECH SOLUTIONS PRIVATE LIMITED    3-6 Yrs   \n",
       "\n",
       "                                            locations  \n",
       "0                                 Bangalore/Bengaluru  \n",
       "1                                 Bangalore/Bengaluru  \n",
       "2                                 Bangalore/Bengaluru  \n",
       "3                                 Bangalore/Bengaluru  \n",
       "4                                 Bangalore/Bengaluru  \n",
       "5                                 Bangalore/Bengaluru  \n",
       "6                                 Bangalore/Bengaluru  \n",
       "7                                 Bangalore/Bengaluru  \n",
       "8                                 Bangalore/Bengaluru  \n",
       "9                                 Bangalore/Bengaluru  \n",
       "10                                Bangalore/Bengaluru  \n",
       "11  Hyderabad/Secunderabad, Chennai, Bangalore/Ben...  \n",
       "12                                Bangalore/Bengaluru  \n",
       "13                                Bangalore/Bengaluru  \n",
       "14                       Chennai, Bangalore/Bengaluru  \n",
       "15  Kolkata, Mumbai, Hyderabad/Secunderabad, Pune,...  \n",
       "16                                Bangalore/Bengaluru  \n",
       "17                                Bangalore/Bengaluru  \n",
       "18                                Bangalore/Bengaluru  \n",
       "19               Bangalore/Bengaluru(Old Madras Road)  "
      ]
     },
     "execution_count": 19,
     "metadata": {},
     "output_type": "execute_result"
    }
   ],
   "source": [
    "jobs"
   ]
  },
  {
   "cell_type": "code",
   "execution_count": 20,
   "id": "9fe41ad4",
   "metadata": {},
   "outputs": [
    {
     "data": {
      "text/html": [
       "<div>\n",
       "<style scoped>\n",
       "    .dataframe tbody tr th:only-of-type {\n",
       "        vertical-align: middle;\n",
       "    }\n",
       "\n",
       "    .dataframe tbody tr th {\n",
       "        vertical-align: top;\n",
       "    }\n",
       "\n",
       "    .dataframe thead th {\n",
       "        text-align: right;\n",
       "    }\n",
       "</style>\n",
       "<table border=\"1\" class=\"dataframe\">\n",
       "  <thead>\n",
       "    <tr style=\"text-align: right;\">\n",
       "      <th></th>\n",
       "      <th>titles</th>\n",
       "      <th>company</th>\n",
       "      <th>expereince</th>\n",
       "      <th>locations</th>\n",
       "    </tr>\n",
       "  </thead>\n",
       "  <tbody>\n",
       "    <tr>\n",
       "      <th>0</th>\n",
       "      <td>Data Analyst II</td>\n",
       "      <td>Cerner</td>\n",
       "      <td>6-10 Yrs</td>\n",
       "      <td>Bangalore/Bengaluru</td>\n",
       "    </tr>\n",
       "    <tr>\n",
       "      <th>1</th>\n",
       "      <td>Senior Data Analyst II</td>\n",
       "      <td>Flipkart</td>\n",
       "      <td>2-4 Yrs</td>\n",
       "      <td>Bangalore/Bengaluru</td>\n",
       "    </tr>\n",
       "    <tr>\n",
       "      <th>2</th>\n",
       "      <td>Senior Data Analyst II</td>\n",
       "      <td>Flipkart</td>\n",
       "      <td>3-6 Yrs</td>\n",
       "      <td>Bangalore/Bengaluru</td>\n",
       "    </tr>\n",
       "    <tr>\n",
       "      <th>3</th>\n",
       "      <td>Senior Data Analyst - Logistics</td>\n",
       "      <td>Gojek</td>\n",
       "      <td>4-10 Yrs</td>\n",
       "      <td>Bangalore/Bengaluru</td>\n",
       "    </tr>\n",
       "    <tr>\n",
       "      <th>4</th>\n",
       "      <td>Senior Data Analyst</td>\n",
       "      <td>Flipkart</td>\n",
       "      <td>4-6 Yrs</td>\n",
       "      <td>Bangalore/Bengaluru</td>\n",
       "    </tr>\n",
       "    <tr>\n",
       "      <th>5</th>\n",
       "      <td>Sr Domain Expert -Data Analysts</td>\n",
       "      <td>Siemens</td>\n",
       "      <td>0-10 Yrs</td>\n",
       "      <td>Bangalore/Bengaluru</td>\n",
       "    </tr>\n",
       "    <tr>\n",
       "      <th>6</th>\n",
       "      <td>Consultant - Data Analyst</td>\n",
       "      <td>Flipkart</td>\n",
       "      <td>1-3 Yrs</td>\n",
       "      <td>Bangalore/Bengaluru</td>\n",
       "    </tr>\n",
       "    <tr>\n",
       "      <th>7</th>\n",
       "      <td>Data Analyst</td>\n",
       "      <td>Zetwerk Manufacturing Businesses</td>\n",
       "      <td>1-3 Yrs</td>\n",
       "      <td>Bangalore/Bengaluru</td>\n",
       "    </tr>\n",
       "    <tr>\n",
       "      <th>8</th>\n",
       "      <td>People Data Analyst</td>\n",
       "      <td>Walmart</td>\n",
       "      <td>4-10 Yrs</td>\n",
       "      <td>Bangalore/Bengaluru</td>\n",
       "    </tr>\n",
       "    <tr>\n",
       "      <th>9</th>\n",
       "      <td>Data Analyst</td>\n",
       "      <td>Enrich talents</td>\n",
       "      <td>0-4 Yrs</td>\n",
       "      <td>Bangalore/Bengaluru</td>\n",
       "    </tr>\n",
       "  </tbody>\n",
       "</table>\n",
       "</div>"
      ],
      "text/plain": [
       "                            titles                           company  \\\n",
       "0                  Data Analyst II                            Cerner   \n",
       "1           Senior Data Analyst II                          Flipkart   \n",
       "2           Senior Data Analyst II                          Flipkart   \n",
       "3  Senior Data Analyst - Logistics                             Gojek   \n",
       "4              Senior Data Analyst                          Flipkart   \n",
       "5  Sr Domain Expert -Data Analysts                           Siemens   \n",
       "6        Consultant - Data Analyst                          Flipkart   \n",
       "7                     Data Analyst  Zetwerk Manufacturing Businesses   \n",
       "8              People Data Analyst                           Walmart   \n",
       "9                     Data Analyst                    Enrich talents   \n",
       "\n",
       "  expereince            locations  \n",
       "0   6-10 Yrs  Bangalore/Bengaluru  \n",
       "1    2-4 Yrs  Bangalore/Bengaluru  \n",
       "2    3-6 Yrs  Bangalore/Bengaluru  \n",
       "3   4-10 Yrs  Bangalore/Bengaluru  \n",
       "4    4-6 Yrs  Bangalore/Bengaluru  \n",
       "5   0-10 Yrs  Bangalore/Bengaluru  \n",
       "6    1-3 Yrs  Bangalore/Bengaluru  \n",
       "7    1-3 Yrs  Bangalore/Bengaluru  \n",
       "8   4-10 Yrs  Bangalore/Bengaluru  \n",
       "9    0-4 Yrs  Bangalore/Bengaluru  "
      ]
     },
     "execution_count": 20,
     "metadata": {},
     "output_type": "execute_result"
    }
   ],
   "source": [
    "jobs.head(10)"
   ]
  },
  {
   "cell_type": "code",
   "execution_count": 21,
   "id": "4856325b",
   "metadata": {},
   "outputs": [],
   "source": [
    "#Q3: In this question you have to scrape data using the filters available on the webpage as shown below:\n",
    "#You have to scrape data for “Data Scientist” designation for first 10 job results.\n",
    "#You have to scrape the job-title, job-location, company name, experience required.\n",
    "#The location filter to be used is “Delhi/NCR”. The salary filter to be used is “3-6” lakhs"
   ]
  },
  {
   "cell_type": "code",
   "execution_count": 22,
   "id": "4443e50b",
   "metadata": {},
   "outputs": [],
   "source": [
    "import selenium\n",
    "import pandas as pd\n",
    "from selenium import webdriver\n",
    "import warnings\n",
    "warnings.filterwarnings('ignore')\n",
    "import time"
   ]
  },
  {
   "cell_type": "code",
   "execution_count": 23,
   "id": "dfa8c117",
   "metadata": {},
   "outputs": [],
   "source": [
    "driver=webdriver.Chrome(r'C:\\Users\\akash\\Downloads\\chromedriver_win32\\chromedriver.exe')"
   ]
  },
  {
   "cell_type": "code",
   "execution_count": 24,
   "id": "b18ed47a",
   "metadata": {},
   "outputs": [],
   "source": [
    "driver.get('https://www.naukri.com/')"
   ]
  },
  {
   "cell_type": "code",
   "execution_count": 25,
   "id": "3a2b5ce9",
   "metadata": {},
   "outputs": [],
   "source": [
    "search_field_designation=driver.find_element_by_class_name('suggestor-input') #job search bar\n",
    "search_field_designation.send_keys('Data Scientist')"
   ]
  },
  {
   "cell_type": "code",
   "execution_count": 26,
   "id": "01c483e3",
   "metadata": {},
   "outputs": [],
   "source": [
    "search_button=driver.find_element_by_xpath('/html/body/div/div[2]/div[3]/div/div/div[6]')\n",
    "search_button.click()"
   ]
  },
  {
   "cell_type": "code",
   "execution_count": 27,
   "id": "3dd18a70",
   "metadata": {},
   "outputs": [],
   "source": [
    "job_titles=[]\n",
    "company_names=[]\n",
    "locations_list=[]\n",
    "experience_list=[]"
   ]
  },
  {
   "cell_type": "code",
   "execution_count": 28,
   "id": "053be150",
   "metadata": {},
   "outputs": [
    {
     "data": {
      "text/plain": [
       "[<selenium.webdriver.remote.webelement.WebElement (session=\"f632e2b8f6dcf36539142209f7b0706a\", element=\"754e7df9-5378-4c69-80a6-c10bfa584ba1\")>,\n",
       " <selenium.webdriver.remote.webelement.WebElement (session=\"f632e2b8f6dcf36539142209f7b0706a\", element=\"b13228e4-eb82-41e6-ba47-e58294359d75\")>,\n",
       " <selenium.webdriver.remote.webelement.WebElement (session=\"f632e2b8f6dcf36539142209f7b0706a\", element=\"2394fac9-d6ac-4871-b0d4-77c5b68b4655\")>,\n",
       " <selenium.webdriver.remote.webelement.WebElement (session=\"f632e2b8f6dcf36539142209f7b0706a\", element=\"be11961b-ceb7-40e6-b153-1e21401ea962\")>]"
      ]
     },
     "execution_count": 28,
     "metadata": {},
     "output_type": "execute_result"
    }
   ],
   "source": [
    "titles_tags=driver.find_elements_by_xpath(\"//a[@class='title fw500 ellipsis']\")\n",
    "titles_tags[0:4]"
   ]
  },
  {
   "cell_type": "code",
   "execution_count": 29,
   "id": "e010798f",
   "metadata": {},
   "outputs": [
    {
     "data": {
      "text/plain": [
       "['Opening For Data Scientist',\n",
       " 'Hiring For Senior Data Scientist-Noida',\n",
       " 'Data Scientist/ Machine Learning, 2022 Passout Can also apply',\n",
       " 'Data Scientist (freelance)']"
      ]
     },
     "execution_count": 29,
     "metadata": {},
     "output_type": "execute_result"
    }
   ],
   "source": [
    "for i in titles_tags:\n",
    "    title=i.text\n",
    "    job_titles.append(title)\n",
    "job_titles[0:4]"
   ]
  },
  {
   "cell_type": "code",
   "execution_count": 30,
   "id": "92da7092",
   "metadata": {},
   "outputs": [
    {
     "data": {
      "text/plain": [
       "[<selenium.webdriver.remote.webelement.WebElement (session=\"f632e2b8f6dcf36539142209f7b0706a\", element=\"0740758a-03ff-493c-aec5-8e1b1ce2ec9b\")>,\n",
       " <selenium.webdriver.remote.webelement.WebElement (session=\"f632e2b8f6dcf36539142209f7b0706a\", element=\"14414d98-bcb8-4806-80d1-71340f43d81d\")>,\n",
       " <selenium.webdriver.remote.webelement.WebElement (session=\"f632e2b8f6dcf36539142209f7b0706a\", element=\"f34ae028-7994-48ee-959d-995af6cc5b2f\")>,\n",
       " <selenium.webdriver.remote.webelement.WebElement (session=\"f632e2b8f6dcf36539142209f7b0706a\", element=\"0e59043d-9bff-4f55-b8a0-35e64b8a4197\")>]"
      ]
     },
     "execution_count": 30,
     "metadata": {},
     "output_type": "execute_result"
    }
   ],
   "source": [
    "companies_tags=driver.find_elements_by_xpath(\"//a[@class='subTitle ellipsis fleft']\")\n",
    "companies_tags[0:4]"
   ]
  },
  {
   "cell_type": "code",
   "execution_count": 31,
   "id": "55585c58",
   "metadata": {},
   "outputs": [
    {
     "data": {
      "text/plain": [
       "['Care Health Insurance',\n",
       " 'Lumiq.ai',\n",
       " 'Creative Hands HR Consultancy',\n",
       " '2Coms',\n",
       " 'BlackBuck']"
      ]
     },
     "execution_count": 31,
     "metadata": {},
     "output_type": "execute_result"
    }
   ],
   "source": [
    "for i in companies_tags:\n",
    "    company_name=i.text\n",
    "    company_names.append(company_name)\n",
    "company_names[0:5]"
   ]
  },
  {
   "cell_type": "code",
   "execution_count": 32,
   "id": "bf5d73f2",
   "metadata": {},
   "outputs": [
    {
     "data": {
      "text/plain": [
       "[<selenium.webdriver.remote.webelement.WebElement (session=\"f632e2b8f6dcf36539142209f7b0706a\", element=\"648a5c68-c534-4372-ba35-4e9018611e42\")>,\n",
       " <selenium.webdriver.remote.webelement.WebElement (session=\"f632e2b8f6dcf36539142209f7b0706a\", element=\"355c5b76-dda1-45f9-8e8f-3cb105c5a937\")>,\n",
       " <selenium.webdriver.remote.webelement.WebElement (session=\"f632e2b8f6dcf36539142209f7b0706a\", element=\"cca699b9-fbc8-4975-82ef-0b74d7c81e41\")>,\n",
       " <selenium.webdriver.remote.webelement.WebElement (session=\"f632e2b8f6dcf36539142209f7b0706a\", element=\"1400a30f-b5a9-4f88-a697-4f7fb712e3c0\")>]"
      ]
     },
     "execution_count": 32,
     "metadata": {},
     "output_type": "execute_result"
    }
   ],
   "source": [
    "locations_tags=driver.find_elements_by_xpath(\"//li[@class='fleft grey-text br2 placeHolderLi location']/span[1]\")\n",
    "locations_tags[0:4]"
   ]
  },
  {
   "cell_type": "code",
   "execution_count": 33,
   "id": "aa6840d8",
   "metadata": {},
   "outputs": [
    {
     "data": {
      "text/plain": [
       "['Gurgaon/Gurugram',\n",
       " 'Noida, Greater Noida, Delhi / NCR',\n",
       " 'Hyderabad/Secunderabad, Ahmedabad, Chennai, Bangalore/Bengaluru, Delhi / NCR, Mumbai (All Areas)',\n",
       " 'New Delhi, Delhi']"
      ]
     },
     "execution_count": 33,
     "metadata": {},
     "output_type": "execute_result"
    }
   ],
   "source": [
    "for i in locations_tags:\n",
    "    location=i.text\n",
    "    locations_list.append(location)\n",
    "locations_list[0:4]"
   ]
  },
  {
   "cell_type": "code",
   "execution_count": 34,
   "id": "2c0f7622",
   "metadata": {},
   "outputs": [
    {
     "data": {
      "text/plain": [
       "[<selenium.webdriver.remote.webelement.WebElement (session=\"f632e2b8f6dcf36539142209f7b0706a\", element=\"c7632aca-6ed5-47c2-b7de-8be4afc50ca2\")>,\n",
       " <selenium.webdriver.remote.webelement.WebElement (session=\"f632e2b8f6dcf36539142209f7b0706a\", element=\"89d01b63-94a0-4111-81a0-bde371c5afd2\")>,\n",
       " <selenium.webdriver.remote.webelement.WebElement (session=\"f632e2b8f6dcf36539142209f7b0706a\", element=\"28f78ea0-7330-4850-a92a-0d528829e8d8\")>,\n",
       " <selenium.webdriver.remote.webelement.WebElement (session=\"f632e2b8f6dcf36539142209f7b0706a\", element=\"03f36a1e-f0fb-4011-985d-b9538898fa32\")>]"
      ]
     },
     "execution_count": 34,
     "metadata": {},
     "output_type": "execute_result"
    }
   ],
   "source": [
    "experience_tags=driver.find_elements_by_xpath(\"//li[@class='fleft grey-text br2 placeHolderLi experience']/span[1]\")\n",
    "experience_tags[0:4]"
   ]
  },
  {
   "cell_type": "code",
   "execution_count": 35,
   "id": "2d7dcb65",
   "metadata": {},
   "outputs": [
    {
     "data": {
      "text/plain": [
       "['1-5 Yrs', '2-6 Yrs', '0-4 Yrs', '2-7 Yrs']"
      ]
     },
     "execution_count": 35,
     "metadata": {},
     "output_type": "execute_result"
    }
   ],
   "source": [
    "for i in experience_tags:\n",
    "    experience=i.text\n",
    "    experience_list.append(experience)\n",
    "experience_list[0:4]"
   ]
  },
  {
   "cell_type": "code",
   "execution_count": 36,
   "id": "3dfc898c",
   "metadata": {},
   "outputs": [
    {
     "name": "stdout",
     "output_type": "stream",
     "text": [
      "20 20 20 20\n"
     ]
    }
   ],
   "source": [
    "print(len(job_titles),len(company_names),len(experience_list),len(locations_list))"
   ]
  },
  {
   "cell_type": "code",
   "execution_count": 37,
   "id": "068f15c6",
   "metadata": {},
   "outputs": [],
   "source": [
    "jobs=pd.DataFrame({})\n",
    "jobs['titles']=job_titles \n",
    "jobs['company']=company_names\n",
    "jobs['expereince']=experience_list\n",
    "jobs['locations']=locations_list"
   ]
  },
  {
   "cell_type": "code",
   "execution_count": 38,
   "id": "bb52c155",
   "metadata": {},
   "outputs": [
    {
     "data": {
      "text/html": [
       "<div>\n",
       "<style scoped>\n",
       "    .dataframe tbody tr th:only-of-type {\n",
       "        vertical-align: middle;\n",
       "    }\n",
       "\n",
       "    .dataframe tbody tr th {\n",
       "        vertical-align: top;\n",
       "    }\n",
       "\n",
       "    .dataframe thead th {\n",
       "        text-align: right;\n",
       "    }\n",
       "</style>\n",
       "<table border=\"1\" class=\"dataframe\">\n",
       "  <thead>\n",
       "    <tr style=\"text-align: right;\">\n",
       "      <th></th>\n",
       "      <th>titles</th>\n",
       "      <th>company</th>\n",
       "      <th>expereince</th>\n",
       "      <th>locations</th>\n",
       "    </tr>\n",
       "  </thead>\n",
       "  <tbody>\n",
       "    <tr>\n",
       "      <th>0</th>\n",
       "      <td>Opening For Data Scientist</td>\n",
       "      <td>Care Health Insurance</td>\n",
       "      <td>1-5 Yrs</td>\n",
       "      <td>Gurgaon/Gurugram</td>\n",
       "    </tr>\n",
       "    <tr>\n",
       "      <th>1</th>\n",
       "      <td>Hiring For Senior Data Scientist-Noida</td>\n",
       "      <td>Lumiq.ai</td>\n",
       "      <td>2-6 Yrs</td>\n",
       "      <td>Noida, Greater Noida, Delhi / NCR</td>\n",
       "    </tr>\n",
       "    <tr>\n",
       "      <th>2</th>\n",
       "      <td>Data Scientist/ Machine Learning, 2022 Passout...</td>\n",
       "      <td>Creative Hands HR Consultancy</td>\n",
       "      <td>0-4 Yrs</td>\n",
       "      <td>Hyderabad/Secunderabad, Ahmedabad, Chennai, Ba...</td>\n",
       "    </tr>\n",
       "    <tr>\n",
       "      <th>3</th>\n",
       "      <td>Data Scientist (freelance)</td>\n",
       "      <td>2Coms</td>\n",
       "      <td>2-7 Yrs</td>\n",
       "      <td>New Delhi, Delhi</td>\n",
       "    </tr>\n",
       "    <tr>\n",
       "      <th>4</th>\n",
       "      <td>Data Scientist</td>\n",
       "      <td>BlackBuck</td>\n",
       "      <td>3-7 Yrs</td>\n",
       "      <td>Gurgaon, Bengaluru</td>\n",
       "    </tr>\n",
       "    <tr>\n",
       "      <th>5</th>\n",
       "      <td>Data Scientist</td>\n",
       "      <td>Boston Consulting Group</td>\n",
       "      <td>2-5 Yrs</td>\n",
       "      <td>New Delhi</td>\n",
       "    </tr>\n",
       "    <tr>\n",
       "      <th>6</th>\n",
       "      <td>Urgent Requirement || Data Scientist || Noida</td>\n",
       "      <td>HCL Technologies</td>\n",
       "      <td>3-8 Yrs</td>\n",
       "      <td>Noida, Delhi / NCR</td>\n",
       "    </tr>\n",
       "    <tr>\n",
       "      <th>7</th>\n",
       "      <td>AM Data Scientist - Goods &amp; Service Tax Networ...</td>\n",
       "      <td>NISG (National Institute for Smart Government)</td>\n",
       "      <td>3-8 Yrs</td>\n",
       "      <td>Delhi / NCR</td>\n",
       "    </tr>\n",
       "    <tr>\n",
       "      <th>8</th>\n",
       "      <td>Data Scientist - MIND Infotech</td>\n",
       "      <td>MOTHERSONSUMI INFOTECH &amp; DESIGNS LIMITED</td>\n",
       "      <td>4-8 Yrs</td>\n",
       "      <td>Noida</td>\n",
       "    </tr>\n",
       "    <tr>\n",
       "      <th>9</th>\n",
       "      <td>Senior Data Scientist</td>\n",
       "      <td>iNICU</td>\n",
       "      <td>1-5 Yrs</td>\n",
       "      <td>Delhi</td>\n",
       "    </tr>\n",
       "  </tbody>\n",
       "</table>\n",
       "</div>"
      ],
      "text/plain": [
       "                                              titles  \\\n",
       "0                         Opening For Data Scientist   \n",
       "1             Hiring For Senior Data Scientist-Noida   \n",
       "2  Data Scientist/ Machine Learning, 2022 Passout...   \n",
       "3                         Data Scientist (freelance)   \n",
       "4                                     Data Scientist   \n",
       "5                                     Data Scientist   \n",
       "6      Urgent Requirement || Data Scientist || Noida   \n",
       "7  AM Data Scientist - Goods & Service Tax Networ...   \n",
       "8                     Data Scientist - MIND Infotech   \n",
       "9                              Senior Data Scientist   \n",
       "\n",
       "                                          company expereince  \\\n",
       "0                           Care Health Insurance    1-5 Yrs   \n",
       "1                                        Lumiq.ai    2-6 Yrs   \n",
       "2                   Creative Hands HR Consultancy    0-4 Yrs   \n",
       "3                                           2Coms    2-7 Yrs   \n",
       "4                                       BlackBuck    3-7 Yrs   \n",
       "5                         Boston Consulting Group    2-5 Yrs   \n",
       "6                                HCL Technologies    3-8 Yrs   \n",
       "7  NISG (National Institute for Smart Government)    3-8 Yrs   \n",
       "8        MOTHERSONSUMI INFOTECH & DESIGNS LIMITED    4-8 Yrs   \n",
       "9                                           iNICU    1-5 Yrs   \n",
       "\n",
       "                                           locations  \n",
       "0                                   Gurgaon/Gurugram  \n",
       "1                  Noida, Greater Noida, Delhi / NCR  \n",
       "2  Hyderabad/Secunderabad, Ahmedabad, Chennai, Ba...  \n",
       "3                                   New Delhi, Delhi  \n",
       "4                                 Gurgaon, Bengaluru  \n",
       "5                                          New Delhi  \n",
       "6                                 Noida, Delhi / NCR  \n",
       "7                                        Delhi / NCR  \n",
       "8                                              Noida  \n",
       "9                                              Delhi  "
      ]
     },
     "execution_count": 38,
     "metadata": {},
     "output_type": "execute_result"
    }
   ],
   "source": [
    "jobs.head(10)"
   ]
  },
  {
   "cell_type": "code",
   "execution_count": 39,
   "id": "b3f0d7ba",
   "metadata": {},
   "outputs": [],
   "source": [
    "#Q4: Scrape data of first 100 sunglasses listings on flipkart.com. You have to scrape four attributes:\n",
    "#1. Brand\n",
    "#2. Product Description\n",
    "#3. Price"
   ]
  },
  {
   "cell_type": "code",
   "execution_count": 40,
   "id": "919c4b90",
   "metadata": {},
   "outputs": [],
   "source": [
    "import selenium\n",
    "import pandas as pd\n",
    "from selenium import webdriver\n",
    "import warnings\n",
    "warnings.filterwarnings('ignore')\n",
    "import time "
   ]
  },
  {
   "cell_type": "code",
   "execution_count": 41,
   "id": "a5843613",
   "metadata": {},
   "outputs": [],
   "source": [
    "driver=webdriver.Chrome(r'C:\\Users\\akash\\Downloads\\chromedriver_win32\\chromedriver.exe')\n",
    "\n",
    "driver.get('https://www.flipkart.com/')\n",
    "\n",
    "search_field_designation=driver.find_element_by_class_name('_3704LK') #job search bar\n",
    "search_field_designation.send_keys('sunglasses')"
   ]
  },
  {
   "cell_type": "code",
   "execution_count": 42,
   "id": "3e1c8c34",
   "metadata": {},
   "outputs": [],
   "source": [
    "Brands_list=[]\n",
    "Product_list=[]\n",
    "Price_list=[]"
   ]
  },
  {
   "cell_type": "code",
   "execution_count": 43,
   "id": "88959e54",
   "metadata": {},
   "outputs": [
    {
     "data": {
      "text/plain": [
       "[<selenium.webdriver.remote.webelement.WebElement (session=\"abfdf1a165f7ee55af60e7576d96988e\", element=\"97890c51-5483-44fb-837b-224d6593b8e2\")>,\n",
       " <selenium.webdriver.remote.webelement.WebElement (session=\"abfdf1a165f7ee55af60e7576d96988e\", element=\"28e59f0c-4171-4aaa-9722-824b3690d38d\")>,\n",
       " <selenium.webdriver.remote.webelement.WebElement (session=\"abfdf1a165f7ee55af60e7576d96988e\", element=\"bfddb333-c681-4008-93b4-c55b78a1b47b\")>,\n",
       " <selenium.webdriver.remote.webelement.WebElement (session=\"abfdf1a165f7ee55af60e7576d96988e\", element=\"1e58d983-3a42-448a-8723-c4b3bb186ca0\")>,\n",
       " <selenium.webdriver.remote.webelement.WebElement (session=\"abfdf1a165f7ee55af60e7576d96988e\", element=\"843bd03d-7765-425c-9317-75c6396fcacf\")>,\n",
       " <selenium.webdriver.remote.webelement.WebElement (session=\"abfdf1a165f7ee55af60e7576d96988e\", element=\"34b63ce4-bd8d-4d94-80a1-1b80fcf16e43\")>,\n",
       " <selenium.webdriver.remote.webelement.WebElement (session=\"abfdf1a165f7ee55af60e7576d96988e\", element=\"68bc549a-1096-4997-abae-c617662fafb4\")>,\n",
       " <selenium.webdriver.remote.webelement.WebElement (session=\"abfdf1a165f7ee55af60e7576d96988e\", element=\"b2dc0ca9-6bee-4bd5-bcd6-5bc241c757cc\")>,\n",
       " <selenium.webdriver.remote.webelement.WebElement (session=\"abfdf1a165f7ee55af60e7576d96988e\", element=\"2c13a245-2e12-4ef4-ba36-6cb537f9d902\")>,\n",
       " <selenium.webdriver.remote.webelement.WebElement (session=\"abfdf1a165f7ee55af60e7576d96988e\", element=\"3d45c285-2036-4641-9dc1-16c524bf3b59\")>,\n",
       " <selenium.webdriver.remote.webelement.WebElement (session=\"abfdf1a165f7ee55af60e7576d96988e\", element=\"b2b47fc0-00ef-43a3-8fff-0a5cee68ef08\")>,\n",
       " <selenium.webdriver.remote.webelement.WebElement (session=\"abfdf1a165f7ee55af60e7576d96988e\", element=\"71b8937f-2356-4b34-b17b-52f814fba096\")>,\n",
       " <selenium.webdriver.remote.webelement.WebElement (session=\"abfdf1a165f7ee55af60e7576d96988e\", element=\"3c8efe0f-e5b5-4197-9c2a-aaff8a90d4e9\")>,\n",
       " <selenium.webdriver.remote.webelement.WebElement (session=\"abfdf1a165f7ee55af60e7576d96988e\", element=\"fb21293e-84c0-4ac9-a52e-1b78b52c7d8e\")>,\n",
       " <selenium.webdriver.remote.webelement.WebElement (session=\"abfdf1a165f7ee55af60e7576d96988e\", element=\"137e14a8-a12f-447f-a0d7-d2c93bc8134a\")>,\n",
       " <selenium.webdriver.remote.webelement.WebElement (session=\"abfdf1a165f7ee55af60e7576d96988e\", element=\"9eac609a-4fbd-492e-a8e7-3d4eb683e9c1\")>,\n",
       " <selenium.webdriver.remote.webelement.WebElement (session=\"abfdf1a165f7ee55af60e7576d96988e\", element=\"0c1cd8ed-dac9-47b0-96aa-77235bfe2699\")>,\n",
       " <selenium.webdriver.remote.webelement.WebElement (session=\"abfdf1a165f7ee55af60e7576d96988e\", element=\"83b9de76-3072-4599-befb-adf01667df0a\")>,\n",
       " <selenium.webdriver.remote.webelement.WebElement (session=\"abfdf1a165f7ee55af60e7576d96988e\", element=\"a9944460-19a7-47ca-8ccf-84357b9d4385\")>,\n",
       " <selenium.webdriver.remote.webelement.WebElement (session=\"abfdf1a165f7ee55af60e7576d96988e\", element=\"d815dbcf-8d5a-4103-b234-7fe562efbfd4\")>,\n",
       " <selenium.webdriver.remote.webelement.WebElement (session=\"abfdf1a165f7ee55af60e7576d96988e\", element=\"b880f54a-9774-4492-bad2-5343aeb585a9\")>,\n",
       " <selenium.webdriver.remote.webelement.WebElement (session=\"abfdf1a165f7ee55af60e7576d96988e\", element=\"dcd4060f-5796-460b-9b91-75cb5c4f38cb\")>,\n",
       " <selenium.webdriver.remote.webelement.WebElement (session=\"abfdf1a165f7ee55af60e7576d96988e\", element=\"4853fe17-4907-4fbd-a16c-ce44455fa248\")>,\n",
       " <selenium.webdriver.remote.webelement.WebElement (session=\"abfdf1a165f7ee55af60e7576d96988e\", element=\"f67c6a10-56dc-4581-ad98-588bf9639d3f\")>,\n",
       " <selenium.webdriver.remote.webelement.WebElement (session=\"abfdf1a165f7ee55af60e7576d96988e\", element=\"bca28722-666e-4305-babd-a9b5e872e361\")>,\n",
       " <selenium.webdriver.remote.webelement.WebElement (session=\"abfdf1a165f7ee55af60e7576d96988e\", element=\"0d404b1f-498d-4593-977d-2eb6feba85ec\")>,\n",
       " <selenium.webdriver.remote.webelement.WebElement (session=\"abfdf1a165f7ee55af60e7576d96988e\", element=\"a99f6b18-1bbf-47f9-849c-ed15612e0654\")>,\n",
       " <selenium.webdriver.remote.webelement.WebElement (session=\"abfdf1a165f7ee55af60e7576d96988e\", element=\"fd104231-0e42-4c38-81ea-9e0af30c9526\")>,\n",
       " <selenium.webdriver.remote.webelement.WebElement (session=\"abfdf1a165f7ee55af60e7576d96988e\", element=\"3e7cce58-6236-4457-8492-174495ca08f5\")>,\n",
       " <selenium.webdriver.remote.webelement.WebElement (session=\"abfdf1a165f7ee55af60e7576d96988e\", element=\"d167879c-ad33-4667-98bd-96b09b76378b\")>,\n",
       " <selenium.webdriver.remote.webelement.WebElement (session=\"abfdf1a165f7ee55af60e7576d96988e\", element=\"95894641-1bf9-4264-a0fd-b00b1f3f2933\")>,\n",
       " <selenium.webdriver.remote.webelement.WebElement (session=\"abfdf1a165f7ee55af60e7576d96988e\", element=\"9f1a1099-fab4-46d6-8a5d-02a6cae37ded\")>,\n",
       " <selenium.webdriver.remote.webelement.WebElement (session=\"abfdf1a165f7ee55af60e7576d96988e\", element=\"7cfd161a-e598-4163-b7a3-8f388e78c51c\")>,\n",
       " <selenium.webdriver.remote.webelement.WebElement (session=\"abfdf1a165f7ee55af60e7576d96988e\", element=\"aef88063-78de-46c5-bd7e-1d3f391c2f39\")>,\n",
       " <selenium.webdriver.remote.webelement.WebElement (session=\"abfdf1a165f7ee55af60e7576d96988e\", element=\"462acc22-6419-4e0d-854b-677901bccd32\")>,\n",
       " <selenium.webdriver.remote.webelement.WebElement (session=\"abfdf1a165f7ee55af60e7576d96988e\", element=\"ca98606c-1b11-421d-a73c-4404225ba7a1\")>,\n",
       " <selenium.webdriver.remote.webelement.WebElement (session=\"abfdf1a165f7ee55af60e7576d96988e\", element=\"d9c836f3-9c35-4e04-a18a-62334d66a475\")>,\n",
       " <selenium.webdriver.remote.webelement.WebElement (session=\"abfdf1a165f7ee55af60e7576d96988e\", element=\"9aba6944-9c7a-439c-b9c2-5ac142380943\")>,\n",
       " <selenium.webdriver.remote.webelement.WebElement (session=\"abfdf1a165f7ee55af60e7576d96988e\", element=\"1f8641c1-dafa-48c0-83a1-7d5d978d6898\")>,\n",
       " <selenium.webdriver.remote.webelement.WebElement (session=\"abfdf1a165f7ee55af60e7576d96988e\", element=\"bf58d8e3-effd-4b42-be66-f8d1f1731961\")>]"
      ]
     },
     "execution_count": 43,
     "metadata": {},
     "output_type": "execute_result"
    }
   ],
   "source": [
    "Brands_tags=driver.find_elements_by_xpath(\"//div[@class='_2WkVRV']\")\n",
    "Brands_tags"
   ]
  },
  {
   "cell_type": "code",
   "execution_count": 44,
   "id": "f418cff4",
   "metadata": {},
   "outputs": [
    {
     "data": {
      "text/plain": [
       "['Elligator',\n",
       " 'PIRASO',\n",
       " 'New Specs',\n",
       " 'Fastrack',\n",
       " 'SHAAH COLLECTIONS',\n",
       " 'SRPM',\n",
       " 'Lee Topper',\n",
       " 'PIRASO',\n",
       " 'SUNBEE',\n",
       " 'Lee Topper',\n",
       " 'SUNBEE',\n",
       " 'New Specs',\n",
       " 'PIRASO',\n",
       " 'ROZZETTA CRAFT',\n",
       " 'PIRASO',\n",
       " 'Fastrack',\n",
       " 'hipe',\n",
       " 'SRPM',\n",
       " 'kingsunglasses',\n",
       " 'SUNBEE',\n",
       " 'hipe',\n",
       " 'Fastrack',\n",
       " 'GANSTA',\n",
       " 'DEIXELS',\n",
       " 'hipe',\n",
       " 'PHENOMENAL',\n",
       " 'kingsunglasses',\n",
       " 'Fastrack',\n",
       " 'kingsunglasses',\n",
       " 'SRPM',\n",
       " 'SHAAH COLLECTIONS',\n",
       " 'Singco India',\n",
       " 'PIRASO',\n",
       " 'kingsunglasses',\n",
       " 'hipe',\n",
       " 'Elligator',\n",
       " 'ROZZETTA CRAFT',\n",
       " 'Fastrack',\n",
       " 'GANSTA',\n",
       " 'HIPPON']"
      ]
     },
     "execution_count": 44,
     "metadata": {},
     "output_type": "execute_result"
    }
   ],
   "source": [
    "for i in Brands_tags:\n",
    "    Brands=i.text\n",
    "    Brands_list.append(Brands)\n",
    "Brands_list"
   ]
  },
  {
   "cell_type": "code",
   "execution_count": 45,
   "id": "89fb0920",
   "metadata": {},
   "outputs": [
    {
     "data": {
      "text/plain": [
       "[<selenium.webdriver.remote.webelement.WebElement (session=\"abfdf1a165f7ee55af60e7576d96988e\", element=\"8eb0a578-0f1e-4a49-b17e-20a66dc72cf3\")>,\n",
       " <selenium.webdriver.remote.webelement.WebElement (session=\"abfdf1a165f7ee55af60e7576d96988e\", element=\"ecfe8244-27fd-40bc-9298-955c42077e77\")>,\n",
       " <selenium.webdriver.remote.webelement.WebElement (session=\"abfdf1a165f7ee55af60e7576d96988e\", element=\"784e0257-8403-40f1-a105-1332740d0847\")>,\n",
       " <selenium.webdriver.remote.webelement.WebElement (session=\"abfdf1a165f7ee55af60e7576d96988e\", element=\"2b0151c8-f93f-460e-9416-83be7b9367f0\")>,\n",
       " <selenium.webdriver.remote.webelement.WebElement (session=\"abfdf1a165f7ee55af60e7576d96988e\", element=\"7035abbe-b2da-4400-93e3-099e9cbe7a8b\")>,\n",
       " <selenium.webdriver.remote.webelement.WebElement (session=\"abfdf1a165f7ee55af60e7576d96988e\", element=\"62dbc2af-dfd1-4218-9ffa-6f522a0db042\")>,\n",
       " <selenium.webdriver.remote.webelement.WebElement (session=\"abfdf1a165f7ee55af60e7576d96988e\", element=\"76e3a8d5-7b64-4c57-89e3-5585d9faa2d0\")>,\n",
       " <selenium.webdriver.remote.webelement.WebElement (session=\"abfdf1a165f7ee55af60e7576d96988e\", element=\"b50c86ec-6c2b-4228-b115-65873c53740f\")>,\n",
       " <selenium.webdriver.remote.webelement.WebElement (session=\"abfdf1a165f7ee55af60e7576d96988e\", element=\"3903b8e3-6f46-48d4-a0e3-2d1cf97b6925\")>,\n",
       " <selenium.webdriver.remote.webelement.WebElement (session=\"abfdf1a165f7ee55af60e7576d96988e\", element=\"43587a0a-29dc-4478-8020-13875bee0f9b\")>,\n",
       " <selenium.webdriver.remote.webelement.WebElement (session=\"abfdf1a165f7ee55af60e7576d96988e\", element=\"4c33be3e-06d1-4aac-bc5f-ca4af246f1d3\")>,\n",
       " <selenium.webdriver.remote.webelement.WebElement (session=\"abfdf1a165f7ee55af60e7576d96988e\", element=\"6c5dc2bd-4fe2-49f8-affd-af4811c00ebf\")>,\n",
       " <selenium.webdriver.remote.webelement.WebElement (session=\"abfdf1a165f7ee55af60e7576d96988e\", element=\"5206cf78-b50a-43d1-a521-70e33b2eabab\")>,\n",
       " <selenium.webdriver.remote.webelement.WebElement (session=\"abfdf1a165f7ee55af60e7576d96988e\", element=\"47ae168f-a006-402b-ae0d-50effae0f10d\")>,\n",
       " <selenium.webdriver.remote.webelement.WebElement (session=\"abfdf1a165f7ee55af60e7576d96988e\", element=\"0c9b13b9-792d-43eb-a4f4-0cca55b0a904\")>,\n",
       " <selenium.webdriver.remote.webelement.WebElement (session=\"abfdf1a165f7ee55af60e7576d96988e\", element=\"f7e199f1-68c5-4c71-b5c4-8d1d897a4022\")>,\n",
       " <selenium.webdriver.remote.webelement.WebElement (session=\"abfdf1a165f7ee55af60e7576d96988e\", element=\"bb32aafa-c69d-45c9-883e-a0fb2fd0bd86\")>,\n",
       " <selenium.webdriver.remote.webelement.WebElement (session=\"abfdf1a165f7ee55af60e7576d96988e\", element=\"755a5802-7807-4b6a-bd01-c9603d3cb0ca\")>,\n",
       " <selenium.webdriver.remote.webelement.WebElement (session=\"abfdf1a165f7ee55af60e7576d96988e\", element=\"a19d2a53-c37f-4e8b-ba11-6fb3e37834ec\")>,\n",
       " <selenium.webdriver.remote.webelement.WebElement (session=\"abfdf1a165f7ee55af60e7576d96988e\", element=\"40da7931-fd00-4504-8f0d-6947c77368db\")>,\n",
       " <selenium.webdriver.remote.webelement.WebElement (session=\"abfdf1a165f7ee55af60e7576d96988e\", element=\"4c0817da-67be-4072-a8cf-0f26f7038479\")>,\n",
       " <selenium.webdriver.remote.webelement.WebElement (session=\"abfdf1a165f7ee55af60e7576d96988e\", element=\"f7e61c3d-c29c-4d67-ae7c-4e3a64de8e57\")>,\n",
       " <selenium.webdriver.remote.webelement.WebElement (session=\"abfdf1a165f7ee55af60e7576d96988e\", element=\"4260cbfa-4539-4fd4-a498-3ef7ebeb1d1c\")>,\n",
       " <selenium.webdriver.remote.webelement.WebElement (session=\"abfdf1a165f7ee55af60e7576d96988e\", element=\"94c7c2c0-0b05-4a0f-b77b-2d2ace743805\")>,\n",
       " <selenium.webdriver.remote.webelement.WebElement (session=\"abfdf1a165f7ee55af60e7576d96988e\", element=\"7490c5f9-332d-4ec8-b395-426a54744f65\")>,\n",
       " <selenium.webdriver.remote.webelement.WebElement (session=\"abfdf1a165f7ee55af60e7576d96988e\", element=\"2b8b52a8-124e-4ff4-aac4-62f1df374d3d\")>,\n",
       " <selenium.webdriver.remote.webelement.WebElement (session=\"abfdf1a165f7ee55af60e7576d96988e\", element=\"802877f6-a4bf-4428-825b-aafba6db3745\")>,\n",
       " <selenium.webdriver.remote.webelement.WebElement (session=\"abfdf1a165f7ee55af60e7576d96988e\", element=\"9cd2476c-22b7-4780-82ff-3284bb38da69\")>,\n",
       " <selenium.webdriver.remote.webelement.WebElement (session=\"abfdf1a165f7ee55af60e7576d96988e\", element=\"954a73da-1b09-4092-a873-7dfa4813eae2\")>,\n",
       " <selenium.webdriver.remote.webelement.WebElement (session=\"abfdf1a165f7ee55af60e7576d96988e\", element=\"3ce71d1f-97d7-4338-afc6-21d4402acaae\")>,\n",
       " <selenium.webdriver.remote.webelement.WebElement (session=\"abfdf1a165f7ee55af60e7576d96988e\", element=\"7dfda198-fd1e-4af0-a940-131d91d510f4\")>,\n",
       " <selenium.webdriver.remote.webelement.WebElement (session=\"abfdf1a165f7ee55af60e7576d96988e\", element=\"7372e17c-5d4f-45e2-8fdf-c25f7b32c86c\")>,\n",
       " <selenium.webdriver.remote.webelement.WebElement (session=\"abfdf1a165f7ee55af60e7576d96988e\", element=\"a00f74ea-4f14-4894-8476-1766698e0755\")>,\n",
       " <selenium.webdriver.remote.webelement.WebElement (session=\"abfdf1a165f7ee55af60e7576d96988e\", element=\"a6b7c59c-ad3d-4cb9-ade3-9229cdd07bfe\")>,\n",
       " <selenium.webdriver.remote.webelement.WebElement (session=\"abfdf1a165f7ee55af60e7576d96988e\", element=\"8ff480ba-84e0-4d3c-879e-e917ace3fd66\")>,\n",
       " <selenium.webdriver.remote.webelement.WebElement (session=\"abfdf1a165f7ee55af60e7576d96988e\", element=\"e693dea2-29de-43e2-8146-b97545120a8c\")>,\n",
       " <selenium.webdriver.remote.webelement.WebElement (session=\"abfdf1a165f7ee55af60e7576d96988e\", element=\"0252eb56-9bc9-46b4-800e-b91d35656759\")>,\n",
       " <selenium.webdriver.remote.webelement.WebElement (session=\"abfdf1a165f7ee55af60e7576d96988e\", element=\"c6a9cb1f-4343-40a7-b44f-f6401451804b\")>,\n",
       " <selenium.webdriver.remote.webelement.WebElement (session=\"abfdf1a165f7ee55af60e7576d96988e\", element=\"db005cc9-61b1-49ba-b2b8-52fd7495db3e\")>,\n",
       " <selenium.webdriver.remote.webelement.WebElement (session=\"abfdf1a165f7ee55af60e7576d96988e\", element=\"2c7fa430-111f-4903-b1f9-227027a80e93\")>]"
      ]
     },
     "execution_count": 45,
     "metadata": {},
     "output_type": "execute_result"
    }
   ],
   "source": [
    "Price_tags=driver.find_elements_by_xpath(\"//div[@class='_30jeq3']\")\n",
    "Price_tags"
   ]
  },
  {
   "cell_type": "code",
   "execution_count": 46,
   "id": "6cdfdd9a",
   "metadata": {},
   "outputs": [
    {
     "data": {
      "text/plain": [
       "['₹295',\n",
       " '₹249',\n",
       " '₹265',\n",
       " '₹639',\n",
       " '₹185',\n",
       " '₹250',\n",
       " '₹275',\n",
       " '₹249',\n",
       " '₹273',\n",
       " '₹199',\n",
       " '₹249',\n",
       " '₹299',\n",
       " '₹249',\n",
       " '₹474',\n",
       " '₹225',\n",
       " '₹639',\n",
       " '₹229',\n",
       " '₹219',\n",
       " '₹209',\n",
       " '₹314',\n",
       " '₹210',\n",
       " '₹719',\n",
       " '₹221',\n",
       " '₹217',\n",
       " '₹233',\n",
       " '₹315',\n",
       " '₹269',\n",
       " '₹809',\n",
       " '₹245',\n",
       " '₹246',\n",
       " '₹203',\n",
       " '₹245',\n",
       " '₹399',\n",
       " '₹189',\n",
       " '₹258',\n",
       " '₹229',\n",
       " '₹499',\n",
       " '₹683',\n",
       " '₹284',\n",
       " '₹171']"
      ]
     },
     "execution_count": 46,
     "metadata": {},
     "output_type": "execute_result"
    }
   ],
   "source": [
    "for i in Price_tags:\n",
    "    Price=i.text\n",
    "    Price_list.append(Price)\n",
    "Price_list"
   ]
  },
  {
   "cell_type": "code",
   "execution_count": 47,
   "id": "6bacb215",
   "metadata": {},
   "outputs": [
    {
     "data": {
      "text/plain": [
       "[<selenium.webdriver.remote.webelement.WebElement (session=\"abfdf1a165f7ee55af60e7576d96988e\", element=\"cca43257-2c76-46bd-98a2-a3fee33dbf7d\")>,\n",
       " <selenium.webdriver.remote.webelement.WebElement (session=\"abfdf1a165f7ee55af60e7576d96988e\", element=\"09c4eb50-05c4-4d30-a827-420c1d5c47ff\")>,\n",
       " <selenium.webdriver.remote.webelement.WebElement (session=\"abfdf1a165f7ee55af60e7576d96988e\", element=\"65a6d880-91d3-4ee6-a5b4-8c4b55c8b8ac\")>,\n",
       " <selenium.webdriver.remote.webelement.WebElement (session=\"abfdf1a165f7ee55af60e7576d96988e\", element=\"918a636c-5e14-4d58-bb4e-e9af4f442b22\")>,\n",
       " <selenium.webdriver.remote.webelement.WebElement (session=\"abfdf1a165f7ee55af60e7576d96988e\", element=\"8f0b992d-1f70-4766-b440-9ecc63808dc1\")>,\n",
       " <selenium.webdriver.remote.webelement.WebElement (session=\"abfdf1a165f7ee55af60e7576d96988e\", element=\"907a1980-0dde-4c8c-a676-8400f45bdb26\")>,\n",
       " <selenium.webdriver.remote.webelement.WebElement (session=\"abfdf1a165f7ee55af60e7576d96988e\", element=\"5c561063-0ca7-4d87-bc71-51961e5c2caf\")>,\n",
       " <selenium.webdriver.remote.webelement.WebElement (session=\"abfdf1a165f7ee55af60e7576d96988e\", element=\"d20fe0ca-a3a0-49bf-b452-a7006c63f995\")>,\n",
       " <selenium.webdriver.remote.webelement.WebElement (session=\"abfdf1a165f7ee55af60e7576d96988e\", element=\"2ff5a7f9-3680-47ce-97ff-90bf4f3b3056\")>,\n",
       " <selenium.webdriver.remote.webelement.WebElement (session=\"abfdf1a165f7ee55af60e7576d96988e\", element=\"184c894f-6f39-48a9-bc9f-2eb971340adb\")>,\n",
       " <selenium.webdriver.remote.webelement.WebElement (session=\"abfdf1a165f7ee55af60e7576d96988e\", element=\"cc1f515f-2cc5-4a35-99be-1f41180c93fe\")>,\n",
       " <selenium.webdriver.remote.webelement.WebElement (session=\"abfdf1a165f7ee55af60e7576d96988e\", element=\"f3850646-b96a-417a-a6ad-053eed69f0be\")>,\n",
       " <selenium.webdriver.remote.webelement.WebElement (session=\"abfdf1a165f7ee55af60e7576d96988e\", element=\"0169ac1f-145a-4223-9f17-40eaa16698f3\")>,\n",
       " <selenium.webdriver.remote.webelement.WebElement (session=\"abfdf1a165f7ee55af60e7576d96988e\", element=\"4d6f8b66-e86b-4e21-acc5-395b26f5a6b7\")>,\n",
       " <selenium.webdriver.remote.webelement.WebElement (session=\"abfdf1a165f7ee55af60e7576d96988e\", element=\"50e45a1a-2490-41a0-b7c0-7b06fd29ccc6\")>,\n",
       " <selenium.webdriver.remote.webelement.WebElement (session=\"abfdf1a165f7ee55af60e7576d96988e\", element=\"85da0833-e06e-4be7-87ec-7e40bcc63501\")>,\n",
       " <selenium.webdriver.remote.webelement.WebElement (session=\"abfdf1a165f7ee55af60e7576d96988e\", element=\"8e6fb860-cf15-4e19-9933-f33387ed6813\")>,\n",
       " <selenium.webdriver.remote.webelement.WebElement (session=\"abfdf1a165f7ee55af60e7576d96988e\", element=\"77e966fa-898f-4872-9535-ca7771ddc4a9\")>,\n",
       " <selenium.webdriver.remote.webelement.WebElement (session=\"abfdf1a165f7ee55af60e7576d96988e\", element=\"79ee9b22-17b2-4797-b8f1-5d21cdca726d\")>,\n",
       " <selenium.webdriver.remote.webelement.WebElement (session=\"abfdf1a165f7ee55af60e7576d96988e\", element=\"406da1fc-b6a1-4957-b211-f9132272b03e\")>,\n",
       " <selenium.webdriver.remote.webelement.WebElement (session=\"abfdf1a165f7ee55af60e7576d96988e\", element=\"79e2a858-1e6c-4dd0-a7e6-8c77b43fdbf1\")>,\n",
       " <selenium.webdriver.remote.webelement.WebElement (session=\"abfdf1a165f7ee55af60e7576d96988e\", element=\"44159d18-5597-4664-8608-4dbd2afe639d\")>,\n",
       " <selenium.webdriver.remote.webelement.WebElement (session=\"abfdf1a165f7ee55af60e7576d96988e\", element=\"765a11cd-5ef8-4bff-bd79-5f129020b701\")>,\n",
       " <selenium.webdriver.remote.webelement.WebElement (session=\"abfdf1a165f7ee55af60e7576d96988e\", element=\"44a3ca8a-2478-46e9-b669-82eea5183622\")>,\n",
       " <selenium.webdriver.remote.webelement.WebElement (session=\"abfdf1a165f7ee55af60e7576d96988e\", element=\"70cdb83e-8d57-4cc8-a070-5024b803e301\")>,\n",
       " <selenium.webdriver.remote.webelement.WebElement (session=\"abfdf1a165f7ee55af60e7576d96988e\", element=\"f481301e-edbc-4127-ad88-18df96855fcc\")>,\n",
       " <selenium.webdriver.remote.webelement.WebElement (session=\"abfdf1a165f7ee55af60e7576d96988e\", element=\"c399f95f-955d-47cf-bff9-47731281958a\")>,\n",
       " <selenium.webdriver.remote.webelement.WebElement (session=\"abfdf1a165f7ee55af60e7576d96988e\", element=\"59447745-54bb-4f79-8ee2-d610265d5507\")>,\n",
       " <selenium.webdriver.remote.webelement.WebElement (session=\"abfdf1a165f7ee55af60e7576d96988e\", element=\"cce63010-23d3-4c9b-a97f-ca167aef6970\")>,\n",
       " <selenium.webdriver.remote.webelement.WebElement (session=\"abfdf1a165f7ee55af60e7576d96988e\", element=\"0493ae3b-bca4-495f-bd93-1beae32a3e7c\")>,\n",
       " <selenium.webdriver.remote.webelement.WebElement (session=\"abfdf1a165f7ee55af60e7576d96988e\", element=\"d7e98cfe-0617-4971-aea2-f072a2288065\")>,\n",
       " <selenium.webdriver.remote.webelement.WebElement (session=\"abfdf1a165f7ee55af60e7576d96988e\", element=\"ea65f9b9-ae1e-4787-8f15-2e4a4bd15146\")>,\n",
       " <selenium.webdriver.remote.webelement.WebElement (session=\"abfdf1a165f7ee55af60e7576d96988e\", element=\"74dcf546-c8ee-47d6-aed2-8aa31b89d817\")>,\n",
       " <selenium.webdriver.remote.webelement.WebElement (session=\"abfdf1a165f7ee55af60e7576d96988e\", element=\"aca02af7-e373-4de3-967e-ab0d4005efe4\")>,\n",
       " <selenium.webdriver.remote.webelement.WebElement (session=\"abfdf1a165f7ee55af60e7576d96988e\", element=\"662a39c0-9904-4b67-9e59-03717422e7d9\")>,\n",
       " <selenium.webdriver.remote.webelement.WebElement (session=\"abfdf1a165f7ee55af60e7576d96988e\", element=\"8b0e2b0d-dfd6-456d-8305-a50e545ef4b3\")>,\n",
       " <selenium.webdriver.remote.webelement.WebElement (session=\"abfdf1a165f7ee55af60e7576d96988e\", element=\"4b77778a-5736-48c1-ae42-071186d8b02a\")>,\n",
       " <selenium.webdriver.remote.webelement.WebElement (session=\"abfdf1a165f7ee55af60e7576d96988e\", element=\"508966b2-d369-40b5-aaf8-64ca73cb7446\")>,\n",
       " <selenium.webdriver.remote.webelement.WebElement (session=\"abfdf1a165f7ee55af60e7576d96988e\", element=\"eac51dc6-1f35-413e-835f-37977a8cb37a\")>,\n",
       " <selenium.webdriver.remote.webelement.WebElement (session=\"abfdf1a165f7ee55af60e7576d96988e\", element=\"e7ed795c-0b0e-4760-903d-046d3ba55040\")>]"
      ]
     },
     "execution_count": 47,
     "metadata": {},
     "output_type": "execute_result"
    }
   ],
   "source": [
    "Product_tags=driver.find_elements_by_xpath(\"//div[@class='_1xHGtK _373qXS']\")\n",
    "Product_tags"
   ]
  },
  {
   "cell_type": "code",
   "execution_count": 48,
   "id": "f39724d7",
   "metadata": {},
   "outputs": [
    {
     "data": {
      "text/plain": [
       "['Elligator\\nUV Protection Round Sunglasses (54)\\n₹295₹2,49588% off\\nFree delivery',\n",
       " 'PIRASO\\nUV Protection Aviator Sunglasses (54)\\n₹249₹1,59984% off\\nFree delivery\\nBuy 2 items, save extra 5%',\n",
       " 'New Specs\\nUV Protection Rectangular Sunglasses (Free Size)\\n₹265₹1,99986% off\\nFree delivery',\n",
       " 'Fastrack\\nUV Protection Rectangular Sunglasses (Free Size)\\n₹639₹79920% off\\nFree delivery',\n",
       " 'SHAAH COLLECTIONS\\nUV Protection, Polarized, Mirrored Rectangular Sunglass...\\n₹185₹1,69989% off\\nFree delivery',\n",
       " 'SRPM\\nUV Protection Wayfarer Sunglasses (50)\\n₹250₹1,29980% off\\nFree delivery',\n",
       " 'Lee Topper\\nRiding Glasses Wrap-around Sunglasses (Free Size)\\n₹275₹2,49988% off\\nFree delivery',\n",
       " 'PIRASO\\nUV Protection Aviator Sunglasses (54)\\n₹249₹1,59984% off\\nFree delivery\\nBuy 2 items, save extra 5%',\n",
       " 'SUNBEE\\nUV Protection, Polarized Wayfarer Sunglasses (Free Size...\\n₹273₹1,29978% off\\nFree delivery',\n",
       " 'Lee Topper\\nUV Protection Rectangular Sunglasses (Free Size)\\n₹199₹99980% off\\nFree delivery',\n",
       " 'SUNBEE\\nUV Protection, Polarized, Mirrored Retro Square Sunglas...\\n₹249₹1,29980% off\\nFree delivery',\n",
       " 'New Specs\\nMirrored, UV Protection, Riding Glasses, Others Round S...\\n₹299₹1,59981% off\\nFree delivery',\n",
       " 'PIRASO\\nUV Protection Aviator Sunglasses (54)\\n₹249₹1,59984% off\\nFree delivery\\nBuy 2 items, save extra 5%',\n",
       " 'ROZZETTA CRAFT\\nPolarized, Riding Glasses Sports, Wrap-around Sunglasse...\\n₹474₹1,99976% off\\nFree delivery',\n",
       " 'PIRASO\\nUV Protection Wayfarer Sunglasses (32)\\n₹225₹1,59985% off\\nFree delivery\\nBuy 2 items, save extra 5%',\n",
       " 'Fastrack\\nGradient, UV Protection Wayfarer Sunglasses (Free Size)\\n₹639₹79920% off\\nFree delivery',\n",
       " 'hipe\\nMirrored Wayfarer Sunglasses (55)\\n₹229₹99977% off\\nFree delivery',\n",
       " 'SRPM\\nUV Protection Wayfarer Sunglasses (54)\\n₹219₹99978% off\\nFree delivery',\n",
       " 'kingsunglasses\\nUV Protection, Riding Glasses, Mirrored Wayfarer Sungla...\\n₹209₹1,19982% off\\nFree delivery',\n",
       " 'SUNBEE\\nUV Protection, Polarized, Mirrored Round Sunglasses (Fr...\\n₹314₹1,69981% off\\nFree delivery',\n",
       " 'hipe\\nMirrored, UV Protection, Gradient Round Sunglasses (55)\\n₹210₹1,46685% off\\nFree delivery',\n",
       " 'Fastrack\\nUV Protection Wayfarer Sunglasses (Free Size)\\n₹719₹89920% off\\nFree delivery',\n",
       " 'GANSTA\\nUV Protection, Riding Glasses Wayfarer Sunglasses (53)\\n₹221₹1,79987% off\\nFree delivery\\nBuy 3 items, save extra 5%',\n",
       " 'DEIXELS\\nUV Protection Aviator, Wayfarer Sunglasses (Free Size)\\n₹217₹1,19981% off\\nFree delivery',\n",
       " 'hipe\\nUV Protection, Gradient, Mirrored, Riding Glasses Aviat...\\n₹233₹99976% off\\nFree delivery',\n",
       " 'PHENOMENAL\\nUV Protection Retro Square Sunglasses (53)\\n₹315₹99968% off\\nFree delivery',\n",
       " 'kingsunglasses\\nMirrored, UV Protection Wayfarer Sunglasses (Free Size)\\n₹269₹1,99986% off\\nFree delivery',\n",
       " 'Fastrack\\nUV Protection Shield Sunglasses (Free Size)\\n₹809₹89910% off\\nFree delivery',\n",
       " 'kingsunglasses\\nMirrored, UV Protection Aviator Sunglasses (56)\\n₹245₹1,29981% off\\nFree delivery',\n",
       " 'SRPM\\nUV Protection Wayfarer Sunglasses (53)\\n₹246₹99875% off\\nFree delivery',\n",
       " 'SHAAH COLLECTIONS\\nUV Protection, Polarized, Mirrored Rectangular Sunglass...\\n₹203₹99979% off\\nFree delivery',\n",
       " 'Singco India\\nRiding Glasses, UV Protection, Others Aviator Sunglasse...\\n₹245₹1,49983% off\\nFree delivery\\nBuy 3 items, save extra 5%',\n",
       " 'PIRASO\\nUV Protection Over-sized Sunglasses (65)\\n₹399₹2,59984% off\\nFree delivery\\nBuy 2 items, save extra 5%',\n",
       " 'kingsunglasses\\nUV Protection Rectangular Sunglasses (55)\\n₹189₹1,29985% off\\nFree delivery',\n",
       " 'hipe\\nUV Protection Sports Sunglasses (Free Size)\\n₹258₹1,89986% off\\nFree delivery\\nDeal of the Day',\n",
       " 'Elligator\\nUV Protection Round Sunglasses (53)\\n₹229₹99877% off\\nFree delivery',\n",
       " 'ROZZETTA CRAFT\\nUV Protection Retro Square Sunglasses (Free Size)\\n₹499₹2,22577% off\\nFree delivery',\n",
       " 'Fastrack\\nUV Protection Wayfarer Sunglasses (55)\\n₹683₹79914% off\\nFree delivery\\nDeal of the Day',\n",
       " 'GANSTA\\nUV Protection Aviator Sunglasses (57)\\n₹284₹1,99985% off\\nFree delivery',\n",
       " 'HIPPON\\nUV Protection Wayfarer Sunglasses (55)\\n₹171₹99982% off\\nFree delivery\\nDeal of the Day']"
      ]
     },
     "execution_count": 48,
     "metadata": {},
     "output_type": "execute_result"
    }
   ],
   "source": [
    "for i in Product_tags:\n",
    "    Products=i.text\n",
    "    Product_list.append(Products)\n",
    "Product_list"
   ]
  },
  {
   "cell_type": "code",
   "execution_count": 49,
   "id": "6f3f62b2",
   "metadata": {},
   "outputs": [
    {
     "name": "stdout",
     "output_type": "stream",
     "text": [
      "40 40 40\n"
     ]
    }
   ],
   "source": [
    "print(len(Brands_list),len(Product_list),len(Price_list))"
   ]
  },
  {
   "cell_type": "code",
   "execution_count": 50,
   "id": "faab3c7a",
   "metadata": {},
   "outputs": [],
   "source": [
    "Sunglasses=pd.DataFrame({})\n",
    "Sunglasses['Brand']=Brands_list\n",
    "Sunglasses['Product']=Product_list\n",
    "Sunglasses['Price']=Price_list"
   ]
  },
  {
   "cell_type": "code",
   "execution_count": 51,
   "id": "5ab4a2a8",
   "metadata": {},
   "outputs": [
    {
     "data": {
      "text/html": [
       "<div>\n",
       "<style scoped>\n",
       "    .dataframe tbody tr th:only-of-type {\n",
       "        vertical-align: middle;\n",
       "    }\n",
       "\n",
       "    .dataframe tbody tr th {\n",
       "        vertical-align: top;\n",
       "    }\n",
       "\n",
       "    .dataframe thead th {\n",
       "        text-align: right;\n",
       "    }\n",
       "</style>\n",
       "<table border=\"1\" class=\"dataframe\">\n",
       "  <thead>\n",
       "    <tr style=\"text-align: right;\">\n",
       "      <th></th>\n",
       "      <th>Brand</th>\n",
       "      <th>Product</th>\n",
       "      <th>Price</th>\n",
       "    </tr>\n",
       "  </thead>\n",
       "  <tbody>\n",
       "    <tr>\n",
       "      <th>0</th>\n",
       "      <td>Elligator</td>\n",
       "      <td>Elligator\\nUV Protection Round Sunglasses (54)...</td>\n",
       "      <td>₹295</td>\n",
       "    </tr>\n",
       "    <tr>\n",
       "      <th>1</th>\n",
       "      <td>PIRASO</td>\n",
       "      <td>PIRASO\\nUV Protection Aviator Sunglasses (54)\\...</td>\n",
       "      <td>₹249</td>\n",
       "    </tr>\n",
       "    <tr>\n",
       "      <th>2</th>\n",
       "      <td>New Specs</td>\n",
       "      <td>New Specs\\nUV Protection Rectangular Sunglasse...</td>\n",
       "      <td>₹265</td>\n",
       "    </tr>\n",
       "    <tr>\n",
       "      <th>3</th>\n",
       "      <td>Fastrack</td>\n",
       "      <td>Fastrack\\nUV Protection Rectangular Sunglasses...</td>\n",
       "      <td>₹639</td>\n",
       "    </tr>\n",
       "    <tr>\n",
       "      <th>4</th>\n",
       "      <td>SHAAH COLLECTIONS</td>\n",
       "      <td>SHAAH COLLECTIONS\\nUV Protection, Polarized, M...</td>\n",
       "      <td>₹185</td>\n",
       "    </tr>\n",
       "    <tr>\n",
       "      <th>5</th>\n",
       "      <td>SRPM</td>\n",
       "      <td>SRPM\\nUV Protection Wayfarer Sunglasses (50)\\n...</td>\n",
       "      <td>₹250</td>\n",
       "    </tr>\n",
       "    <tr>\n",
       "      <th>6</th>\n",
       "      <td>Lee Topper</td>\n",
       "      <td>Lee Topper\\nRiding Glasses Wrap-around Sunglas...</td>\n",
       "      <td>₹275</td>\n",
       "    </tr>\n",
       "    <tr>\n",
       "      <th>7</th>\n",
       "      <td>PIRASO</td>\n",
       "      <td>PIRASO\\nUV Protection Aviator Sunglasses (54)\\...</td>\n",
       "      <td>₹249</td>\n",
       "    </tr>\n",
       "    <tr>\n",
       "      <th>8</th>\n",
       "      <td>SUNBEE</td>\n",
       "      <td>SUNBEE\\nUV Protection, Polarized Wayfarer Sung...</td>\n",
       "      <td>₹273</td>\n",
       "    </tr>\n",
       "    <tr>\n",
       "      <th>9</th>\n",
       "      <td>Lee Topper</td>\n",
       "      <td>Lee Topper\\nUV Protection Rectangular Sunglass...</td>\n",
       "      <td>₹199</td>\n",
       "    </tr>\n",
       "    <tr>\n",
       "      <th>10</th>\n",
       "      <td>SUNBEE</td>\n",
       "      <td>SUNBEE\\nUV Protection, Polarized, Mirrored Ret...</td>\n",
       "      <td>₹249</td>\n",
       "    </tr>\n",
       "    <tr>\n",
       "      <th>11</th>\n",
       "      <td>New Specs</td>\n",
       "      <td>New Specs\\nMirrored, UV Protection, Riding Gla...</td>\n",
       "      <td>₹299</td>\n",
       "    </tr>\n",
       "    <tr>\n",
       "      <th>12</th>\n",
       "      <td>PIRASO</td>\n",
       "      <td>PIRASO\\nUV Protection Aviator Sunglasses (54)\\...</td>\n",
       "      <td>₹249</td>\n",
       "    </tr>\n",
       "    <tr>\n",
       "      <th>13</th>\n",
       "      <td>ROZZETTA CRAFT</td>\n",
       "      <td>ROZZETTA CRAFT\\nPolarized, Riding Glasses Spor...</td>\n",
       "      <td>₹474</td>\n",
       "    </tr>\n",
       "    <tr>\n",
       "      <th>14</th>\n",
       "      <td>PIRASO</td>\n",
       "      <td>PIRASO\\nUV Protection Wayfarer Sunglasses (32)...</td>\n",
       "      <td>₹225</td>\n",
       "    </tr>\n",
       "    <tr>\n",
       "      <th>15</th>\n",
       "      <td>Fastrack</td>\n",
       "      <td>Fastrack\\nGradient, UV Protection Wayfarer Sun...</td>\n",
       "      <td>₹639</td>\n",
       "    </tr>\n",
       "    <tr>\n",
       "      <th>16</th>\n",
       "      <td>hipe</td>\n",
       "      <td>hipe\\nMirrored Wayfarer Sunglasses (55)\\n₹229₹...</td>\n",
       "      <td>₹229</td>\n",
       "    </tr>\n",
       "    <tr>\n",
       "      <th>17</th>\n",
       "      <td>SRPM</td>\n",
       "      <td>SRPM\\nUV Protection Wayfarer Sunglasses (54)\\n...</td>\n",
       "      <td>₹219</td>\n",
       "    </tr>\n",
       "    <tr>\n",
       "      <th>18</th>\n",
       "      <td>kingsunglasses</td>\n",
       "      <td>kingsunglasses\\nUV Protection, Riding Glasses,...</td>\n",
       "      <td>₹209</td>\n",
       "    </tr>\n",
       "    <tr>\n",
       "      <th>19</th>\n",
       "      <td>SUNBEE</td>\n",
       "      <td>SUNBEE\\nUV Protection, Polarized, Mirrored Rou...</td>\n",
       "      <td>₹314</td>\n",
       "    </tr>\n",
       "    <tr>\n",
       "      <th>20</th>\n",
       "      <td>hipe</td>\n",
       "      <td>hipe\\nMirrored, UV Protection, Gradient Round ...</td>\n",
       "      <td>₹210</td>\n",
       "    </tr>\n",
       "    <tr>\n",
       "      <th>21</th>\n",
       "      <td>Fastrack</td>\n",
       "      <td>Fastrack\\nUV Protection Wayfarer Sunglasses (F...</td>\n",
       "      <td>₹719</td>\n",
       "    </tr>\n",
       "    <tr>\n",
       "      <th>22</th>\n",
       "      <td>GANSTA</td>\n",
       "      <td>GANSTA\\nUV Protection, Riding Glasses Wayfarer...</td>\n",
       "      <td>₹221</td>\n",
       "    </tr>\n",
       "    <tr>\n",
       "      <th>23</th>\n",
       "      <td>DEIXELS</td>\n",
       "      <td>DEIXELS\\nUV Protection Aviator, Wayfarer Sungl...</td>\n",
       "      <td>₹217</td>\n",
       "    </tr>\n",
       "    <tr>\n",
       "      <th>24</th>\n",
       "      <td>hipe</td>\n",
       "      <td>hipe\\nUV Protection, Gradient, Mirrored, Ridin...</td>\n",
       "      <td>₹233</td>\n",
       "    </tr>\n",
       "    <tr>\n",
       "      <th>25</th>\n",
       "      <td>PHENOMENAL</td>\n",
       "      <td>PHENOMENAL\\nUV Protection Retro Square Sunglas...</td>\n",
       "      <td>₹315</td>\n",
       "    </tr>\n",
       "    <tr>\n",
       "      <th>26</th>\n",
       "      <td>kingsunglasses</td>\n",
       "      <td>kingsunglasses\\nMirrored, UV Protection Wayfar...</td>\n",
       "      <td>₹269</td>\n",
       "    </tr>\n",
       "    <tr>\n",
       "      <th>27</th>\n",
       "      <td>Fastrack</td>\n",
       "      <td>Fastrack\\nUV Protection Shield Sunglasses (Fre...</td>\n",
       "      <td>₹809</td>\n",
       "    </tr>\n",
       "    <tr>\n",
       "      <th>28</th>\n",
       "      <td>kingsunglasses</td>\n",
       "      <td>kingsunglasses\\nMirrored, UV Protection Aviato...</td>\n",
       "      <td>₹245</td>\n",
       "    </tr>\n",
       "    <tr>\n",
       "      <th>29</th>\n",
       "      <td>SRPM</td>\n",
       "      <td>SRPM\\nUV Protection Wayfarer Sunglasses (53)\\n...</td>\n",
       "      <td>₹246</td>\n",
       "    </tr>\n",
       "    <tr>\n",
       "      <th>30</th>\n",
       "      <td>SHAAH COLLECTIONS</td>\n",
       "      <td>SHAAH COLLECTIONS\\nUV Protection, Polarized, M...</td>\n",
       "      <td>₹203</td>\n",
       "    </tr>\n",
       "    <tr>\n",
       "      <th>31</th>\n",
       "      <td>Singco India</td>\n",
       "      <td>Singco India\\nRiding Glasses, UV Protection, O...</td>\n",
       "      <td>₹245</td>\n",
       "    </tr>\n",
       "    <tr>\n",
       "      <th>32</th>\n",
       "      <td>PIRASO</td>\n",
       "      <td>PIRASO\\nUV Protection Over-sized Sunglasses (6...</td>\n",
       "      <td>₹399</td>\n",
       "    </tr>\n",
       "    <tr>\n",
       "      <th>33</th>\n",
       "      <td>kingsunglasses</td>\n",
       "      <td>kingsunglasses\\nUV Protection Rectangular Sung...</td>\n",
       "      <td>₹189</td>\n",
       "    </tr>\n",
       "    <tr>\n",
       "      <th>34</th>\n",
       "      <td>hipe</td>\n",
       "      <td>hipe\\nUV Protection Sports Sunglasses (Free Si...</td>\n",
       "      <td>₹258</td>\n",
       "    </tr>\n",
       "    <tr>\n",
       "      <th>35</th>\n",
       "      <td>Elligator</td>\n",
       "      <td>Elligator\\nUV Protection Round Sunglasses (53)...</td>\n",
       "      <td>₹229</td>\n",
       "    </tr>\n",
       "    <tr>\n",
       "      <th>36</th>\n",
       "      <td>ROZZETTA CRAFT</td>\n",
       "      <td>ROZZETTA CRAFT\\nUV Protection Retro Square Sun...</td>\n",
       "      <td>₹499</td>\n",
       "    </tr>\n",
       "    <tr>\n",
       "      <th>37</th>\n",
       "      <td>Fastrack</td>\n",
       "      <td>Fastrack\\nUV Protection Wayfarer Sunglasses (5...</td>\n",
       "      <td>₹683</td>\n",
       "    </tr>\n",
       "    <tr>\n",
       "      <th>38</th>\n",
       "      <td>GANSTA</td>\n",
       "      <td>GANSTA\\nUV Protection Aviator Sunglasses (57)\\...</td>\n",
       "      <td>₹284</td>\n",
       "    </tr>\n",
       "    <tr>\n",
       "      <th>39</th>\n",
       "      <td>HIPPON</td>\n",
       "      <td>HIPPON\\nUV Protection Wayfarer Sunglasses (55)...</td>\n",
       "      <td>₹171</td>\n",
       "    </tr>\n",
       "  </tbody>\n",
       "</table>\n",
       "</div>"
      ],
      "text/plain": [
       "                Brand                                            Product Price\n",
       "0           Elligator  Elligator\\nUV Protection Round Sunglasses (54)...  ₹295\n",
       "1              PIRASO  PIRASO\\nUV Protection Aviator Sunglasses (54)\\...  ₹249\n",
       "2           New Specs  New Specs\\nUV Protection Rectangular Sunglasse...  ₹265\n",
       "3            Fastrack  Fastrack\\nUV Protection Rectangular Sunglasses...  ₹639\n",
       "4   SHAAH COLLECTIONS  SHAAH COLLECTIONS\\nUV Protection, Polarized, M...  ₹185\n",
       "5                SRPM  SRPM\\nUV Protection Wayfarer Sunglasses (50)\\n...  ₹250\n",
       "6          Lee Topper  Lee Topper\\nRiding Glasses Wrap-around Sunglas...  ₹275\n",
       "7              PIRASO  PIRASO\\nUV Protection Aviator Sunglasses (54)\\...  ₹249\n",
       "8              SUNBEE  SUNBEE\\nUV Protection, Polarized Wayfarer Sung...  ₹273\n",
       "9          Lee Topper  Lee Topper\\nUV Protection Rectangular Sunglass...  ₹199\n",
       "10             SUNBEE  SUNBEE\\nUV Protection, Polarized, Mirrored Ret...  ₹249\n",
       "11          New Specs  New Specs\\nMirrored, UV Protection, Riding Gla...  ₹299\n",
       "12             PIRASO  PIRASO\\nUV Protection Aviator Sunglasses (54)\\...  ₹249\n",
       "13     ROZZETTA CRAFT  ROZZETTA CRAFT\\nPolarized, Riding Glasses Spor...  ₹474\n",
       "14             PIRASO  PIRASO\\nUV Protection Wayfarer Sunglasses (32)...  ₹225\n",
       "15           Fastrack  Fastrack\\nGradient, UV Protection Wayfarer Sun...  ₹639\n",
       "16               hipe  hipe\\nMirrored Wayfarer Sunglasses (55)\\n₹229₹...  ₹229\n",
       "17               SRPM  SRPM\\nUV Protection Wayfarer Sunglasses (54)\\n...  ₹219\n",
       "18     kingsunglasses  kingsunglasses\\nUV Protection, Riding Glasses,...  ₹209\n",
       "19             SUNBEE  SUNBEE\\nUV Protection, Polarized, Mirrored Rou...  ₹314\n",
       "20               hipe  hipe\\nMirrored, UV Protection, Gradient Round ...  ₹210\n",
       "21           Fastrack  Fastrack\\nUV Protection Wayfarer Sunglasses (F...  ₹719\n",
       "22             GANSTA  GANSTA\\nUV Protection, Riding Glasses Wayfarer...  ₹221\n",
       "23            DEIXELS  DEIXELS\\nUV Protection Aviator, Wayfarer Sungl...  ₹217\n",
       "24               hipe  hipe\\nUV Protection, Gradient, Mirrored, Ridin...  ₹233\n",
       "25         PHENOMENAL  PHENOMENAL\\nUV Protection Retro Square Sunglas...  ₹315\n",
       "26     kingsunglasses  kingsunglasses\\nMirrored, UV Protection Wayfar...  ₹269\n",
       "27           Fastrack  Fastrack\\nUV Protection Shield Sunglasses (Fre...  ₹809\n",
       "28     kingsunglasses  kingsunglasses\\nMirrored, UV Protection Aviato...  ₹245\n",
       "29               SRPM  SRPM\\nUV Protection Wayfarer Sunglasses (53)\\n...  ₹246\n",
       "30  SHAAH COLLECTIONS  SHAAH COLLECTIONS\\nUV Protection, Polarized, M...  ₹203\n",
       "31       Singco India  Singco India\\nRiding Glasses, UV Protection, O...  ₹245\n",
       "32             PIRASO  PIRASO\\nUV Protection Over-sized Sunglasses (6...  ₹399\n",
       "33     kingsunglasses  kingsunglasses\\nUV Protection Rectangular Sung...  ₹189\n",
       "34               hipe  hipe\\nUV Protection Sports Sunglasses (Free Si...  ₹258\n",
       "35          Elligator  Elligator\\nUV Protection Round Sunglasses (53)...  ₹229\n",
       "36     ROZZETTA CRAFT  ROZZETTA CRAFT\\nUV Protection Retro Square Sun...  ₹499\n",
       "37           Fastrack  Fastrack\\nUV Protection Wayfarer Sunglasses (5...  ₹683\n",
       "38             GANSTA  GANSTA\\nUV Protection Aviator Sunglasses (57)\\...  ₹284\n",
       "39             HIPPON  HIPPON\\nUV Protection Wayfarer Sunglasses (55)...  ₹171"
      ]
     },
     "execution_count": 51,
     "metadata": {},
     "output_type": "execute_result"
    }
   ],
   "source": [
    "Sunglasses"
   ]
  },
  {
   "cell_type": "code",
   "execution_count": 52,
   "id": "2ac4230e",
   "metadata": {},
   "outputs": [],
   "source": [
    "#Q5: Scrape 100 reviews data from flipkart.com for iphone11 phone. You have to go the link:"
   ]
  },
  {
   "cell_type": "code",
   "execution_count": 53,
   "id": "f470e86b",
   "metadata": {},
   "outputs": [],
   "source": [
    "import selenium\n",
    "import pandas as pd\n",
    "from selenium import webdriver\n",
    "import warnings\n",
    "warnings.filterwarnings('ignore')\n",
    "import time "
   ]
  },
  {
   "cell_type": "code",
   "execution_count": 54,
   "id": "cf1b6ae3",
   "metadata": {},
   "outputs": [],
   "source": [
    "driver=webdriver.Chrome(r'C:\\Users\\akash\\Downloads\\chromedriver_win32\\chromedriver.exe')\n",
    "\n",
    "driver.get('https://www.flipkart.com/apple-iphone-11-black-64-gb/p/itm4e5041ba101fd?pid=MOBFWQ6BXGJCEYNY&lid=LSTMOBFWQ6BXGJCEYNYZE3ENS&marketplace=FLIPKART&q=iphone+11+phone&store=tyy%2F4io&srno=s_1_1&otracker=search&otracker1=search&fm=organic&iid=a8b2d38a-497f-42ae-8bed-9580f74c94c4.MOBFWQ6BXGJCEYNY.SEARCH&ppt=hp&ppn=homepage&ssid=vlmexmdnkg0000001650715743471&qH=3422ffa2c9fac114')\n"
   ]
  },
  {
   "cell_type": "code",
   "execution_count": 55,
   "id": "fe85077d",
   "metadata": {},
   "outputs": [],
   "source": [
    "Rating_list=[]\n",
    "Review_summary_list=[]\n",
    "Full_review_list=[]"
   ]
  },
  {
   "cell_type": "code",
   "execution_count": 56,
   "id": "a1ca5e84",
   "metadata": {},
   "outputs": [
    {
     "data": {
      "text/plain": [
       "[<selenium.webdriver.remote.webelement.WebElement (session=\"8ce47b308eee362cbbe04580543ffd9d\", element=\"358a6e2c-4ce3-46b0-a1c2-d4e19eceb2bc\")>,\n",
       " <selenium.webdriver.remote.webelement.WebElement (session=\"8ce47b308eee362cbbe04580543ffd9d\", element=\"e93c8d15-26c8-4a8b-96b2-3d9f8100bae2\")>,\n",
       " <selenium.webdriver.remote.webelement.WebElement (session=\"8ce47b308eee362cbbe04580543ffd9d\", element=\"fe2ddf30-e361-4fa9-b2fe-e4383afaf353\")>,\n",
       " <selenium.webdriver.remote.webelement.WebElement (session=\"8ce47b308eee362cbbe04580543ffd9d\", element=\"fc254024-742d-4add-84cb-01b0f33d6a73\")>,\n",
       " <selenium.webdriver.remote.webelement.WebElement (session=\"8ce47b308eee362cbbe04580543ffd9d\", element=\"f6dd4f59-a4f0-4b1f-a2a2-fc0c4cfe812a\")>,\n",
       " <selenium.webdriver.remote.webelement.WebElement (session=\"8ce47b308eee362cbbe04580543ffd9d\", element=\"4ee2405c-e9de-4c6c-b9c0-886c0292b2e9\")>,\n",
       " <selenium.webdriver.remote.webelement.WebElement (session=\"8ce47b308eee362cbbe04580543ffd9d\", element=\"d599593e-bba4-4fd7-bcde-ab8d0152044a\")>,\n",
       " <selenium.webdriver.remote.webelement.WebElement (session=\"8ce47b308eee362cbbe04580543ffd9d\", element=\"ec50bd63-66d4-42af-9140-649b347f1990\")>,\n",
       " <selenium.webdriver.remote.webelement.WebElement (session=\"8ce47b308eee362cbbe04580543ffd9d\", element=\"fd20af56-a2fd-413b-b906-4ec0c24dbd47\")>,\n",
       " <selenium.webdriver.remote.webelement.WebElement (session=\"8ce47b308eee362cbbe04580543ffd9d\", element=\"cbc32c3c-4153-4a2a-b0b4-2857254ac210\")>]"
      ]
     },
     "execution_count": 56,
     "metadata": {},
     "output_type": "execute_result"
    }
   ],
   "source": [
    "Rating_tags=driver.find_elements_by_xpath(\"//div[@class='_3LWZlK _1BLPMq']\")\n",
    "Rating_tags"
   ]
  },
  {
   "cell_type": "code",
   "execution_count": 57,
   "id": "db31a031",
   "metadata": {},
   "outputs": [
    {
     "data": {
      "text/plain": [
       "['5', '5', '5', '5', '5', '5', '5', '4', '5', '5']"
      ]
     },
     "execution_count": 57,
     "metadata": {},
     "output_type": "execute_result"
    }
   ],
   "source": [
    "for i in Rating_tags:\n",
    "    Rating=i.text\n",
    "    Rating_list.append(Rating)\n",
    "Rating_list"
   ]
  },
  {
   "cell_type": "code",
   "execution_count": 58,
   "id": "f854dbd9",
   "metadata": {},
   "outputs": [
    {
     "data": {
      "text/plain": [
       "[<selenium.webdriver.remote.webelement.WebElement (session=\"8ce47b308eee362cbbe04580543ffd9d\", element=\"a437ec25-c5f3-4e08-bf12-e1fa51a5f46d\")>,\n",
       " <selenium.webdriver.remote.webelement.WebElement (session=\"8ce47b308eee362cbbe04580543ffd9d\", element=\"a456c1e9-f9ec-4d41-ab7b-a6bf8d62a852\")>,\n",
       " <selenium.webdriver.remote.webelement.WebElement (session=\"8ce47b308eee362cbbe04580543ffd9d\", element=\"76b2e696-e3e0-49cf-98c9-78304fabd548\")>,\n",
       " <selenium.webdriver.remote.webelement.WebElement (session=\"8ce47b308eee362cbbe04580543ffd9d\", element=\"0eaab720-5273-40d3-aadb-4462ec155155\")>,\n",
       " <selenium.webdriver.remote.webelement.WebElement (session=\"8ce47b308eee362cbbe04580543ffd9d\", element=\"1604c679-c5af-47f2-a532-c88fbb775562\")>,\n",
       " <selenium.webdriver.remote.webelement.WebElement (session=\"8ce47b308eee362cbbe04580543ffd9d\", element=\"8f188eb3-3640-416d-885a-d59910ae8209\")>,\n",
       " <selenium.webdriver.remote.webelement.WebElement (session=\"8ce47b308eee362cbbe04580543ffd9d\", element=\"ef3802e6-9857-44e7-94bc-e1850b929763\")>,\n",
       " <selenium.webdriver.remote.webelement.WebElement (session=\"8ce47b308eee362cbbe04580543ffd9d\", element=\"540d67e8-8166-40c5-825b-8b45ea486268\")>,\n",
       " <selenium.webdriver.remote.webelement.WebElement (session=\"8ce47b308eee362cbbe04580543ffd9d\", element=\"0e419a11-0f2f-4b37-bcac-4f1aee332826\")>,\n",
       " <selenium.webdriver.remote.webelement.WebElement (session=\"8ce47b308eee362cbbe04580543ffd9d\", element=\"38c7ecb1-fc88-47d3-9d30-e209da59d087\")>]"
      ]
     },
     "execution_count": 58,
     "metadata": {},
     "output_type": "execute_result"
    }
   ],
   "source": [
    "Review_summary_tags=driver.find_elements_by_xpath(\"//p[@class='_2-N8zT']\")\n",
    "Review_summary_tags"
   ]
  },
  {
   "cell_type": "code",
   "execution_count": 59,
   "id": "fe53a66f",
   "metadata": {},
   "outputs": [
    {
     "data": {
      "text/plain": [
       "['Brilliant',\n",
       " 'Simply awesome',\n",
       " 'Best in the market!',\n",
       " 'Perfect product!',\n",
       " 'Fabulous!',\n",
       " 'Worth every penny',\n",
       " 'Great product',\n",
       " 'Good choice',\n",
       " 'Worth every penny',\n",
       " 'Highly recommended']"
      ]
     },
     "execution_count": 59,
     "metadata": {},
     "output_type": "execute_result"
    }
   ],
   "source": [
    "for i in Review_summary_tags:\n",
    "    Review_summary=i.text\n",
    "    Review_summary_list.append(Review_summary)\n",
    "Review_summary_list"
   ]
  },
  {
   "cell_type": "code",
   "execution_count": 60,
   "id": "329ad6cc",
   "metadata": {},
   "outputs": [
    {
     "data": {
      "text/plain": [
       "[<selenium.webdriver.remote.webelement.WebElement (session=\"8ce47b308eee362cbbe04580543ffd9d\", element=\"4c0a0bf5-1c64-4dea-9a0a-939dfaa5f939\")>,\n",
       " <selenium.webdriver.remote.webelement.WebElement (session=\"8ce47b308eee362cbbe04580543ffd9d\", element=\"fb0a1acd-1dc6-4a1a-8f30-a6f0c23a4ba6\")>,\n",
       " <selenium.webdriver.remote.webelement.WebElement (session=\"8ce47b308eee362cbbe04580543ffd9d\", element=\"037d99e1-f4cf-4db1-8d85-bbdb0974924d\")>,\n",
       " <selenium.webdriver.remote.webelement.WebElement (session=\"8ce47b308eee362cbbe04580543ffd9d\", element=\"b9157780-69b8-47ee-822c-70c1eade6a24\")>,\n",
       " <selenium.webdriver.remote.webelement.WebElement (session=\"8ce47b308eee362cbbe04580543ffd9d\", element=\"e57a93df-6966-470b-983f-7a88dcd22d0a\")>,\n",
       " <selenium.webdriver.remote.webelement.WebElement (session=\"8ce47b308eee362cbbe04580543ffd9d\", element=\"51c0b2c1-d055-43c8-8aca-ad60bf81e99f\")>,\n",
       " <selenium.webdriver.remote.webelement.WebElement (session=\"8ce47b308eee362cbbe04580543ffd9d\", element=\"2aa4bcba-8718-40cb-a630-e2a8d1367a9f\")>,\n",
       " <selenium.webdriver.remote.webelement.WebElement (session=\"8ce47b308eee362cbbe04580543ffd9d\", element=\"bd0b0816-237e-4105-b790-cfa77d17b863\")>,\n",
       " <selenium.webdriver.remote.webelement.WebElement (session=\"8ce47b308eee362cbbe04580543ffd9d\", element=\"974cafa5-06f2-49c3-8be7-bcc4b2442c1e\")>,\n",
       " <selenium.webdriver.remote.webelement.WebElement (session=\"8ce47b308eee362cbbe04580543ffd9d\", element=\"f1514a32-47fd-49b8-875c-f1a47e0900eb\")>]"
      ]
     },
     "execution_count": 60,
     "metadata": {},
     "output_type": "execute_result"
    }
   ],
   "source": [
    "Full_review_tags=driver.find_elements_by_xpath(\"//div[@class='t-ZTKy']\")\n",
    "Full_review_tags"
   ]
  },
  {
   "cell_type": "code",
   "execution_count": 61,
   "id": "376c3ace",
   "metadata": {},
   "outputs": [
    {
     "data": {
      "text/plain": [
       "['The Best Phone for the Money\\n\\nThe iPhone 11 offers superb cameras, a more durable design and excellent battery life for an affordable price.\\n\\nCompelling ultra-wide camera\\nNew Night mode is excellent\\nLong battery life',\n",
       " 'Really satisfied with the Product I received... It’s totally genuine and the packaging was also really good so if ur planning to buy just go for it.',\n",
       " 'Great iPhone very snappy experience as apple kind. Upgraded from iPhone 7.\\nPros\\n-Camera top class\\n- Battery top performed\\n-Chipset no need to say as apple kind\\n-Security as you expect from apple\\n- Display super bright industry leading colour\\naccuracy and super responsive\\n-Build quality as expect from apple sturdy\\npremium durable beautiful stylish.\\n-Os most stable os in smartphone industry\\n\\nCons\\n-No 5G\\n-Display is not based on OLED technology\\n-Charger headphones and 1 apple stic...\\nREAD MORE',\n",
       " 'Amazing phone with great cameras and better battery which gives you the best performance. I just love the camera .',\n",
       " 'This is my first iOS phone. I am very happy with this product. Very much satisfied with this. I love this phone.',\n",
       " 'Previously I was using one plus 3t it was a great phone\\nAnd then I decided to upgrade I am stuck between Samsung s10 plus or iPhone 11\\nI have seen the specs and everything were good except the display it’s somewhere between 720-1080 and it’s not even an amoled it’s an LCD display\\nBut I decided to go with iPhone because I have never used an IOS device I have Been an android user from the past 9 years I ordered IPhone 11 (128gb) product red\\nMy experience after using 3 weeks\\n1. The delivery ...\\nREAD MORE',\n",
       " 'Amazing Powerful and Durable Gadget.\\n\\nI’m am very happy with the camera picture quality, Amazing face id unlocked in dark room, Strong battery with perfect screen size as you can carry easily in pocket. This is my third iPhone.\\n\\nI shifted from android Samsung Note series to iPhone because of the strong build quality and peace of mind for next 3-4 years.\\n\\nDon’t think to much just go for it and I suggest you to go for minimum 128gb variant or more 256gb.\\n\\nI’ve attached my puppy pics and no fi...\\nREAD MORE',\n",
       " 'So far it’s been an AMAZING experience coming back to iOS after nearly a decade but it’s not as versatile as android though phone is sturdy dropped it accidentally a couple of times and nothing happened fortunately camera is awesome',\n",
       " 'i11 is worthy to buy, too much happy with the product. Thank u flipkart I received the item on time..loved it..',\n",
       " 'What a camera .....just awesome ..you can feel this iPhone just awesome . Good for gaming also ...try pubg in hd it’s just wow']"
      ]
     },
     "execution_count": 61,
     "metadata": {},
     "output_type": "execute_result"
    }
   ],
   "source": [
    "for i in Full_review_tags:\n",
    "    Full_review=i.text\n",
    "    Full_review_list.append(Full_review)\n",
    "Full_review_list"
   ]
  },
  {
   "cell_type": "code",
   "execution_count": 62,
   "id": "ed5e97fb",
   "metadata": {},
   "outputs": [
    {
     "name": "stdout",
     "output_type": "stream",
     "text": [
      "10 10 10\n"
     ]
    }
   ],
   "source": [
    "print(len(Rating_list),len(Review_summary_list),len(Full_review_list))"
   ]
  },
  {
   "cell_type": "code",
   "execution_count": 63,
   "id": "2cf22c67",
   "metadata": {},
   "outputs": [],
   "source": [
    "Iphone11=pd.DataFrame({})\n",
    "Iphone11['Rating']=Rating_list\n",
    "Iphone11['Review_summary']=Review_summary_list\n",
    "Iphone11['Full_review']=Full_review_list"
   ]
  },
  {
   "cell_type": "code",
   "execution_count": 64,
   "id": "9aa149cf",
   "metadata": {},
   "outputs": [
    {
     "data": {
      "text/html": [
       "<div>\n",
       "<style scoped>\n",
       "    .dataframe tbody tr th:only-of-type {\n",
       "        vertical-align: middle;\n",
       "    }\n",
       "\n",
       "    .dataframe tbody tr th {\n",
       "        vertical-align: top;\n",
       "    }\n",
       "\n",
       "    .dataframe thead th {\n",
       "        text-align: right;\n",
       "    }\n",
       "</style>\n",
       "<table border=\"1\" class=\"dataframe\">\n",
       "  <thead>\n",
       "    <tr style=\"text-align: right;\">\n",
       "      <th></th>\n",
       "      <th>Rating</th>\n",
       "      <th>Review_summary</th>\n",
       "      <th>Full_review</th>\n",
       "    </tr>\n",
       "  </thead>\n",
       "  <tbody>\n",
       "    <tr>\n",
       "      <th>0</th>\n",
       "      <td>5</td>\n",
       "      <td>Brilliant</td>\n",
       "      <td>The Best Phone for the Money\\n\\nThe iPhone 11 ...</td>\n",
       "    </tr>\n",
       "    <tr>\n",
       "      <th>1</th>\n",
       "      <td>5</td>\n",
       "      <td>Simply awesome</td>\n",
       "      <td>Really satisfied with the Product I received.....</td>\n",
       "    </tr>\n",
       "    <tr>\n",
       "      <th>2</th>\n",
       "      <td>5</td>\n",
       "      <td>Best in the market!</td>\n",
       "      <td>Great iPhone very snappy experience as apple k...</td>\n",
       "    </tr>\n",
       "    <tr>\n",
       "      <th>3</th>\n",
       "      <td>5</td>\n",
       "      <td>Perfect product!</td>\n",
       "      <td>Amazing phone with great cameras and better ba...</td>\n",
       "    </tr>\n",
       "    <tr>\n",
       "      <th>4</th>\n",
       "      <td>5</td>\n",
       "      <td>Fabulous!</td>\n",
       "      <td>This is my first iOS phone. I am very happy wi...</td>\n",
       "    </tr>\n",
       "    <tr>\n",
       "      <th>5</th>\n",
       "      <td>5</td>\n",
       "      <td>Worth every penny</td>\n",
       "      <td>Previously I was using one plus 3t it was a gr...</td>\n",
       "    </tr>\n",
       "    <tr>\n",
       "      <th>6</th>\n",
       "      <td>5</td>\n",
       "      <td>Great product</td>\n",
       "      <td>Amazing Powerful and Durable Gadget.\\n\\nI’m am...</td>\n",
       "    </tr>\n",
       "    <tr>\n",
       "      <th>7</th>\n",
       "      <td>4</td>\n",
       "      <td>Good choice</td>\n",
       "      <td>So far it’s been an AMAZING experience coming ...</td>\n",
       "    </tr>\n",
       "    <tr>\n",
       "      <th>8</th>\n",
       "      <td>5</td>\n",
       "      <td>Worth every penny</td>\n",
       "      <td>i11 is worthy to buy, too much happy with the ...</td>\n",
       "    </tr>\n",
       "    <tr>\n",
       "      <th>9</th>\n",
       "      <td>5</td>\n",
       "      <td>Highly recommended</td>\n",
       "      <td>What a camera .....just awesome ..you can feel...</td>\n",
       "    </tr>\n",
       "  </tbody>\n",
       "</table>\n",
       "</div>"
      ],
      "text/plain": [
       "  Rating       Review_summary  \\\n",
       "0      5            Brilliant   \n",
       "1      5       Simply awesome   \n",
       "2      5  Best in the market!   \n",
       "3      5     Perfect product!   \n",
       "4      5            Fabulous!   \n",
       "5      5    Worth every penny   \n",
       "6      5        Great product   \n",
       "7      4          Good choice   \n",
       "8      5    Worth every penny   \n",
       "9      5   Highly recommended   \n",
       "\n",
       "                                         Full_review  \n",
       "0  The Best Phone for the Money\\n\\nThe iPhone 11 ...  \n",
       "1  Really satisfied with the Product I received.....  \n",
       "2  Great iPhone very snappy experience as apple k...  \n",
       "3  Amazing phone with great cameras and better ba...  \n",
       "4  This is my first iOS phone. I am very happy wi...  \n",
       "5  Previously I was using one plus 3t it was a gr...  \n",
       "6  Amazing Powerful and Durable Gadget.\\n\\nI’m am...  \n",
       "7  So far it’s been an AMAZING experience coming ...  \n",
       "8  i11 is worthy to buy, too much happy with the ...  \n",
       "9  What a camera .....just awesome ..you can feel...  "
      ]
     },
     "execution_count": 64,
     "metadata": {},
     "output_type": "execute_result"
    }
   ],
   "source": [
    "Iphone11"
   ]
  },
  {
   "cell_type": "code",
   "execution_count": 65,
   "id": "2eb6a066",
   "metadata": {},
   "outputs": [],
   "source": [
    "#Q6: Scrape data for first 100 sneakers you find when you visit flipkart.com andsearch for “sneakers” in the search field.\n"
   ]
  },
  {
   "cell_type": "code",
   "execution_count": 66,
   "id": "200f8615",
   "metadata": {},
   "outputs": [],
   "source": [
    "import selenium\n",
    "import pandas as pd\n",
    "from selenium import webdriver\n",
    "import warnings\n",
    "warnings.filterwarnings('ignore')\n",
    "import time "
   ]
  },
  {
   "cell_type": "code",
   "execution_count": 67,
   "id": "5e011b01",
   "metadata": {},
   "outputs": [],
   "source": [
    "driver=webdriver.Chrome(r'C:\\Users\\akash\\Downloads\\chromedriver_win32\\chromedriver.exe')\n",
    "\n",
    "driver.get('https://www.flipkart.com/')\n",
    "\n",
    "search_field_designation=driver.find_element_by_class_name('_3704LK') #job search bar\n",
    "search_field_designation.send_keys('sneakers')"
   ]
  },
  {
   "cell_type": "code",
   "execution_count": 68,
   "id": "e77a6983",
   "metadata": {},
   "outputs": [],
   "source": [
    "Brands_list=[]\n",
    "Product_list=[]\n",
    "Price_list=[]\n",
    "Discount_list=[]"
   ]
  },
  {
   "cell_type": "code",
   "execution_count": 69,
   "id": "c88ca243",
   "metadata": {},
   "outputs": [
    {
     "data": {
      "text/plain": [
       "[<selenium.webdriver.remote.webelement.WebElement (session=\"0d5c07cc4565a0650ee15effe14f2393\", element=\"1d122d19-dba9-481e-90f2-6afa9d9676fb\")>,\n",
       " <selenium.webdriver.remote.webelement.WebElement (session=\"0d5c07cc4565a0650ee15effe14f2393\", element=\"c7c30624-e3a2-4d8a-89a7-8f720f500e00\")>,\n",
       " <selenium.webdriver.remote.webelement.WebElement (session=\"0d5c07cc4565a0650ee15effe14f2393\", element=\"f29102f3-273e-4a82-97f0-1225eb4078fa\")>,\n",
       " <selenium.webdriver.remote.webelement.WebElement (session=\"0d5c07cc4565a0650ee15effe14f2393\", element=\"11a37301-016b-4f03-9d39-e1c5293db7d6\")>,\n",
       " <selenium.webdriver.remote.webelement.WebElement (session=\"0d5c07cc4565a0650ee15effe14f2393\", element=\"11bcdaa0-385b-4639-94da-1352c187b57e\")>,\n",
       " <selenium.webdriver.remote.webelement.WebElement (session=\"0d5c07cc4565a0650ee15effe14f2393\", element=\"23c9795d-8c15-4040-a1a1-cffac100ac72\")>,\n",
       " <selenium.webdriver.remote.webelement.WebElement (session=\"0d5c07cc4565a0650ee15effe14f2393\", element=\"886edc72-97f4-474b-a070-571b5c1731da\")>,\n",
       " <selenium.webdriver.remote.webelement.WebElement (session=\"0d5c07cc4565a0650ee15effe14f2393\", element=\"0da584c6-3cc4-4e52-903d-4bc25da40381\")>,\n",
       " <selenium.webdriver.remote.webelement.WebElement (session=\"0d5c07cc4565a0650ee15effe14f2393\", element=\"a8ed2293-fa78-4328-9262-df95ca6b4495\")>,\n",
       " <selenium.webdriver.remote.webelement.WebElement (session=\"0d5c07cc4565a0650ee15effe14f2393\", element=\"4a272c3c-7be5-486b-8b2c-2f44e5cfbf2f\")>,\n",
       " <selenium.webdriver.remote.webelement.WebElement (session=\"0d5c07cc4565a0650ee15effe14f2393\", element=\"467e8c65-b0f2-46fa-b6ae-d09800b572f9\")>,\n",
       " <selenium.webdriver.remote.webelement.WebElement (session=\"0d5c07cc4565a0650ee15effe14f2393\", element=\"90d9d000-4783-487a-a42e-29508f71ea35\")>,\n",
       " <selenium.webdriver.remote.webelement.WebElement (session=\"0d5c07cc4565a0650ee15effe14f2393\", element=\"785dbb7a-48a5-468d-a434-1c4335046bcc\")>,\n",
       " <selenium.webdriver.remote.webelement.WebElement (session=\"0d5c07cc4565a0650ee15effe14f2393\", element=\"9d3dd7a7-2984-474b-a449-6d6ca7976297\")>,\n",
       " <selenium.webdriver.remote.webelement.WebElement (session=\"0d5c07cc4565a0650ee15effe14f2393\", element=\"f0fac1e2-f4ed-4b4d-bc5f-0937b4896e51\")>,\n",
       " <selenium.webdriver.remote.webelement.WebElement (session=\"0d5c07cc4565a0650ee15effe14f2393\", element=\"26eee9e6-6e36-46ee-8e88-700cf92607de\")>,\n",
       " <selenium.webdriver.remote.webelement.WebElement (session=\"0d5c07cc4565a0650ee15effe14f2393\", element=\"7b4e04ac-d7e8-40db-b9a2-9ae8f3d641dd\")>,\n",
       " <selenium.webdriver.remote.webelement.WebElement (session=\"0d5c07cc4565a0650ee15effe14f2393\", element=\"a6de5e6a-e24e-4a81-a197-f1461ba77f0b\")>,\n",
       " <selenium.webdriver.remote.webelement.WebElement (session=\"0d5c07cc4565a0650ee15effe14f2393\", element=\"e20aefa5-215b-4d7e-a1e4-bbc8f3601d3d\")>,\n",
       " <selenium.webdriver.remote.webelement.WebElement (session=\"0d5c07cc4565a0650ee15effe14f2393\", element=\"e27ca7ed-cb45-4359-a0ee-eeee37448e00\")>,\n",
       " <selenium.webdriver.remote.webelement.WebElement (session=\"0d5c07cc4565a0650ee15effe14f2393\", element=\"0a58a668-4179-4ae0-aab0-c465670f8957\")>,\n",
       " <selenium.webdriver.remote.webelement.WebElement (session=\"0d5c07cc4565a0650ee15effe14f2393\", element=\"4d3d8efd-6327-4735-b830-c3315cb6e312\")>,\n",
       " <selenium.webdriver.remote.webelement.WebElement (session=\"0d5c07cc4565a0650ee15effe14f2393\", element=\"9f870229-1525-48b4-b29f-64416f40970d\")>,\n",
       " <selenium.webdriver.remote.webelement.WebElement (session=\"0d5c07cc4565a0650ee15effe14f2393\", element=\"8f0d9e42-b321-4098-9ac7-4d6e305b494e\")>,\n",
       " <selenium.webdriver.remote.webelement.WebElement (session=\"0d5c07cc4565a0650ee15effe14f2393\", element=\"dbf92401-0986-4342-ba32-451549a58ae3\")>,\n",
       " <selenium.webdriver.remote.webelement.WebElement (session=\"0d5c07cc4565a0650ee15effe14f2393\", element=\"5f1ff239-7b6c-402e-b590-9970ba2d0999\")>,\n",
       " <selenium.webdriver.remote.webelement.WebElement (session=\"0d5c07cc4565a0650ee15effe14f2393\", element=\"c4aed286-c877-4c34-8e75-9553caa2f901\")>,\n",
       " <selenium.webdriver.remote.webelement.WebElement (session=\"0d5c07cc4565a0650ee15effe14f2393\", element=\"bd7d5749-7331-4ce5-9d4d-21532f3b32f9\")>,\n",
       " <selenium.webdriver.remote.webelement.WebElement (session=\"0d5c07cc4565a0650ee15effe14f2393\", element=\"f66e8a0a-2b27-4a12-857e-355e00dba464\")>,\n",
       " <selenium.webdriver.remote.webelement.WebElement (session=\"0d5c07cc4565a0650ee15effe14f2393\", element=\"fc5bda72-358a-4e7f-a5a0-9851928ce21f\")>,\n",
       " <selenium.webdriver.remote.webelement.WebElement (session=\"0d5c07cc4565a0650ee15effe14f2393\", element=\"1418ad6c-ea43-4e93-8a97-48f8734a97d9\")>,\n",
       " <selenium.webdriver.remote.webelement.WebElement (session=\"0d5c07cc4565a0650ee15effe14f2393\", element=\"39bbfb66-beff-4de2-bb2a-0cf05cb3a0f9\")>,\n",
       " <selenium.webdriver.remote.webelement.WebElement (session=\"0d5c07cc4565a0650ee15effe14f2393\", element=\"8cf02b67-0b8c-4368-8e2a-403f0b913e68\")>,\n",
       " <selenium.webdriver.remote.webelement.WebElement (session=\"0d5c07cc4565a0650ee15effe14f2393\", element=\"defb302b-36fe-48fa-9182-50867c09b40f\")>,\n",
       " <selenium.webdriver.remote.webelement.WebElement (session=\"0d5c07cc4565a0650ee15effe14f2393\", element=\"e367c091-4c0b-4693-aeb2-a1c1a20e39a3\")>,\n",
       " <selenium.webdriver.remote.webelement.WebElement (session=\"0d5c07cc4565a0650ee15effe14f2393\", element=\"86cb9c6d-59f4-4c66-b3e5-735468d9cd84\")>,\n",
       " <selenium.webdriver.remote.webelement.WebElement (session=\"0d5c07cc4565a0650ee15effe14f2393\", element=\"38b0672b-4213-4150-b47e-70f03a35faff\")>,\n",
       " <selenium.webdriver.remote.webelement.WebElement (session=\"0d5c07cc4565a0650ee15effe14f2393\", element=\"0fd8b837-425f-4dbe-9f01-110481cead19\")>,\n",
       " <selenium.webdriver.remote.webelement.WebElement (session=\"0d5c07cc4565a0650ee15effe14f2393\", element=\"ee9dba9e-7d59-48be-ad42-afa21b3559bf\")>,\n",
       " <selenium.webdriver.remote.webelement.WebElement (session=\"0d5c07cc4565a0650ee15effe14f2393\", element=\"70608a20-08b0-4399-b55a-ea4daf0834c4\")>]"
      ]
     },
     "execution_count": 69,
     "metadata": {},
     "output_type": "execute_result"
    }
   ],
   "source": [
    "Brands_tags=driver.find_elements_by_xpath(\"//div[@class='_2WkVRV']\")\n",
    "Brands_tags"
   ]
  },
  {
   "cell_type": "code",
   "execution_count": 70,
   "id": "c13d5dca",
   "metadata": {},
   "outputs": [
    {
     "data": {
      "text/plain": [
       "['corsac',\n",
       " 'URBANBOX',\n",
       " 'aadi',\n",
       " 'Chevit',\n",
       " 'World Wear Footwear',\n",
       " 'BRUTON',\n",
       " 'Magnolia',\n",
       " 'KWIK FIT',\n",
       " 'Labbin',\n",
       " 'BIRDE',\n",
       " 'aadi',\n",
       " 'BRUTON',\n",
       " 'Layasa',\n",
       " 'World Wear Footwear',\n",
       " 'SCATCHITE',\n",
       " 'BIRDE',\n",
       " 'BRUTON',\n",
       " 'D-SNEAKERZ',\n",
       " 'PUMA',\n",
       " 'BRUTON',\n",
       " 'BRUTON',\n",
       " 'ASTEROID',\n",
       " 'aadi',\n",
       " 'ASTEROID',\n",
       " 'World Wear Footwear',\n",
       " 'CLYMB',\n",
       " 'WHITE WALKERS',\n",
       " 'Robbie jones',\n",
       " 'Chevit',\n",
       " 'BIRDE',\n",
       " 'Chevit',\n",
       " 'Zsyto',\n",
       " 'BIRDE',\n",
       " 'Arohi',\n",
       " 'corsac',\n",
       " 'Kraasa',\n",
       " 'Chevit',\n",
       " 'RapidBox',\n",
       " 'bluemaker',\n",
       " 'Echor']"
      ]
     },
     "execution_count": 70,
     "metadata": {},
     "output_type": "execute_result"
    }
   ],
   "source": [
    "for i in Brands_tags:\n",
    "    Brands=i.text\n",
    "    Brands_list.append(Brands)\n",
    "Brands_list"
   ]
  },
  {
   "cell_type": "code",
   "execution_count": 71,
   "id": "56789ef0",
   "metadata": {},
   "outputs": [
    {
     "data": {
      "text/plain": [
       "[<selenium.webdriver.remote.webelement.WebElement (session=\"0d5c07cc4565a0650ee15effe14f2393\", element=\"078314bb-9979-49d6-987b-92217a4060e6\")>,\n",
       " <selenium.webdriver.remote.webelement.WebElement (session=\"0d5c07cc4565a0650ee15effe14f2393\", element=\"144a928d-5a7d-43eb-bede-27875e658d53\")>,\n",
       " <selenium.webdriver.remote.webelement.WebElement (session=\"0d5c07cc4565a0650ee15effe14f2393\", element=\"fbca192e-625e-4a83-be52-292d6b5515d7\")>,\n",
       " <selenium.webdriver.remote.webelement.WebElement (session=\"0d5c07cc4565a0650ee15effe14f2393\", element=\"73a5e485-ec02-4994-95ff-1d91b5707619\")>,\n",
       " <selenium.webdriver.remote.webelement.WebElement (session=\"0d5c07cc4565a0650ee15effe14f2393\", element=\"043be1eb-6cbb-4566-866c-9b7ce8fef565\")>,\n",
       " <selenium.webdriver.remote.webelement.WebElement (session=\"0d5c07cc4565a0650ee15effe14f2393\", element=\"44b4f9f1-440a-49fd-b180-d6867f3eb839\")>,\n",
       " <selenium.webdriver.remote.webelement.WebElement (session=\"0d5c07cc4565a0650ee15effe14f2393\", element=\"86ec3068-cc2b-4d1b-9bb5-53193e0a179c\")>,\n",
       " <selenium.webdriver.remote.webelement.WebElement (session=\"0d5c07cc4565a0650ee15effe14f2393\", element=\"5078d97b-51c4-4b71-86ef-f292b4562282\")>,\n",
       " <selenium.webdriver.remote.webelement.WebElement (session=\"0d5c07cc4565a0650ee15effe14f2393\", element=\"6510963c-8654-42b6-8f09-3cb19f8dcaac\")>,\n",
       " <selenium.webdriver.remote.webelement.WebElement (session=\"0d5c07cc4565a0650ee15effe14f2393\", element=\"71e4f1f4-7321-4535-94e7-013c93b275b1\")>,\n",
       " <selenium.webdriver.remote.webelement.WebElement (session=\"0d5c07cc4565a0650ee15effe14f2393\", element=\"ae3a1571-a00d-4aa3-8637-8ee12a0ca43a\")>,\n",
       " <selenium.webdriver.remote.webelement.WebElement (session=\"0d5c07cc4565a0650ee15effe14f2393\", element=\"40860d85-cb6c-4f62-aab6-36e928513aed\")>,\n",
       " <selenium.webdriver.remote.webelement.WebElement (session=\"0d5c07cc4565a0650ee15effe14f2393\", element=\"8bb62d1d-5cfc-49af-9423-7c7b0a86d34e\")>,\n",
       " <selenium.webdriver.remote.webelement.WebElement (session=\"0d5c07cc4565a0650ee15effe14f2393\", element=\"ab6b035c-7939-4af3-9e7d-65e5d88af1b2\")>,\n",
       " <selenium.webdriver.remote.webelement.WebElement (session=\"0d5c07cc4565a0650ee15effe14f2393\", element=\"3fe1409f-83f0-4d56-8321-4c746e461714\")>,\n",
       " <selenium.webdriver.remote.webelement.WebElement (session=\"0d5c07cc4565a0650ee15effe14f2393\", element=\"b9f7be5f-3f56-4eb0-86ee-e8eb2ac89428\")>,\n",
       " <selenium.webdriver.remote.webelement.WebElement (session=\"0d5c07cc4565a0650ee15effe14f2393\", element=\"395d1a10-bf50-4ed6-b562-12ca235a4f6e\")>,\n",
       " <selenium.webdriver.remote.webelement.WebElement (session=\"0d5c07cc4565a0650ee15effe14f2393\", element=\"9ebd40cc-b5c6-4e8d-85bd-aac9828930fe\")>,\n",
       " <selenium.webdriver.remote.webelement.WebElement (session=\"0d5c07cc4565a0650ee15effe14f2393\", element=\"953a99d4-559d-4ebc-be13-db5bb327e64e\")>,\n",
       " <selenium.webdriver.remote.webelement.WebElement (session=\"0d5c07cc4565a0650ee15effe14f2393\", element=\"b6ffdb76-bdab-47fa-b549-42547a9e98f0\")>,\n",
       " <selenium.webdriver.remote.webelement.WebElement (session=\"0d5c07cc4565a0650ee15effe14f2393\", element=\"87b3c761-e34f-499c-b48a-f050cc34ee50\")>,\n",
       " <selenium.webdriver.remote.webelement.WebElement (session=\"0d5c07cc4565a0650ee15effe14f2393\", element=\"3dec516d-803b-446c-93ff-6e41626f9cc7\")>,\n",
       " <selenium.webdriver.remote.webelement.WebElement (session=\"0d5c07cc4565a0650ee15effe14f2393\", element=\"c619ad0e-a3a0-41bc-9479-3b169519dd0a\")>,\n",
       " <selenium.webdriver.remote.webelement.WebElement (session=\"0d5c07cc4565a0650ee15effe14f2393\", element=\"dabef5e9-7b95-4755-93bc-6b5674a11aa5\")>,\n",
       " <selenium.webdriver.remote.webelement.WebElement (session=\"0d5c07cc4565a0650ee15effe14f2393\", element=\"6e3d33b7-4225-4793-8c67-90cc37ee7004\")>,\n",
       " <selenium.webdriver.remote.webelement.WebElement (session=\"0d5c07cc4565a0650ee15effe14f2393\", element=\"8d76b499-949e-4ddb-9f77-7f28dca5e328\")>,\n",
       " <selenium.webdriver.remote.webelement.WebElement (session=\"0d5c07cc4565a0650ee15effe14f2393\", element=\"249dd0df-c6ea-4b54-8de3-448e2c5895f3\")>,\n",
       " <selenium.webdriver.remote.webelement.WebElement (session=\"0d5c07cc4565a0650ee15effe14f2393\", element=\"61822795-a459-4233-954f-51aee97fbd68\")>,\n",
       " <selenium.webdriver.remote.webelement.WebElement (session=\"0d5c07cc4565a0650ee15effe14f2393\", element=\"3376bfb4-e58b-4337-bf6e-2f29461fb5a6\")>,\n",
       " <selenium.webdriver.remote.webelement.WebElement (session=\"0d5c07cc4565a0650ee15effe14f2393\", element=\"a90fadbc-bc1c-4117-969e-b80dfa6678e3\")>,\n",
       " <selenium.webdriver.remote.webelement.WebElement (session=\"0d5c07cc4565a0650ee15effe14f2393\", element=\"6b6ac524-7cb7-4b4e-9e6e-99f1b10e265d\")>,\n",
       " <selenium.webdriver.remote.webelement.WebElement (session=\"0d5c07cc4565a0650ee15effe14f2393\", element=\"b91d02cf-b314-4fb4-a62a-ee2072d66c0d\")>,\n",
       " <selenium.webdriver.remote.webelement.WebElement (session=\"0d5c07cc4565a0650ee15effe14f2393\", element=\"433f4e2e-0e43-4d86-8edf-d3e8a5b8a4b9\")>,\n",
       " <selenium.webdriver.remote.webelement.WebElement (session=\"0d5c07cc4565a0650ee15effe14f2393\", element=\"45b00b3f-b40f-4bd6-8b39-9bf1bbe474a0\")>,\n",
       " <selenium.webdriver.remote.webelement.WebElement (session=\"0d5c07cc4565a0650ee15effe14f2393\", element=\"619fe2e1-0831-4a11-843d-ca50fb80979b\")>,\n",
       " <selenium.webdriver.remote.webelement.WebElement (session=\"0d5c07cc4565a0650ee15effe14f2393\", element=\"81593119-c61c-437f-886a-c1f3a210765c\")>,\n",
       " <selenium.webdriver.remote.webelement.WebElement (session=\"0d5c07cc4565a0650ee15effe14f2393\", element=\"de27850b-49f7-465f-8539-c88471590e1d\")>,\n",
       " <selenium.webdriver.remote.webelement.WebElement (session=\"0d5c07cc4565a0650ee15effe14f2393\", element=\"368a29ac-c78f-4818-b50a-49cf220cf1c7\")>,\n",
       " <selenium.webdriver.remote.webelement.WebElement (session=\"0d5c07cc4565a0650ee15effe14f2393\", element=\"b0d1bc71-0f8b-4998-8ef6-4d7dce791d2b\")>,\n",
       " <selenium.webdriver.remote.webelement.WebElement (session=\"0d5c07cc4565a0650ee15effe14f2393\", element=\"483b1b61-ce4c-403b-96b5-275c9846e929\")>]"
      ]
     },
     "execution_count": 71,
     "metadata": {},
     "output_type": "execute_result"
    }
   ],
   "source": [
    "Product_tags=driver.find_elements_by_xpath(\"//div[@class='_1xHGtK _373qXS']\")\n",
    "Product_tags"
   ]
  },
  {
   "cell_type": "code",
   "execution_count": 72,
   "id": "0c3d06b5",
   "metadata": {},
   "outputs": [
    {
     "data": {
      "text/plain": [
       "['corsac\\nSTYLISH MENS BLACK SNEAKER Sneakers For Men\\n₹449₹1,49970% off\\nFree delivery',\n",
       " 'URBANBOX\\nSneakers Sneakers For Men\\n₹158₹99984% off',\n",
       " 'aadi\\nSneakers For Men\\n₹269₹99973% off\\nFree delivery',\n",
       " 'Chevit\\n516 Trendy Star Perfect Sneakers For Men\\n₹209₹79973% off\\nFree delivery',\n",
       " 'World Wear Footwear\\n5011-Latest Collection Stylish & Trendy Casual Sneakers...\\n₹199₹49960% off\\nFree delivery',\n",
       " 'BRUTON\\nModern Trendy Sneakers Shoes Sneakers For Men\\n₹186₹1,29985% off\\nFree delivery\\nDeal of the Day',\n",
       " 'Magnolia\\nSneakers For Men\\n₹374₹99962% off\\nFree delivery\\nDeal of the Day',\n",
       " 'KWIK FIT\\nKwik FIT casual sneaker shoes and partywear shoes Casua...\\n₹349₹1,99982% off\\nFree delivery',\n",
       " 'Labbin\\nSneakers For Men\\n₹424₹99957% off\\nFree delivery',\n",
       " 'BIRDE\\nStylish Comfortable Lightweight, Breathable Walking Sho...\\n₹301₹99969% off\\nFree delivery',\n",
       " 'aadi\\nSneakers For Men\\n₹269₹99973% off\\nFree delivery',\n",
       " 'BRUTON\\nLightweight Pack Of 1 Trendy Sneakers Sneakers For Men\\n₹147₹59975% off\\nFree delivery\\nDeal of the Day',\n",
       " 'Layasa\\nSneakers For Men\\n₹449₹99955% off\\nFree delivery',\n",
       " 'World Wear Footwear\\nMen 5014 Latest Collection Stylish Casual Sports Loafer...\\n₹199₹49960% off\\nFree delivery',\n",
       " 'SCATCHITE\\nSneakers Sneakers For Men\\n₹348₹99965% off\\nFree delivery',\n",
       " 'BIRDE\\nSports Running Shoes Sneakers For Men\\n₹301₹99869% off\\nFree delivery',\n",
       " 'BRUTON\\nLattest Sneakers Shoe Sneakers For Men\\n₹219₹1,29983% off\\nFree delivery\\nLowest price in the year',\n",
       " \"D-SNEAKERZ\\nCasual , Partywear Sneakers Shoes For Men's And Boys Wh...\\n₹384₹99961% off\\nFree delivery\",\n",
       " 'PUMA\\nBlend Sneakers For Men\\n₹1,749₹2,99941% off\\nFree delivery',\n",
       " 'BRUTON\\nSneaker Sneakers For Men\\n₹301₹1,29976% off\\nFree delivery\\nDeal of the Day',\n",
       " 'BRUTON\\nLightweight Pack Of 1 Trendy Sneakers Sneakers Sneakers...\\n₹132₹59977% off\\nFree delivery\\nDeal of the Day',\n",
       " 'ASTEROID\\nOriginal Luxury Branded Black Fancy Casual Walking Part...\\n₹449₹99955% off\\nFree delivery',\n",
       " 'aadi\\nSneakers For Men\\n₹269₹1,99986% off\\nFree delivery',\n",
       " \"ASTEROID\\nOriginal Luxury Branded Fashionable Men's Casual Walkin...\\n₹449₹1,99977% off\\nFree delivery\",\n",
       " 'World Wear Footwear\\nLatest Collection-1227 Stylish Casual Sports Sneakers F...\\n₹199₹49960% off\\nFree delivery',\n",
       " 'CLYMB\\nSneakers For Men\\n₹599₹1,49960% off\\nFree delivery\\nBuy 2 items, save extra 5%',\n",
       " 'WHITE WALKERS\\nStylish & Trending Outdoor Walking Comfortable Sneakers...\\n₹549₹1,19954% off\\nFree delivery',\n",
       " 'Robbie jones\\nSneakers For Men\\n₹424₹99957% off\\nFree delivery',\n",
       " 'Chevit\\nSuper Stylish & Trendy Combo Pack of 02 Pairs Sneakers ...\\n₹629₹1,59860% off\\nFree delivery',\n",
       " 'BIRDE\\nStylish Comfortable Lightweight, Breathable Walking Sho...\\n₹301₹99969% off\\nFree delivery',\n",
       " 'Chevit\\nSneakers For Men\\n₹249₹79968% off\\nFree delivery',\n",
       " 'Zsyto\\nSneakers For Men\\n₹298₹1,29977% off',\n",
       " 'BIRDE\\nStylish Comfortable Lightweight, Breathable Walking Sho...\\n₹301₹99969% off\\nFree delivery',\n",
       " 'Arohi\\nSneakers For Men\\n₹379₹99962% off\\nFree delivery',\n",
       " 'corsac\\nSTYLISH MENS BLACK TRENDY SNEAKER FOR MENS Sneakers For...\\n₹499₹1,49966% off',\n",
       " 'Kraasa\\nShark-41 Sneakers For Men\\n₹449₹99955% off\\nFree delivery\\nDeal of the Day',\n",
       " 'Chevit\\nSneakers For Men\\n₹213₹79973% off\\nFree delivery\\nDeal of the Day',\n",
       " 'RapidBox\\nSneakers For Men\\n₹670₹98231% off',\n",
       " 'bluemaker\\ncasual shoe for men Sneakers For Men\\n₹399₹99960% off\\nFree delivery',\n",
       " \"Echor\\nMen's Sneakers Fashion Lightweight Running Shoes Tennis...\\n₹489₹99951% off\\nFree delivery\"]"
      ]
     },
     "execution_count": 72,
     "metadata": {},
     "output_type": "execute_result"
    }
   ],
   "source": [
    "for i in Product_tags:\n",
    "    Products=i.text\n",
    "    Product_list.append(Products)\n",
    "Product_list"
   ]
  },
  {
   "cell_type": "code",
   "execution_count": 73,
   "id": "0a065d6e",
   "metadata": {},
   "outputs": [
    {
     "data": {
      "text/plain": [
       "[<selenium.webdriver.remote.webelement.WebElement (session=\"0d5c07cc4565a0650ee15effe14f2393\", element=\"3a15a3c8-aecc-43d5-bfc6-60a9aedcbb44\")>,\n",
       " <selenium.webdriver.remote.webelement.WebElement (session=\"0d5c07cc4565a0650ee15effe14f2393\", element=\"c3efb337-0ee8-4971-8cb8-ecdf223c460c\")>,\n",
       " <selenium.webdriver.remote.webelement.WebElement (session=\"0d5c07cc4565a0650ee15effe14f2393\", element=\"9d326794-754a-4b70-8c4b-dcb31bfbaadd\")>,\n",
       " <selenium.webdriver.remote.webelement.WebElement (session=\"0d5c07cc4565a0650ee15effe14f2393\", element=\"ac7f706d-883f-4b8e-81ce-64acdf6cd339\")>,\n",
       " <selenium.webdriver.remote.webelement.WebElement (session=\"0d5c07cc4565a0650ee15effe14f2393\", element=\"00b7d703-83b9-493d-8d02-e809d1d47098\")>,\n",
       " <selenium.webdriver.remote.webelement.WebElement (session=\"0d5c07cc4565a0650ee15effe14f2393\", element=\"4998a2c6-8acc-4123-9688-c379475e8aca\")>,\n",
       " <selenium.webdriver.remote.webelement.WebElement (session=\"0d5c07cc4565a0650ee15effe14f2393\", element=\"2e52f853-7cc5-44b0-887d-0889c5a78050\")>,\n",
       " <selenium.webdriver.remote.webelement.WebElement (session=\"0d5c07cc4565a0650ee15effe14f2393\", element=\"f4365b68-2c03-4b6c-9f8e-6e46fb05858b\")>,\n",
       " <selenium.webdriver.remote.webelement.WebElement (session=\"0d5c07cc4565a0650ee15effe14f2393\", element=\"b045035c-21e1-4f67-b735-7b9399735e54\")>,\n",
       " <selenium.webdriver.remote.webelement.WebElement (session=\"0d5c07cc4565a0650ee15effe14f2393\", element=\"050eb932-de57-4d2a-8371-2e945c201cd0\")>,\n",
       " <selenium.webdriver.remote.webelement.WebElement (session=\"0d5c07cc4565a0650ee15effe14f2393\", element=\"a21c5e58-0882-4613-9435-3342cbbc86f9\")>,\n",
       " <selenium.webdriver.remote.webelement.WebElement (session=\"0d5c07cc4565a0650ee15effe14f2393\", element=\"7a3f6f79-23d9-4fe1-a72c-04801525c140\")>,\n",
       " <selenium.webdriver.remote.webelement.WebElement (session=\"0d5c07cc4565a0650ee15effe14f2393\", element=\"6d07b820-b63b-489d-8c24-21394bd89b2a\")>,\n",
       " <selenium.webdriver.remote.webelement.WebElement (session=\"0d5c07cc4565a0650ee15effe14f2393\", element=\"fd5ad54c-f5a8-4765-a08b-38fbe1f5e48e\")>,\n",
       " <selenium.webdriver.remote.webelement.WebElement (session=\"0d5c07cc4565a0650ee15effe14f2393\", element=\"0c2c2dbb-a1a6-4398-99b7-f43f661a1e40\")>,\n",
       " <selenium.webdriver.remote.webelement.WebElement (session=\"0d5c07cc4565a0650ee15effe14f2393\", element=\"ecb90d95-0494-4180-a481-2a8f0e2cc3c4\")>,\n",
       " <selenium.webdriver.remote.webelement.WebElement (session=\"0d5c07cc4565a0650ee15effe14f2393\", element=\"27ec897f-5023-4184-a531-8990b4e4a442\")>,\n",
       " <selenium.webdriver.remote.webelement.WebElement (session=\"0d5c07cc4565a0650ee15effe14f2393\", element=\"87db8419-a2eb-4295-93bf-93f3453bb74f\")>,\n",
       " <selenium.webdriver.remote.webelement.WebElement (session=\"0d5c07cc4565a0650ee15effe14f2393\", element=\"2e526c09-b135-42cb-a89a-471b1868cb1b\")>,\n",
       " <selenium.webdriver.remote.webelement.WebElement (session=\"0d5c07cc4565a0650ee15effe14f2393\", element=\"783ec99d-5b4c-41b3-815f-d2021a6536f3\")>,\n",
       " <selenium.webdriver.remote.webelement.WebElement (session=\"0d5c07cc4565a0650ee15effe14f2393\", element=\"66876de1-975d-4683-9862-c37808053531\")>,\n",
       " <selenium.webdriver.remote.webelement.WebElement (session=\"0d5c07cc4565a0650ee15effe14f2393\", element=\"b1a1f9fc-d0c6-49ce-882a-4532b2b99413\")>,\n",
       " <selenium.webdriver.remote.webelement.WebElement (session=\"0d5c07cc4565a0650ee15effe14f2393\", element=\"6701d5f8-ec13-4cac-85d7-71ac12f97a4f\")>,\n",
       " <selenium.webdriver.remote.webelement.WebElement (session=\"0d5c07cc4565a0650ee15effe14f2393\", element=\"a27daf32-2976-45ac-9749-bdce28c708a5\")>,\n",
       " <selenium.webdriver.remote.webelement.WebElement (session=\"0d5c07cc4565a0650ee15effe14f2393\", element=\"b410e7af-5dac-4bd8-b263-af75146fd4cd\")>,\n",
       " <selenium.webdriver.remote.webelement.WebElement (session=\"0d5c07cc4565a0650ee15effe14f2393\", element=\"516fabcc-fd68-4d24-937c-d51b748516fd\")>,\n",
       " <selenium.webdriver.remote.webelement.WebElement (session=\"0d5c07cc4565a0650ee15effe14f2393\", element=\"28efd227-fb75-4167-a759-a1acb0426bbf\")>,\n",
       " <selenium.webdriver.remote.webelement.WebElement (session=\"0d5c07cc4565a0650ee15effe14f2393\", element=\"af4aaff1-2705-40ad-838e-98b519baaec5\")>,\n",
       " <selenium.webdriver.remote.webelement.WebElement (session=\"0d5c07cc4565a0650ee15effe14f2393\", element=\"8f760e83-4af2-4490-bc51-efd016be6b8b\")>,\n",
       " <selenium.webdriver.remote.webelement.WebElement (session=\"0d5c07cc4565a0650ee15effe14f2393\", element=\"2142ba8d-552b-4226-ad77-3e8af5a3a578\")>,\n",
       " <selenium.webdriver.remote.webelement.WebElement (session=\"0d5c07cc4565a0650ee15effe14f2393\", element=\"8c7be0a3-6478-406f-839b-5018d9e1c2cf\")>,\n",
       " <selenium.webdriver.remote.webelement.WebElement (session=\"0d5c07cc4565a0650ee15effe14f2393\", element=\"bc343eeb-ed76-4c9a-ac69-3e829a5d0d04\")>,\n",
       " <selenium.webdriver.remote.webelement.WebElement (session=\"0d5c07cc4565a0650ee15effe14f2393\", element=\"54de47d0-a1eb-4e88-beec-7741d7713b94\")>,\n",
       " <selenium.webdriver.remote.webelement.WebElement (session=\"0d5c07cc4565a0650ee15effe14f2393\", element=\"02710d19-805f-4aab-8965-acad56ea61f9\")>,\n",
       " <selenium.webdriver.remote.webelement.WebElement (session=\"0d5c07cc4565a0650ee15effe14f2393\", element=\"44dd41f6-2dc6-4aaf-8ed3-2d7b009f2a24\")>,\n",
       " <selenium.webdriver.remote.webelement.WebElement (session=\"0d5c07cc4565a0650ee15effe14f2393\", element=\"b691eefd-641a-4f6c-be99-ca3c9fd0ac4a\")>,\n",
       " <selenium.webdriver.remote.webelement.WebElement (session=\"0d5c07cc4565a0650ee15effe14f2393\", element=\"668d8016-fead-4570-ab15-f17326fa4b76\")>,\n",
       " <selenium.webdriver.remote.webelement.WebElement (session=\"0d5c07cc4565a0650ee15effe14f2393\", element=\"6d9e1c6c-372c-4cec-8719-6801efa5b70e\")>,\n",
       " <selenium.webdriver.remote.webelement.WebElement (session=\"0d5c07cc4565a0650ee15effe14f2393\", element=\"75403d33-fc04-4ced-bfd0-db2907206ceb\")>,\n",
       " <selenium.webdriver.remote.webelement.WebElement (session=\"0d5c07cc4565a0650ee15effe14f2393\", element=\"c5e6bac3-e9ae-4f62-8159-3d6514bc2866\")>]"
      ]
     },
     "execution_count": 73,
     "metadata": {},
     "output_type": "execute_result"
    }
   ],
   "source": [
    "Price_tags=driver.find_elements_by_xpath(\"//div[@class='_30jeq3']\")\n",
    "Price_tags"
   ]
  },
  {
   "cell_type": "code",
   "execution_count": 74,
   "id": "88d156fc",
   "metadata": {},
   "outputs": [
    {
     "data": {
      "text/plain": [
       "['₹449',\n",
       " '₹158',\n",
       " '₹269',\n",
       " '₹209',\n",
       " '₹199',\n",
       " '₹186',\n",
       " '₹374',\n",
       " '₹349',\n",
       " '₹424',\n",
       " '₹301',\n",
       " '₹269',\n",
       " '₹147',\n",
       " '₹449',\n",
       " '₹199',\n",
       " '₹348',\n",
       " '₹301',\n",
       " '₹219',\n",
       " '₹384',\n",
       " '₹1,749',\n",
       " '₹301',\n",
       " '₹132',\n",
       " '₹449',\n",
       " '₹269',\n",
       " '₹449',\n",
       " '₹199',\n",
       " '₹599',\n",
       " '₹549',\n",
       " '₹424',\n",
       " '₹629',\n",
       " '₹301',\n",
       " '₹249',\n",
       " '₹298',\n",
       " '₹301',\n",
       " '₹379',\n",
       " '₹499',\n",
       " '₹449',\n",
       " '₹213',\n",
       " '₹670',\n",
       " '₹399',\n",
       " '₹489']"
      ]
     },
     "execution_count": 74,
     "metadata": {},
     "output_type": "execute_result"
    }
   ],
   "source": [
    "for i in Price_tags:\n",
    "    Price=i.text\n",
    "    Price_list.append(Price)\n",
    "Price_list"
   ]
  },
  {
   "cell_type": "code",
   "execution_count": 75,
   "id": "9d17ee3a",
   "metadata": {},
   "outputs": [
    {
     "data": {
      "text/plain": [
       "[<selenium.webdriver.remote.webelement.WebElement (session=\"0d5c07cc4565a0650ee15effe14f2393\", element=\"235f9167-5ebd-493a-ad3b-6c9dd3a8aa00\")>,\n",
       " <selenium.webdriver.remote.webelement.WebElement (session=\"0d5c07cc4565a0650ee15effe14f2393\", element=\"50dc6716-7b75-482c-9938-3a996f8595eb\")>,\n",
       " <selenium.webdriver.remote.webelement.WebElement (session=\"0d5c07cc4565a0650ee15effe14f2393\", element=\"357b9502-7806-429b-bbec-3d7ff45abd87\")>,\n",
       " <selenium.webdriver.remote.webelement.WebElement (session=\"0d5c07cc4565a0650ee15effe14f2393\", element=\"11883cc3-7c2e-4240-96a4-7fdd2937a4c7\")>,\n",
       " <selenium.webdriver.remote.webelement.WebElement (session=\"0d5c07cc4565a0650ee15effe14f2393\", element=\"d5f43c9e-3dd9-43cd-b7e0-9e929018695a\")>,\n",
       " <selenium.webdriver.remote.webelement.WebElement (session=\"0d5c07cc4565a0650ee15effe14f2393\", element=\"99575d8c-7a24-4aa9-b8e6-cd1be454cb68\")>,\n",
       " <selenium.webdriver.remote.webelement.WebElement (session=\"0d5c07cc4565a0650ee15effe14f2393\", element=\"43ffc18a-f730-47b2-85b8-d9639cd56c2b\")>,\n",
       " <selenium.webdriver.remote.webelement.WebElement (session=\"0d5c07cc4565a0650ee15effe14f2393\", element=\"e3796cfe-f002-4561-a7b6-a4b8faf9cadc\")>,\n",
       " <selenium.webdriver.remote.webelement.WebElement (session=\"0d5c07cc4565a0650ee15effe14f2393\", element=\"8bef0684-1968-41c3-9332-eaa9044965a3\")>,\n",
       " <selenium.webdriver.remote.webelement.WebElement (session=\"0d5c07cc4565a0650ee15effe14f2393\", element=\"282780c4-c122-45b9-9f41-deaed9d160d2\")>,\n",
       " <selenium.webdriver.remote.webelement.WebElement (session=\"0d5c07cc4565a0650ee15effe14f2393\", element=\"0dafd61c-d230-4c90-a26b-f5193db8480c\")>,\n",
       " <selenium.webdriver.remote.webelement.WebElement (session=\"0d5c07cc4565a0650ee15effe14f2393\", element=\"a90403d0-d620-428c-9332-408bb7fe6828\")>,\n",
       " <selenium.webdriver.remote.webelement.WebElement (session=\"0d5c07cc4565a0650ee15effe14f2393\", element=\"a963fa91-7bf7-4884-82fc-bfa912d1c4c7\")>,\n",
       " <selenium.webdriver.remote.webelement.WebElement (session=\"0d5c07cc4565a0650ee15effe14f2393\", element=\"828a71d9-dd7a-41e8-8125-d72a1c149710\")>,\n",
       " <selenium.webdriver.remote.webelement.WebElement (session=\"0d5c07cc4565a0650ee15effe14f2393\", element=\"a3e1acb5-c22f-4ae7-b51f-b16567c79585\")>,\n",
       " <selenium.webdriver.remote.webelement.WebElement (session=\"0d5c07cc4565a0650ee15effe14f2393\", element=\"c70cdf8d-1318-41e0-a205-c8fb604bd7db\")>,\n",
       " <selenium.webdriver.remote.webelement.WebElement (session=\"0d5c07cc4565a0650ee15effe14f2393\", element=\"c128c9f6-5c51-4d28-aac4-ff985c1ebb36\")>,\n",
       " <selenium.webdriver.remote.webelement.WebElement (session=\"0d5c07cc4565a0650ee15effe14f2393\", element=\"386c3918-4024-4412-91da-f6c197ea9d1d\")>,\n",
       " <selenium.webdriver.remote.webelement.WebElement (session=\"0d5c07cc4565a0650ee15effe14f2393\", element=\"e14864d9-0164-4df4-9739-5dae1c0793ee\")>,\n",
       " <selenium.webdriver.remote.webelement.WebElement (session=\"0d5c07cc4565a0650ee15effe14f2393\", element=\"eff1e17b-9f8d-43e0-9217-b60e77248ae7\")>,\n",
       " <selenium.webdriver.remote.webelement.WebElement (session=\"0d5c07cc4565a0650ee15effe14f2393\", element=\"20b75821-f452-498f-ad9f-b98776a259af\")>,\n",
       " <selenium.webdriver.remote.webelement.WebElement (session=\"0d5c07cc4565a0650ee15effe14f2393\", element=\"e3e81250-232e-4837-a46f-8fda887a44ad\")>,\n",
       " <selenium.webdriver.remote.webelement.WebElement (session=\"0d5c07cc4565a0650ee15effe14f2393\", element=\"447456f0-65f7-405c-a24a-5f1c7545de49\")>,\n",
       " <selenium.webdriver.remote.webelement.WebElement (session=\"0d5c07cc4565a0650ee15effe14f2393\", element=\"2c904d80-09c7-47c8-ba78-3a7303fad557\")>,\n",
       " <selenium.webdriver.remote.webelement.WebElement (session=\"0d5c07cc4565a0650ee15effe14f2393\", element=\"162dbd09-988a-40d2-9ed2-bccab6b4493e\")>,\n",
       " <selenium.webdriver.remote.webelement.WebElement (session=\"0d5c07cc4565a0650ee15effe14f2393\", element=\"880989b2-d181-4220-ba9f-b39b5fac0471\")>,\n",
       " <selenium.webdriver.remote.webelement.WebElement (session=\"0d5c07cc4565a0650ee15effe14f2393\", element=\"bee2e313-82a8-492d-ae9a-0d2fec796ee9\")>,\n",
       " <selenium.webdriver.remote.webelement.WebElement (session=\"0d5c07cc4565a0650ee15effe14f2393\", element=\"9b8ba5d2-4477-4017-9199-5433ed909909\")>,\n",
       " <selenium.webdriver.remote.webelement.WebElement (session=\"0d5c07cc4565a0650ee15effe14f2393\", element=\"2e5a3d36-904d-4e18-92d8-81e3a118be0c\")>,\n",
       " <selenium.webdriver.remote.webelement.WebElement (session=\"0d5c07cc4565a0650ee15effe14f2393\", element=\"dbfabe60-ba7e-4570-b1e4-d4ea080ab63f\")>,\n",
       " <selenium.webdriver.remote.webelement.WebElement (session=\"0d5c07cc4565a0650ee15effe14f2393\", element=\"562d98b4-3b5b-44f2-a2b6-7678bda476d2\")>,\n",
       " <selenium.webdriver.remote.webelement.WebElement (session=\"0d5c07cc4565a0650ee15effe14f2393\", element=\"299c5051-530a-41ae-9b36-abfecf3fd093\")>,\n",
       " <selenium.webdriver.remote.webelement.WebElement (session=\"0d5c07cc4565a0650ee15effe14f2393\", element=\"089cd1b2-8415-4e6c-a5cf-bdb6b8da0224\")>,\n",
       " <selenium.webdriver.remote.webelement.WebElement (session=\"0d5c07cc4565a0650ee15effe14f2393\", element=\"eebb4c47-d789-4375-8762-4355ab2212fd\")>,\n",
       " <selenium.webdriver.remote.webelement.WebElement (session=\"0d5c07cc4565a0650ee15effe14f2393\", element=\"7bf3880e-cfe7-4405-8b20-bc494c99acad\")>,\n",
       " <selenium.webdriver.remote.webelement.WebElement (session=\"0d5c07cc4565a0650ee15effe14f2393\", element=\"89566ffe-bf11-4af8-92ec-3a8064d86487\")>,\n",
       " <selenium.webdriver.remote.webelement.WebElement (session=\"0d5c07cc4565a0650ee15effe14f2393\", element=\"7ae1c507-80fd-4421-872a-79e84de40672\")>,\n",
       " <selenium.webdriver.remote.webelement.WebElement (session=\"0d5c07cc4565a0650ee15effe14f2393\", element=\"9264cba5-7b76-40e5-b193-bb54a345d2bf\")>,\n",
       " <selenium.webdriver.remote.webelement.WebElement (session=\"0d5c07cc4565a0650ee15effe14f2393\", element=\"18a75a85-a720-4964-a87d-f22faa3553b7\")>,\n",
       " <selenium.webdriver.remote.webelement.WebElement (session=\"0d5c07cc4565a0650ee15effe14f2393\", element=\"eca8023b-0c0b-4225-8377-c7670d6e3e7b\")>]"
      ]
     },
     "execution_count": 75,
     "metadata": {},
     "output_type": "execute_result"
    }
   ],
   "source": [
    "Discount_tags=driver.find_elements_by_xpath(\"//div[@class='_3Ay6Sb']\")\n",
    "Discount_tags"
   ]
  },
  {
   "cell_type": "code",
   "execution_count": 76,
   "id": "36651f6c",
   "metadata": {},
   "outputs": [
    {
     "data": {
      "text/plain": [
       "['70% off',\n",
       " '84% off',\n",
       " '73% off',\n",
       " '73% off',\n",
       " '60% off',\n",
       " '85% off',\n",
       " '62% off',\n",
       " '82% off',\n",
       " '57% off',\n",
       " '69% off',\n",
       " '73% off',\n",
       " '75% off',\n",
       " '55% off',\n",
       " '60% off',\n",
       " '65% off',\n",
       " '69% off',\n",
       " '83% off',\n",
       " '61% off',\n",
       " '41% off',\n",
       " '76% off',\n",
       " '77% off',\n",
       " '55% off',\n",
       " '86% off',\n",
       " '77% off',\n",
       " '60% off',\n",
       " '60% off',\n",
       " '54% off',\n",
       " '57% off',\n",
       " '60% off',\n",
       " '69% off',\n",
       " '68% off',\n",
       " '77% off',\n",
       " '69% off',\n",
       " '62% off',\n",
       " '66% off',\n",
       " '55% off',\n",
       " '73% off',\n",
       " '31% off',\n",
       " '60% off',\n",
       " '51% off']"
      ]
     },
     "execution_count": 76,
     "metadata": {},
     "output_type": "execute_result"
    }
   ],
   "source": [
    "for i in Discount_tags:\n",
    "    Discount=i.text\n",
    "    Discount_list.append(Discount)\n",
    "Discount_list"
   ]
  },
  {
   "cell_type": "code",
   "execution_count": 77,
   "id": "1e85f1c0",
   "metadata": {},
   "outputs": [
    {
     "name": "stdout",
     "output_type": "stream",
     "text": [
      "40 40 40 40\n"
     ]
    }
   ],
   "source": [
    "print(len(Brands_list),len(Product_list),len(Price_list),len(Discount_list))"
   ]
  },
  {
   "cell_type": "code",
   "execution_count": 78,
   "id": "d2582b92",
   "metadata": {},
   "outputs": [],
   "source": [
    "Sneakers=pd.DataFrame({})\n",
    "Sneakers['Brand']=Brands_list\n",
    "Sneakers['Product']=Product_list\n",
    "Sneakers['Price']=Price_list\n",
    "Sneakers['Discount']=Discount_list"
   ]
  },
  {
   "cell_type": "code",
   "execution_count": 79,
   "id": "a71a0f98",
   "metadata": {},
   "outputs": [
    {
     "data": {
      "text/html": [
       "<div>\n",
       "<style scoped>\n",
       "    .dataframe tbody tr th:only-of-type {\n",
       "        vertical-align: middle;\n",
       "    }\n",
       "\n",
       "    .dataframe tbody tr th {\n",
       "        vertical-align: top;\n",
       "    }\n",
       "\n",
       "    .dataframe thead th {\n",
       "        text-align: right;\n",
       "    }\n",
       "</style>\n",
       "<table border=\"1\" class=\"dataframe\">\n",
       "  <thead>\n",
       "    <tr style=\"text-align: right;\">\n",
       "      <th></th>\n",
       "      <th>Brand</th>\n",
       "      <th>Product</th>\n",
       "      <th>Price</th>\n",
       "      <th>Discount</th>\n",
       "    </tr>\n",
       "  </thead>\n",
       "  <tbody>\n",
       "    <tr>\n",
       "      <th>0</th>\n",
       "      <td>corsac</td>\n",
       "      <td>corsac\\nSTYLISH MENS BLACK SNEAKER Sneakers Fo...</td>\n",
       "      <td>₹449</td>\n",
       "      <td>70% off</td>\n",
       "    </tr>\n",
       "    <tr>\n",
       "      <th>1</th>\n",
       "      <td>URBANBOX</td>\n",
       "      <td>URBANBOX\\nSneakers Sneakers For Men\\n₹158₹9998...</td>\n",
       "      <td>₹158</td>\n",
       "      <td>84% off</td>\n",
       "    </tr>\n",
       "    <tr>\n",
       "      <th>2</th>\n",
       "      <td>aadi</td>\n",
       "      <td>aadi\\nSneakers For Men\\n₹269₹99973% off\\nFree ...</td>\n",
       "      <td>₹269</td>\n",
       "      <td>73% off</td>\n",
       "    </tr>\n",
       "    <tr>\n",
       "      <th>3</th>\n",
       "      <td>Chevit</td>\n",
       "      <td>Chevit\\n516 Trendy Star Perfect Sneakers For M...</td>\n",
       "      <td>₹209</td>\n",
       "      <td>73% off</td>\n",
       "    </tr>\n",
       "    <tr>\n",
       "      <th>4</th>\n",
       "      <td>World Wear Footwear</td>\n",
       "      <td>World Wear Footwear\\n5011-Latest Collection St...</td>\n",
       "      <td>₹199</td>\n",
       "      <td>60% off</td>\n",
       "    </tr>\n",
       "    <tr>\n",
       "      <th>5</th>\n",
       "      <td>BRUTON</td>\n",
       "      <td>BRUTON\\nModern Trendy Sneakers Shoes Sneakers ...</td>\n",
       "      <td>₹186</td>\n",
       "      <td>85% off</td>\n",
       "    </tr>\n",
       "    <tr>\n",
       "      <th>6</th>\n",
       "      <td>Magnolia</td>\n",
       "      <td>Magnolia\\nSneakers For Men\\n₹374₹99962% off\\nF...</td>\n",
       "      <td>₹374</td>\n",
       "      <td>62% off</td>\n",
       "    </tr>\n",
       "    <tr>\n",
       "      <th>7</th>\n",
       "      <td>KWIK FIT</td>\n",
       "      <td>KWIK FIT\\nKwik FIT casual sneaker shoes and pa...</td>\n",
       "      <td>₹349</td>\n",
       "      <td>82% off</td>\n",
       "    </tr>\n",
       "    <tr>\n",
       "      <th>8</th>\n",
       "      <td>Labbin</td>\n",
       "      <td>Labbin\\nSneakers For Men\\n₹424₹99957% off\\nFre...</td>\n",
       "      <td>₹424</td>\n",
       "      <td>57% off</td>\n",
       "    </tr>\n",
       "    <tr>\n",
       "      <th>9</th>\n",
       "      <td>BIRDE</td>\n",
       "      <td>BIRDE\\nStylish Comfortable Lightweight, Breath...</td>\n",
       "      <td>₹301</td>\n",
       "      <td>69% off</td>\n",
       "    </tr>\n",
       "    <tr>\n",
       "      <th>10</th>\n",
       "      <td>aadi</td>\n",
       "      <td>aadi\\nSneakers For Men\\n₹269₹99973% off\\nFree ...</td>\n",
       "      <td>₹269</td>\n",
       "      <td>73% off</td>\n",
       "    </tr>\n",
       "    <tr>\n",
       "      <th>11</th>\n",
       "      <td>BRUTON</td>\n",
       "      <td>BRUTON\\nLightweight Pack Of 1 Trendy Sneakers ...</td>\n",
       "      <td>₹147</td>\n",
       "      <td>75% off</td>\n",
       "    </tr>\n",
       "    <tr>\n",
       "      <th>12</th>\n",
       "      <td>Layasa</td>\n",
       "      <td>Layasa\\nSneakers For Men\\n₹449₹99955% off\\nFre...</td>\n",
       "      <td>₹449</td>\n",
       "      <td>55% off</td>\n",
       "    </tr>\n",
       "    <tr>\n",
       "      <th>13</th>\n",
       "      <td>World Wear Footwear</td>\n",
       "      <td>World Wear Footwear\\nMen 5014 Latest Collectio...</td>\n",
       "      <td>₹199</td>\n",
       "      <td>60% off</td>\n",
       "    </tr>\n",
       "    <tr>\n",
       "      <th>14</th>\n",
       "      <td>SCATCHITE</td>\n",
       "      <td>SCATCHITE\\nSneakers Sneakers For Men\\n₹348₹999...</td>\n",
       "      <td>₹348</td>\n",
       "      <td>65% off</td>\n",
       "    </tr>\n",
       "    <tr>\n",
       "      <th>15</th>\n",
       "      <td>BIRDE</td>\n",
       "      <td>BIRDE\\nSports Running Shoes Sneakers For Men\\n...</td>\n",
       "      <td>₹301</td>\n",
       "      <td>69% off</td>\n",
       "    </tr>\n",
       "    <tr>\n",
       "      <th>16</th>\n",
       "      <td>BRUTON</td>\n",
       "      <td>BRUTON\\nLattest Sneakers Shoe Sneakers For Men...</td>\n",
       "      <td>₹219</td>\n",
       "      <td>83% off</td>\n",
       "    </tr>\n",
       "    <tr>\n",
       "      <th>17</th>\n",
       "      <td>D-SNEAKERZ</td>\n",
       "      <td>D-SNEAKERZ\\nCasual , Partywear Sneakers Shoes ...</td>\n",
       "      <td>₹384</td>\n",
       "      <td>61% off</td>\n",
       "    </tr>\n",
       "    <tr>\n",
       "      <th>18</th>\n",
       "      <td>PUMA</td>\n",
       "      <td>PUMA\\nBlend Sneakers For Men\\n₹1,749₹2,99941% ...</td>\n",
       "      <td>₹1,749</td>\n",
       "      <td>41% off</td>\n",
       "    </tr>\n",
       "    <tr>\n",
       "      <th>19</th>\n",
       "      <td>BRUTON</td>\n",
       "      <td>BRUTON\\nSneaker Sneakers For Men\\n₹301₹1,29976...</td>\n",
       "      <td>₹301</td>\n",
       "      <td>76% off</td>\n",
       "    </tr>\n",
       "    <tr>\n",
       "      <th>20</th>\n",
       "      <td>BRUTON</td>\n",
       "      <td>BRUTON\\nLightweight Pack Of 1 Trendy Sneakers ...</td>\n",
       "      <td>₹132</td>\n",
       "      <td>77% off</td>\n",
       "    </tr>\n",
       "    <tr>\n",
       "      <th>21</th>\n",
       "      <td>ASTEROID</td>\n",
       "      <td>ASTEROID\\nOriginal Luxury Branded Black Fancy ...</td>\n",
       "      <td>₹449</td>\n",
       "      <td>55% off</td>\n",
       "    </tr>\n",
       "    <tr>\n",
       "      <th>22</th>\n",
       "      <td>aadi</td>\n",
       "      <td>aadi\\nSneakers For Men\\n₹269₹1,99986% off\\nFre...</td>\n",
       "      <td>₹269</td>\n",
       "      <td>86% off</td>\n",
       "    </tr>\n",
       "    <tr>\n",
       "      <th>23</th>\n",
       "      <td>ASTEROID</td>\n",
       "      <td>ASTEROID\\nOriginal Luxury Branded Fashionable ...</td>\n",
       "      <td>₹449</td>\n",
       "      <td>77% off</td>\n",
       "    </tr>\n",
       "    <tr>\n",
       "      <th>24</th>\n",
       "      <td>World Wear Footwear</td>\n",
       "      <td>World Wear Footwear\\nLatest Collection-1227 St...</td>\n",
       "      <td>₹199</td>\n",
       "      <td>60% off</td>\n",
       "    </tr>\n",
       "    <tr>\n",
       "      <th>25</th>\n",
       "      <td>CLYMB</td>\n",
       "      <td>CLYMB\\nSneakers For Men\\n₹599₹1,49960% off\\nFr...</td>\n",
       "      <td>₹599</td>\n",
       "      <td>60% off</td>\n",
       "    </tr>\n",
       "    <tr>\n",
       "      <th>26</th>\n",
       "      <td>WHITE WALKERS</td>\n",
       "      <td>WHITE WALKERS\\nStylish &amp; Trending Outdoor Walk...</td>\n",
       "      <td>₹549</td>\n",
       "      <td>54% off</td>\n",
       "    </tr>\n",
       "    <tr>\n",
       "      <th>27</th>\n",
       "      <td>Robbie jones</td>\n",
       "      <td>Robbie jones\\nSneakers For Men\\n₹424₹99957% of...</td>\n",
       "      <td>₹424</td>\n",
       "      <td>57% off</td>\n",
       "    </tr>\n",
       "    <tr>\n",
       "      <th>28</th>\n",
       "      <td>Chevit</td>\n",
       "      <td>Chevit\\nSuper Stylish &amp; Trendy Combo Pack of 0...</td>\n",
       "      <td>₹629</td>\n",
       "      <td>60% off</td>\n",
       "    </tr>\n",
       "    <tr>\n",
       "      <th>29</th>\n",
       "      <td>BIRDE</td>\n",
       "      <td>BIRDE\\nStylish Comfortable Lightweight, Breath...</td>\n",
       "      <td>₹301</td>\n",
       "      <td>69% off</td>\n",
       "    </tr>\n",
       "    <tr>\n",
       "      <th>30</th>\n",
       "      <td>Chevit</td>\n",
       "      <td>Chevit\\nSneakers For Men\\n₹249₹79968% off\\nFre...</td>\n",
       "      <td>₹249</td>\n",
       "      <td>68% off</td>\n",
       "    </tr>\n",
       "    <tr>\n",
       "      <th>31</th>\n",
       "      <td>Zsyto</td>\n",
       "      <td>Zsyto\\nSneakers For Men\\n₹298₹1,29977% off</td>\n",
       "      <td>₹298</td>\n",
       "      <td>77% off</td>\n",
       "    </tr>\n",
       "    <tr>\n",
       "      <th>32</th>\n",
       "      <td>BIRDE</td>\n",
       "      <td>BIRDE\\nStylish Comfortable Lightweight, Breath...</td>\n",
       "      <td>₹301</td>\n",
       "      <td>69% off</td>\n",
       "    </tr>\n",
       "    <tr>\n",
       "      <th>33</th>\n",
       "      <td>Arohi</td>\n",
       "      <td>Arohi\\nSneakers For Men\\n₹379₹99962% off\\nFree...</td>\n",
       "      <td>₹379</td>\n",
       "      <td>62% off</td>\n",
       "    </tr>\n",
       "    <tr>\n",
       "      <th>34</th>\n",
       "      <td>corsac</td>\n",
       "      <td>corsac\\nSTYLISH MENS BLACK TRENDY SNEAKER FOR ...</td>\n",
       "      <td>₹499</td>\n",
       "      <td>66% off</td>\n",
       "    </tr>\n",
       "    <tr>\n",
       "      <th>35</th>\n",
       "      <td>Kraasa</td>\n",
       "      <td>Kraasa\\nShark-41 Sneakers For Men\\n₹449₹99955%...</td>\n",
       "      <td>₹449</td>\n",
       "      <td>55% off</td>\n",
       "    </tr>\n",
       "    <tr>\n",
       "      <th>36</th>\n",
       "      <td>Chevit</td>\n",
       "      <td>Chevit\\nSneakers For Men\\n₹213₹79973% off\\nFre...</td>\n",
       "      <td>₹213</td>\n",
       "      <td>73% off</td>\n",
       "    </tr>\n",
       "    <tr>\n",
       "      <th>37</th>\n",
       "      <td>RapidBox</td>\n",
       "      <td>RapidBox\\nSneakers For Men\\n₹670₹98231% off</td>\n",
       "      <td>₹670</td>\n",
       "      <td>31% off</td>\n",
       "    </tr>\n",
       "    <tr>\n",
       "      <th>38</th>\n",
       "      <td>bluemaker</td>\n",
       "      <td>bluemaker\\ncasual shoe for men Sneakers For Me...</td>\n",
       "      <td>₹399</td>\n",
       "      <td>60% off</td>\n",
       "    </tr>\n",
       "    <tr>\n",
       "      <th>39</th>\n",
       "      <td>Echor</td>\n",
       "      <td>Echor\\nMen's Sneakers Fashion Lightweight Runn...</td>\n",
       "      <td>₹489</td>\n",
       "      <td>51% off</td>\n",
       "    </tr>\n",
       "  </tbody>\n",
       "</table>\n",
       "</div>"
      ],
      "text/plain": [
       "                  Brand                                            Product  \\\n",
       "0                corsac  corsac\\nSTYLISH MENS BLACK SNEAKER Sneakers Fo...   \n",
       "1              URBANBOX  URBANBOX\\nSneakers Sneakers For Men\\n₹158₹9998...   \n",
       "2                  aadi  aadi\\nSneakers For Men\\n₹269₹99973% off\\nFree ...   \n",
       "3                Chevit  Chevit\\n516 Trendy Star Perfect Sneakers For M...   \n",
       "4   World Wear Footwear  World Wear Footwear\\n5011-Latest Collection St...   \n",
       "5                BRUTON  BRUTON\\nModern Trendy Sneakers Shoes Sneakers ...   \n",
       "6              Magnolia  Magnolia\\nSneakers For Men\\n₹374₹99962% off\\nF...   \n",
       "7              KWIK FIT  KWIK FIT\\nKwik FIT casual sneaker shoes and pa...   \n",
       "8                Labbin  Labbin\\nSneakers For Men\\n₹424₹99957% off\\nFre...   \n",
       "9                 BIRDE  BIRDE\\nStylish Comfortable Lightweight, Breath...   \n",
       "10                 aadi  aadi\\nSneakers For Men\\n₹269₹99973% off\\nFree ...   \n",
       "11               BRUTON  BRUTON\\nLightweight Pack Of 1 Trendy Sneakers ...   \n",
       "12               Layasa  Layasa\\nSneakers For Men\\n₹449₹99955% off\\nFre...   \n",
       "13  World Wear Footwear  World Wear Footwear\\nMen 5014 Latest Collectio...   \n",
       "14            SCATCHITE  SCATCHITE\\nSneakers Sneakers For Men\\n₹348₹999...   \n",
       "15                BIRDE  BIRDE\\nSports Running Shoes Sneakers For Men\\n...   \n",
       "16               BRUTON  BRUTON\\nLattest Sneakers Shoe Sneakers For Men...   \n",
       "17           D-SNEAKERZ  D-SNEAKERZ\\nCasual , Partywear Sneakers Shoes ...   \n",
       "18                 PUMA  PUMA\\nBlend Sneakers For Men\\n₹1,749₹2,99941% ...   \n",
       "19               BRUTON  BRUTON\\nSneaker Sneakers For Men\\n₹301₹1,29976...   \n",
       "20               BRUTON  BRUTON\\nLightweight Pack Of 1 Trendy Sneakers ...   \n",
       "21             ASTEROID  ASTEROID\\nOriginal Luxury Branded Black Fancy ...   \n",
       "22                 aadi  aadi\\nSneakers For Men\\n₹269₹1,99986% off\\nFre...   \n",
       "23             ASTEROID  ASTEROID\\nOriginal Luxury Branded Fashionable ...   \n",
       "24  World Wear Footwear  World Wear Footwear\\nLatest Collection-1227 St...   \n",
       "25                CLYMB  CLYMB\\nSneakers For Men\\n₹599₹1,49960% off\\nFr...   \n",
       "26        WHITE WALKERS  WHITE WALKERS\\nStylish & Trending Outdoor Walk...   \n",
       "27         Robbie jones  Robbie jones\\nSneakers For Men\\n₹424₹99957% of...   \n",
       "28               Chevit  Chevit\\nSuper Stylish & Trendy Combo Pack of 0...   \n",
       "29                BIRDE  BIRDE\\nStylish Comfortable Lightweight, Breath...   \n",
       "30               Chevit  Chevit\\nSneakers For Men\\n₹249₹79968% off\\nFre...   \n",
       "31                Zsyto         Zsyto\\nSneakers For Men\\n₹298₹1,29977% off   \n",
       "32                BIRDE  BIRDE\\nStylish Comfortable Lightweight, Breath...   \n",
       "33                Arohi  Arohi\\nSneakers For Men\\n₹379₹99962% off\\nFree...   \n",
       "34               corsac  corsac\\nSTYLISH MENS BLACK TRENDY SNEAKER FOR ...   \n",
       "35               Kraasa  Kraasa\\nShark-41 Sneakers For Men\\n₹449₹99955%...   \n",
       "36               Chevit  Chevit\\nSneakers For Men\\n₹213₹79973% off\\nFre...   \n",
       "37             RapidBox        RapidBox\\nSneakers For Men\\n₹670₹98231% off   \n",
       "38            bluemaker  bluemaker\\ncasual shoe for men Sneakers For Me...   \n",
       "39                Echor  Echor\\nMen's Sneakers Fashion Lightweight Runn...   \n",
       "\n",
       "     Price Discount  \n",
       "0     ₹449  70% off  \n",
       "1     ₹158  84% off  \n",
       "2     ₹269  73% off  \n",
       "3     ₹209  73% off  \n",
       "4     ₹199  60% off  \n",
       "5     ₹186  85% off  \n",
       "6     ₹374  62% off  \n",
       "7     ₹349  82% off  \n",
       "8     ₹424  57% off  \n",
       "9     ₹301  69% off  \n",
       "10    ₹269  73% off  \n",
       "11    ₹147  75% off  \n",
       "12    ₹449  55% off  \n",
       "13    ₹199  60% off  \n",
       "14    ₹348  65% off  \n",
       "15    ₹301  69% off  \n",
       "16    ₹219  83% off  \n",
       "17    ₹384  61% off  \n",
       "18  ₹1,749  41% off  \n",
       "19    ₹301  76% off  \n",
       "20    ₹132  77% off  \n",
       "21    ₹449  55% off  \n",
       "22    ₹269  86% off  \n",
       "23    ₹449  77% off  \n",
       "24    ₹199  60% off  \n",
       "25    ₹599  60% off  \n",
       "26    ₹549  54% off  \n",
       "27    ₹424  57% off  \n",
       "28    ₹629  60% off  \n",
       "29    ₹301  69% off  \n",
       "30    ₹249  68% off  \n",
       "31    ₹298  77% off  \n",
       "32    ₹301  69% off  \n",
       "33    ₹379  62% off  \n",
       "34    ₹499  66% off  \n",
       "35    ₹449  55% off  \n",
       "36    ₹213  73% off  \n",
       "37    ₹670  31% off  \n",
       "38    ₹399  60% off  \n",
       "39    ₹489  51% off  "
      ]
     },
     "execution_count": 79,
     "metadata": {},
     "output_type": "execute_result"
    }
   ],
   "source": [
    "Sneakers"
   ]
  },
  {
   "cell_type": "code",
   "execution_count": 80,
   "id": "09c8b547",
   "metadata": {},
   "outputs": [],
   "source": [
    "#Q9: Write a python program to scrape data for first 10 job results for Data Scientist Designation in Noidalocation. \n",
    "#You have to scrape company name, No. of days ago when job was posted, Rating of the company."
   ]
  },
  {
   "cell_type": "code",
   "execution_count": 121,
   "id": "a6b6b669",
   "metadata": {},
   "outputs": [],
   "source": [
    "import selenium\n",
    "import pandas as pd\n",
    "from selenium import webdriver\n",
    "import warnings\n",
    "warnings.filterwarnings('ignore')\n",
    "import time "
   ]
  },
  {
   "cell_type": "code",
   "execution_count": 122,
   "id": "3353b931",
   "metadata": {},
   "outputs": [],
   "source": [
    "driver=webdriver.Chrome(r'C:\\Users\\akash\\Downloads\\chromedriver_win32\\chromedriver.exe')\n",
    "\n",
    "driver.get('https://www.ambitionbox.com/')"
   ]
  },
  {
   "cell_type": "code",
   "execution_count": 123,
   "id": "2c065762",
   "metadata": {},
   "outputs": [],
   "source": [
    "Title_list=[]\n",
    "Number_of_days_list=[]\n",
    "Rating_list=[]"
   ]
  },
  {
   "cell_type": "code",
   "execution_count": 133,
   "id": "adc7ef32",
   "metadata": {},
   "outputs": [
    {
     "data": {
      "text/plain": [
       "[<selenium.webdriver.remote.webelement.WebElement (session=\"c9b0cf38f79820c083e92361bdfaf877\", element=\"732f26ea-b2d6-48ec-87d5-455d71b30ee7\")>,\n",
       " <selenium.webdriver.remote.webelement.WebElement (session=\"c9b0cf38f79820c083e92361bdfaf877\", element=\"9f1a7614-52b9-4cfe-8426-c90513c9809a\")>,\n",
       " <selenium.webdriver.remote.webelement.WebElement (session=\"c9b0cf38f79820c083e92361bdfaf877\", element=\"463b32be-53b3-4dc9-a668-c8a27d51d39c\")>,\n",
       " <selenium.webdriver.remote.webelement.WebElement (session=\"c9b0cf38f79820c083e92361bdfaf877\", element=\"f916517c-65a7-44f6-a988-b45d65240ee9\")>,\n",
       " <selenium.webdriver.remote.webelement.WebElement (session=\"c9b0cf38f79820c083e92361bdfaf877\", element=\"ef274e04-493d-4d4f-a5f1-6a84cc2bcb29\")>,\n",
       " <selenium.webdriver.remote.webelement.WebElement (session=\"c9b0cf38f79820c083e92361bdfaf877\", element=\"bf7a6679-8ad7-4cb7-83ca-9fc3c39c61aa\")>,\n",
       " <selenium.webdriver.remote.webelement.WebElement (session=\"c9b0cf38f79820c083e92361bdfaf877\", element=\"87dcb446-a9fa-4e43-b59e-68017547dfff\")>,\n",
       " <selenium.webdriver.remote.webelement.WebElement (session=\"c9b0cf38f79820c083e92361bdfaf877\", element=\"3f65b583-4096-4a23-bf9e-9185f824d0ed\")>,\n",
       " <selenium.webdriver.remote.webelement.WebElement (session=\"c9b0cf38f79820c083e92361bdfaf877\", element=\"35ac9a12-a271-4b72-a4a0-f0f39aaea6d3\")>,\n",
       " <selenium.webdriver.remote.webelement.WebElement (session=\"c9b0cf38f79820c083e92361bdfaf877\", element=\"6f921959-c598-401c-aca4-eed7658efe1b\")>]"
      ]
     },
     "execution_count": 133,
     "metadata": {},
     "output_type": "execute_result"
    }
   ],
   "source": [
    "Title_tags=driver.find_elements_by_xpath(\"//a[@class='title noclick']\")\n",
    "Title_tags"
   ]
  },
  {
   "cell_type": "code",
   "execution_count": 134,
   "id": "08155369",
   "metadata": {},
   "outputs": [
    {
     "data": {
      "text/plain": [
       "['Machine Learning Engineer',\n",
       " 'Data Scientist',\n",
       " 'Data Scientist with SAS',\n",
       " 'Hiring For Data Scientist + Python/R+ Predictive Modeling',\n",
       " 'Urgent Requirement || Data Scientist || Noida',\n",
       " 'Data Scientist - Immediate Joiners',\n",
       " 'Data Scientist - Machine Learning (5-14 yrs)',\n",
       " 'Data Scientist- Fresher Opening - Newgen Software Technologies',\n",
       " 'Senior Data Scientist',\n",
       " 'Data Analyst / Data Scientist',\n",
       " 'Machine Learning Engineer',\n",
       " 'Data Scientist',\n",
       " 'Data Scientist with SAS',\n",
       " 'Hiring For Data Scientist + Python/R+ Predictive Modeling',\n",
       " 'Urgent Requirement || Data Scientist || Noida',\n",
       " 'Data Scientist - Immediate Joiners',\n",
       " 'Data Scientist - Machine Learning (5-14 yrs)',\n",
       " 'Data Scientist- Fresher Opening - Newgen Software Technologies',\n",
       " 'Senior Data Scientist',\n",
       " 'Data Analyst / Data Scientist']"
      ]
     },
     "execution_count": 134,
     "metadata": {},
     "output_type": "execute_result"
    }
   ],
   "source": [
    "for i in Title_tags:\n",
    "    Title=i.text\n",
    "    Title_list.append(Title)\n",
    "Title_list"
   ]
  },
  {
   "cell_type": "code",
   "execution_count": 126,
   "id": "60fae495",
   "metadata": {},
   "outputs": [
    {
     "data": {
      "text/plain": [
       "[<selenium.webdriver.remote.webelement.WebElement (session=\"c9b0cf38f79820c083e92361bdfaf877\", element=\"182ba1bb-3ea2-4f5c-8b85-029312a7d618\")>,\n",
       " <selenium.webdriver.remote.webelement.WebElement (session=\"c9b0cf38f79820c083e92361bdfaf877\", element=\"e913a532-e6fb-4bcd-870c-ffb67416512a\")>,\n",
       " <selenium.webdriver.remote.webelement.WebElement (session=\"c9b0cf38f79820c083e92361bdfaf877\", element=\"3acb4134-6da2-4d95-978d-d1ad8d2de760\")>,\n",
       " <selenium.webdriver.remote.webelement.WebElement (session=\"c9b0cf38f79820c083e92361bdfaf877\", element=\"86ffc952-fd67-4899-a1b9-0b986c74377f\")>,\n",
       " <selenium.webdriver.remote.webelement.WebElement (session=\"c9b0cf38f79820c083e92361bdfaf877\", element=\"c7233304-121b-4c74-8aa7-c6b92411dd85\")>,\n",
       " <selenium.webdriver.remote.webelement.WebElement (session=\"c9b0cf38f79820c083e92361bdfaf877\", element=\"44416732-e95c-420f-bcd2-3f987d687db4\")>,\n",
       " <selenium.webdriver.remote.webelement.WebElement (session=\"c9b0cf38f79820c083e92361bdfaf877\", element=\"82b787bd-30d4-4609-a0e2-a1b152bfabe0\")>,\n",
       " <selenium.webdriver.remote.webelement.WebElement (session=\"c9b0cf38f79820c083e92361bdfaf877\", element=\"46cbb1d9-15d7-4a58-a5f2-068acde6fbc2\")>,\n",
       " <selenium.webdriver.remote.webelement.WebElement (session=\"c9b0cf38f79820c083e92361bdfaf877\", element=\"5bfd9b7f-3e22-448e-b5c6-77de096c26c5\")>,\n",
       " <selenium.webdriver.remote.webelement.WebElement (session=\"c9b0cf38f79820c083e92361bdfaf877\", element=\"ed29c21b-6c6b-4681-94e7-595f87764473\")>,\n",
       " <selenium.webdriver.remote.webelement.WebElement (session=\"c9b0cf38f79820c083e92361bdfaf877\", element=\"cbdb579a-a30f-482e-90e5-bb63b37394b5\")>,\n",
       " <selenium.webdriver.remote.webelement.WebElement (session=\"c9b0cf38f79820c083e92361bdfaf877\", element=\"956bdbc5-419d-4757-be89-55b035b2dbbd\")>,\n",
       " <selenium.webdriver.remote.webelement.WebElement (session=\"c9b0cf38f79820c083e92361bdfaf877\", element=\"eebd0c70-fc4c-4248-9cda-6f56f89e4956\")>,\n",
       " <selenium.webdriver.remote.webelement.WebElement (session=\"c9b0cf38f79820c083e92361bdfaf877\", element=\"ff7b75dc-bfdc-4ee5-8d5a-43f4c7de1157\")>,\n",
       " <selenium.webdriver.remote.webelement.WebElement (session=\"c9b0cf38f79820c083e92361bdfaf877\", element=\"bfbe5f50-bd06-4345-9286-7c80d25d7a8e\")>,\n",
       " <selenium.webdriver.remote.webelement.WebElement (session=\"c9b0cf38f79820c083e92361bdfaf877\", element=\"441f0bff-1109-4449-bd6e-fbb07bbfcacd\")>,\n",
       " <selenium.webdriver.remote.webelement.WebElement (session=\"c9b0cf38f79820c083e92361bdfaf877\", element=\"af9541af-1d62-48e1-842d-d01c7e364292\")>,\n",
       " <selenium.webdriver.remote.webelement.WebElement (session=\"c9b0cf38f79820c083e92361bdfaf877\", element=\"fe40caa2-e93f-4f28-8fdb-f9f0511515e0\")>,\n",
       " <selenium.webdriver.remote.webelement.WebElement (session=\"c9b0cf38f79820c083e92361bdfaf877\", element=\"55becca4-9d9e-4ad3-ab22-93a17f4aa1f7\")>,\n",
       " <selenium.webdriver.remote.webelement.WebElement (session=\"c9b0cf38f79820c083e92361bdfaf877\", element=\"65b8292e-14fe-4984-be50-d7c373e2258e\")>]"
      ]
     },
     "execution_count": 126,
     "metadata": {},
     "output_type": "execute_result"
    }
   ],
   "source": [
    "Number_of_days_tags=driver.find_elements_by_xpath(\"//span[@class='body-small-l']\")\n",
    "Number_of_days_tags"
   ]
  },
  {
   "cell_type": "code",
   "execution_count": 127,
   "id": "a39eca5a",
   "metadata": {},
   "outputs": [
    {
     "data": {
      "text/plain": [
       "['2d ago',\n",
       " 'via naukri.com',\n",
       " '7d ago',\n",
       " 'via naukri.com',\n",
       " '21d ago',\n",
       " 'via naukri.com',\n",
       " '24d ago',\n",
       " 'via naukri.com',\n",
       " '28d ago',\n",
       " 'via naukri.com',\n",
       " '2d ago',\n",
       " 'via naukri.com',\n",
       " '6d ago',\n",
       " 'via hirist.com',\n",
       " '8d ago',\n",
       " 'via naukri.com',\n",
       " '1mon ago',\n",
       " 'via naukri.com',\n",
       " '17d ago',\n",
       " 'via naukri.com']"
      ]
     },
     "execution_count": 127,
     "metadata": {},
     "output_type": "execute_result"
    }
   ],
   "source": [
    "for i in Number_of_days_tags:\n",
    "    Number_of_days=i.text\n",
    "    Number_of_days_list.append(Number_of_days)\n",
    "Number_of_days_list"
   ]
  },
  {
   "cell_type": "code",
   "execution_count": 131,
   "id": "13fa5cf0",
   "metadata": {},
   "outputs": [
    {
     "data": {
      "text/plain": [
       "[<selenium.webdriver.remote.webelement.WebElement (session=\"c9b0cf38f79820c083e92361bdfaf877\", element=\"a6544e7b-ea06-46e4-8fc7-933ad5035e70\")>,\n",
       " <selenium.webdriver.remote.webelement.WebElement (session=\"c9b0cf38f79820c083e92361bdfaf877\", element=\"39d5f154-880a-42cc-a402-250e39178c19\")>,\n",
       " <selenium.webdriver.remote.webelement.WebElement (session=\"c9b0cf38f79820c083e92361bdfaf877\", element=\"53c7b8d4-7837-4ef0-80ab-53f6f08f066c\")>,\n",
       " <selenium.webdriver.remote.webelement.WebElement (session=\"c9b0cf38f79820c083e92361bdfaf877\", element=\"38e96e33-4c79-48b5-88cd-dedd33cc3693\")>,\n",
       " <selenium.webdriver.remote.webelement.WebElement (session=\"c9b0cf38f79820c083e92361bdfaf877\", element=\"84c0073c-694a-44d1-b337-ad988829a468\")>,\n",
       " <selenium.webdriver.remote.webelement.WebElement (session=\"c9b0cf38f79820c083e92361bdfaf877\", element=\"03f3a019-ab64-446d-a076-c504f0e0d3d8\")>,\n",
       " <selenium.webdriver.remote.webelement.WebElement (session=\"c9b0cf38f79820c083e92361bdfaf877\", element=\"6ef8e38c-068a-4f57-85fb-98f19dadc127\")>,\n",
       " <selenium.webdriver.remote.webelement.WebElement (session=\"c9b0cf38f79820c083e92361bdfaf877\", element=\"920e1687-4342-40c2-89d5-5120d512dfc6\")>,\n",
       " <selenium.webdriver.remote.webelement.WebElement (session=\"c9b0cf38f79820c083e92361bdfaf877\", element=\"b2aac837-91c6-4a54-88fa-55fddbdfebed\")>,\n",
       " <selenium.webdriver.remote.webelement.WebElement (session=\"c9b0cf38f79820c083e92361bdfaf877\", element=\"180642d8-9c78-4e21-a1db-17bcd1681e9f\")>]"
      ]
     },
     "execution_count": 131,
     "metadata": {},
     "output_type": "execute_result"
    }
   ],
   "source": [
    "Rating_tags=driver.find_elements_by_xpath(\"//span[@class='body-small']\")\n",
    "Rating_tags"
   ]
  },
  {
   "cell_type": "code",
   "execution_count": 132,
   "id": "c7725977",
   "metadata": {},
   "outputs": [
    {
     "data": {
      "text/plain": [
       "['4.0',\n",
       " '4.0',\n",
       " '3.7',\n",
       " '4.0',\n",
       " '3.8',\n",
       " '3.8',\n",
       " '4.1',\n",
       " '3.5',\n",
       " '4.2',\n",
       " '3.6',\n",
       " '4.0',\n",
       " '4.0',\n",
       " '3.7',\n",
       " '4.0',\n",
       " '3.8',\n",
       " '3.8',\n",
       " '4.1',\n",
       " '3.5',\n",
       " '4.2',\n",
       " '3.6']"
      ]
     },
     "execution_count": 132,
     "metadata": {},
     "output_type": "execute_result"
    }
   ],
   "source": [
    "for i in Rating_tags:\n",
    "    Rating=i.text\n",
    "    Rating_list.append(Rating)\n",
    "Rating_list"
   ]
  },
  {
   "cell_type": "code",
   "execution_count": 135,
   "id": "b750b5a6",
   "metadata": {},
   "outputs": [
    {
     "name": "stdout",
     "output_type": "stream",
     "text": [
      "20 20 20\n"
     ]
    }
   ],
   "source": [
    "print(len(Title_list),len(Rating_list),len(Number_of_days_list))"
   ]
  },
  {
   "cell_type": "code",
   "execution_count": 136,
   "id": "1346ebb4",
   "metadata": {},
   "outputs": [],
   "source": [
    "jobs=pd.DataFrame({})\n",
    "jobs['Title']=Title_list \n",
    "jobs['Rating']=Rating_list\n",
    "jobs['Number_of_days']=Number_of_days_list\n"
   ]
  },
  {
   "cell_type": "code",
   "execution_count": 137,
   "id": "e937fc71",
   "metadata": {},
   "outputs": [
    {
     "data": {
      "text/html": [
       "<div>\n",
       "<style scoped>\n",
       "    .dataframe tbody tr th:only-of-type {\n",
       "        vertical-align: middle;\n",
       "    }\n",
       "\n",
       "    .dataframe tbody tr th {\n",
       "        vertical-align: top;\n",
       "    }\n",
       "\n",
       "    .dataframe thead th {\n",
       "        text-align: right;\n",
       "    }\n",
       "</style>\n",
       "<table border=\"1\" class=\"dataframe\">\n",
       "  <thead>\n",
       "    <tr style=\"text-align: right;\">\n",
       "      <th></th>\n",
       "      <th>Title</th>\n",
       "      <th>Rating</th>\n",
       "      <th>Number_of_days</th>\n",
       "    </tr>\n",
       "  </thead>\n",
       "  <tbody>\n",
       "    <tr>\n",
       "      <th>0</th>\n",
       "      <td>Machine Learning Engineer</td>\n",
       "      <td>4.0</td>\n",
       "      <td>2d ago</td>\n",
       "    </tr>\n",
       "    <tr>\n",
       "      <th>1</th>\n",
       "      <td>Data Scientist</td>\n",
       "      <td>4.0</td>\n",
       "      <td>via naukri.com</td>\n",
       "    </tr>\n",
       "    <tr>\n",
       "      <th>2</th>\n",
       "      <td>Data Scientist with SAS</td>\n",
       "      <td>3.7</td>\n",
       "      <td>7d ago</td>\n",
       "    </tr>\n",
       "    <tr>\n",
       "      <th>3</th>\n",
       "      <td>Hiring For Data Scientist + Python/R+ Predicti...</td>\n",
       "      <td>4.0</td>\n",
       "      <td>via naukri.com</td>\n",
       "    </tr>\n",
       "    <tr>\n",
       "      <th>4</th>\n",
       "      <td>Urgent Requirement || Data Scientist || Noida</td>\n",
       "      <td>3.8</td>\n",
       "      <td>21d ago</td>\n",
       "    </tr>\n",
       "    <tr>\n",
       "      <th>5</th>\n",
       "      <td>Data Scientist - Immediate Joiners</td>\n",
       "      <td>3.8</td>\n",
       "      <td>via naukri.com</td>\n",
       "    </tr>\n",
       "    <tr>\n",
       "      <th>6</th>\n",
       "      <td>Data Scientist - Machine Learning (5-14 yrs)</td>\n",
       "      <td>4.1</td>\n",
       "      <td>24d ago</td>\n",
       "    </tr>\n",
       "    <tr>\n",
       "      <th>7</th>\n",
       "      <td>Data Scientist- Fresher Opening - Newgen Softw...</td>\n",
       "      <td>3.5</td>\n",
       "      <td>via naukri.com</td>\n",
       "    </tr>\n",
       "    <tr>\n",
       "      <th>8</th>\n",
       "      <td>Senior Data Scientist</td>\n",
       "      <td>4.2</td>\n",
       "      <td>28d ago</td>\n",
       "    </tr>\n",
       "    <tr>\n",
       "      <th>9</th>\n",
       "      <td>Data Analyst / Data Scientist</td>\n",
       "      <td>3.6</td>\n",
       "      <td>via naukri.com</td>\n",
       "    </tr>\n",
       "    <tr>\n",
       "      <th>10</th>\n",
       "      <td>Machine Learning Engineer</td>\n",
       "      <td>4.0</td>\n",
       "      <td>2d ago</td>\n",
       "    </tr>\n",
       "    <tr>\n",
       "      <th>11</th>\n",
       "      <td>Data Scientist</td>\n",
       "      <td>4.0</td>\n",
       "      <td>via naukri.com</td>\n",
       "    </tr>\n",
       "    <tr>\n",
       "      <th>12</th>\n",
       "      <td>Data Scientist with SAS</td>\n",
       "      <td>3.7</td>\n",
       "      <td>6d ago</td>\n",
       "    </tr>\n",
       "    <tr>\n",
       "      <th>13</th>\n",
       "      <td>Hiring For Data Scientist + Python/R+ Predicti...</td>\n",
       "      <td>4.0</td>\n",
       "      <td>via hirist.com</td>\n",
       "    </tr>\n",
       "    <tr>\n",
       "      <th>14</th>\n",
       "      <td>Urgent Requirement || Data Scientist || Noida</td>\n",
       "      <td>3.8</td>\n",
       "      <td>8d ago</td>\n",
       "    </tr>\n",
       "    <tr>\n",
       "      <th>15</th>\n",
       "      <td>Data Scientist - Immediate Joiners</td>\n",
       "      <td>3.8</td>\n",
       "      <td>via naukri.com</td>\n",
       "    </tr>\n",
       "    <tr>\n",
       "      <th>16</th>\n",
       "      <td>Data Scientist - Machine Learning (5-14 yrs)</td>\n",
       "      <td>4.1</td>\n",
       "      <td>1mon ago</td>\n",
       "    </tr>\n",
       "    <tr>\n",
       "      <th>17</th>\n",
       "      <td>Data Scientist- Fresher Opening - Newgen Softw...</td>\n",
       "      <td>3.5</td>\n",
       "      <td>via naukri.com</td>\n",
       "    </tr>\n",
       "    <tr>\n",
       "      <th>18</th>\n",
       "      <td>Senior Data Scientist</td>\n",
       "      <td>4.2</td>\n",
       "      <td>17d ago</td>\n",
       "    </tr>\n",
       "    <tr>\n",
       "      <th>19</th>\n",
       "      <td>Data Analyst / Data Scientist</td>\n",
       "      <td>3.6</td>\n",
       "      <td>via naukri.com</td>\n",
       "    </tr>\n",
       "  </tbody>\n",
       "</table>\n",
       "</div>"
      ],
      "text/plain": [
       "                                                Title Rating  Number_of_days\n",
       "0                           Machine Learning Engineer    4.0          2d ago\n",
       "1                                      Data Scientist    4.0  via naukri.com\n",
       "2                             Data Scientist with SAS    3.7          7d ago\n",
       "3   Hiring For Data Scientist + Python/R+ Predicti...    4.0  via naukri.com\n",
       "4       Urgent Requirement || Data Scientist || Noida    3.8         21d ago\n",
       "5                  Data Scientist - Immediate Joiners    3.8  via naukri.com\n",
       "6        Data Scientist - Machine Learning (5-14 yrs)    4.1         24d ago\n",
       "7   Data Scientist- Fresher Opening - Newgen Softw...    3.5  via naukri.com\n",
       "8                               Senior Data Scientist    4.2         28d ago\n",
       "9                       Data Analyst / Data Scientist    3.6  via naukri.com\n",
       "10                          Machine Learning Engineer    4.0          2d ago\n",
       "11                                     Data Scientist    4.0  via naukri.com\n",
       "12                            Data Scientist with SAS    3.7          6d ago\n",
       "13  Hiring For Data Scientist + Python/R+ Predicti...    4.0  via hirist.com\n",
       "14      Urgent Requirement || Data Scientist || Noida    3.8          8d ago\n",
       "15                 Data Scientist - Immediate Joiners    3.8  via naukri.com\n",
       "16       Data Scientist - Machine Learning (5-14 yrs)    4.1        1mon ago\n",
       "17  Data Scientist- Fresher Opening - Newgen Softw...    3.5  via naukri.com\n",
       "18                              Senior Data Scientist    4.2         17d ago\n",
       "19                      Data Analyst / Data Scientist    3.6  via naukri.com"
      ]
     },
     "execution_count": 137,
     "metadata": {},
     "output_type": "execute_result"
    }
   ],
   "source": [
    "jobs"
   ]
  },
  {
   "cell_type": "code",
   "execution_count": 138,
   "id": "186da800",
   "metadata": {},
   "outputs": [],
   "source": [
    "#Q10: Write a python program to scrape the salary data for Data Scientist designation.\n",
    "#You have to scrape Company name, Number of salaries, Average salary, Minsalary, Max Salary.\n"
   ]
  },
  {
   "cell_type": "code",
   "execution_count": 1,
   "id": "73cb4e20",
   "metadata": {},
   "outputs": [],
   "source": [
    "import selenium\n",
    "import pandas as pd\n",
    "from selenium import webdriver\n",
    "import warnings\n",
    "warnings.filterwarnings('ignore')\n",
    "import time "
   ]
  },
  {
   "cell_type": "code",
   "execution_count": 2,
   "id": "fceda894",
   "metadata": {},
   "outputs": [],
   "source": [
    "driver=webdriver.Chrome(r'C:\\Users\\akash\\Downloads\\chromedriver_win32\\chromedriver.exe')\n",
    "\n",
    "driver.get('https://www.ambitionbox.com/')"
   ]
  },
  {
   "cell_type": "code",
   "execution_count": 11,
   "id": "bafe1e38",
   "metadata": {},
   "outputs": [],
   "source": [
    "company_name_list=[]\n",
    "average_salary_list=[]\n",
    "experience_list=[]"
   ]
  },
  {
   "cell_type": "code",
   "execution_count": 14,
   "id": "534144c0",
   "metadata": {},
   "outputs": [
    {
     "data": {
      "text/plain": [
       "[<selenium.webdriver.remote.webelement.WebElement (session=\"464749b0429c2ec8b2e8f4dbad91799e\", element=\"df326942-e2b7-425c-8391-52976dbb7160\")>,\n",
       " <selenium.webdriver.remote.webelement.WebElement (session=\"464749b0429c2ec8b2e8f4dbad91799e\", element=\"aedca9ae-c99c-47e8-89c4-174177e7912b\")>,\n",
       " <selenium.webdriver.remote.webelement.WebElement (session=\"464749b0429c2ec8b2e8f4dbad91799e\", element=\"057866fc-9cb3-461a-8de8-6725507d77fb\")>,\n",
       " <selenium.webdriver.remote.webelement.WebElement (session=\"464749b0429c2ec8b2e8f4dbad91799e\", element=\"8d0552c9-bd5e-4e1d-ad81-44fa61c6b591\")>,\n",
       " <selenium.webdriver.remote.webelement.WebElement (session=\"464749b0429c2ec8b2e8f4dbad91799e\", element=\"6b7048bc-a27d-43fd-a254-a88169112896\")>,\n",
       " <selenium.webdriver.remote.webelement.WebElement (session=\"464749b0429c2ec8b2e8f4dbad91799e\", element=\"f882b879-167a-4d69-91d7-418028f1e956\")>,\n",
       " <selenium.webdriver.remote.webelement.WebElement (session=\"464749b0429c2ec8b2e8f4dbad91799e\", element=\"ac65b41a-c415-400c-9737-ec81d25159d9\")>,\n",
       " <selenium.webdriver.remote.webelement.WebElement (session=\"464749b0429c2ec8b2e8f4dbad91799e\", element=\"5359367a-a95a-4dfe-8c86-2086bec832e1\")>,\n",
       " <selenium.webdriver.remote.webelement.WebElement (session=\"464749b0429c2ec8b2e8f4dbad91799e\", element=\"e0550af1-58b8-4f11-9748-033f77f6cca1\")>,\n",
       " <selenium.webdriver.remote.webelement.WebElement (session=\"464749b0429c2ec8b2e8f4dbad91799e\", element=\"d81a12b8-950f-44c1-8885-7c5c92438e03\")>]"
      ]
     },
     "execution_count": 14,
     "metadata": {},
     "output_type": "execute_result"
    }
   ],
   "source": [
    "company_name_tags=driver.find_elements_by_xpath(\"//div[@class='name']\")\n",
    "company_name_tags"
   ]
  },
  {
   "cell_type": "code",
   "execution_count": 15,
   "id": "beca0fde",
   "metadata": {},
   "outputs": [
    {
     "data": {
      "text/plain": [
       "['Walmart\\nbased on 11 salaries',\n",
       " 'Ab Inbev\\nbased on 32 salaries',\n",
       " 'Reliance Jio\\nbased on 10 salaries',\n",
       " 'ZS\\nbased on 15 salaries',\n",
       " 'Optum\\nbased on 27 salaries',\n",
       " 'Fractal Analytics\\nbased on 81 salaries',\n",
       " 'Tiger Analytics\\nbased on 46 salaries',\n",
       " 'UnitedHealth\\nbased on 53 salaries',\n",
       " 'Verizon\\nbased on 14 salaries',\n",
       " 'Ganit Business Solutions\\nbased on 13 salaries']"
      ]
     },
     "execution_count": 15,
     "metadata": {},
     "output_type": "execute_result"
    }
   ],
   "source": [
    "for i in company_name_tags:\n",
    "    company_name=i.text\n",
    "    company_name_list.append(company_name)\n",
    "company_name_list"
   ]
  },
  {
   "cell_type": "code",
   "execution_count": 16,
   "id": "ba824461",
   "metadata": {},
   "outputs": [
    {
     "data": {
      "text/plain": [
       "[<selenium.webdriver.remote.webelement.WebElement (session=\"464749b0429c2ec8b2e8f4dbad91799e\", element=\"bdc6a408-5c09-4c3a-b3a2-c8fea4c8ec65\")>,\n",
       " <selenium.webdriver.remote.webelement.WebElement (session=\"464749b0429c2ec8b2e8f4dbad91799e\", element=\"b01c4335-a072-4c82-876f-aab9bcbaa9a6\")>,\n",
       " <selenium.webdriver.remote.webelement.WebElement (session=\"464749b0429c2ec8b2e8f4dbad91799e\", element=\"6f2a67f4-f689-4a48-aa4d-5233a6a6186c\")>,\n",
       " <selenium.webdriver.remote.webelement.WebElement (session=\"464749b0429c2ec8b2e8f4dbad91799e\", element=\"58b336d6-1195-4235-bceb-98a7553b4628\")>,\n",
       " <selenium.webdriver.remote.webelement.WebElement (session=\"464749b0429c2ec8b2e8f4dbad91799e\", element=\"bb97d39e-a37c-4798-9ff5-a8a86b64eb73\")>,\n",
       " <selenium.webdriver.remote.webelement.WebElement (session=\"464749b0429c2ec8b2e8f4dbad91799e\", element=\"e89def45-5138-46d1-8f6e-8e9339998e0b\")>,\n",
       " <selenium.webdriver.remote.webelement.WebElement (session=\"464749b0429c2ec8b2e8f4dbad91799e\", element=\"c491904d-8c38-4d72-9a43-ca60dc78ce50\")>,\n",
       " <selenium.webdriver.remote.webelement.WebElement (session=\"464749b0429c2ec8b2e8f4dbad91799e\", element=\"4dc8e2d1-63e0-4319-9c72-af7c95496693\")>,\n",
       " <selenium.webdriver.remote.webelement.WebElement (session=\"464749b0429c2ec8b2e8f4dbad91799e\", element=\"b238f697-3c67-40a6-b219-bc22af94dba6\")>,\n",
       " <selenium.webdriver.remote.webelement.WebElement (session=\"464749b0429c2ec8b2e8f4dbad91799e\", element=\"8997b401-bbcf-478c-91a6-140888b1c1ad\")>]"
      ]
     },
     "execution_count": 16,
     "metadata": {},
     "output_type": "execute_result"
    }
   ],
   "source": [
    "average_salary_tags=driver.find_elements_by_xpath(\"//p[@class='averageCtc']\")\n",
    "average_salary_tags"
   ]
  },
  {
   "cell_type": "code",
   "execution_count": 17,
   "id": "3ded5d31",
   "metadata": {},
   "outputs": [
    {
     "data": {
      "text/plain": [
       "['₹ 29.7L',\n",
       " '₹ 20.5L',\n",
       " '₹ 18.9L',\n",
       " '₹ 15.9L',\n",
       " '₹ 15.2L',\n",
       " '₹ 15.2L',\n",
       " '₹ 14.8L',\n",
       " '₹ 14.0L',\n",
       " '₹ 12.7L',\n",
       " '₹ 12.4L']"
      ]
     },
     "execution_count": 17,
     "metadata": {},
     "output_type": "execute_result"
    }
   ],
   "source": [
    "for i in average_salary_tags:\n",
    "    average_salary=i.text\n",
    "    average_salary_list.append(average_salary)\n",
    "average_salary_list"
   ]
  },
  {
   "cell_type": "code",
   "execution_count": 9,
   "id": "50512ace",
   "metadata": {},
   "outputs": [
    {
     "data": {
      "text/plain": [
       "[<selenium.webdriver.remote.webelement.WebElement (session=\"464749b0429c2ec8b2e8f4dbad91799e\", element=\"8005eec5-7ceb-4367-aa25-423b52376daf\")>,\n",
       " <selenium.webdriver.remote.webelement.WebElement (session=\"464749b0429c2ec8b2e8f4dbad91799e\", element=\"9c6b99d1-af81-4b07-8f66-ae51cfa8899a\")>,\n",
       " <selenium.webdriver.remote.webelement.WebElement (session=\"464749b0429c2ec8b2e8f4dbad91799e\", element=\"6951e7cf-bbfa-4f0f-aab0-1e4cb7e2d836\")>,\n",
       " <selenium.webdriver.remote.webelement.WebElement (session=\"464749b0429c2ec8b2e8f4dbad91799e\", element=\"66cfd78b-ec5d-432a-a666-cd7a08ca818b\")>,\n",
       " <selenium.webdriver.remote.webelement.WebElement (session=\"464749b0429c2ec8b2e8f4dbad91799e\", element=\"1b243f12-308a-4313-8b1b-bd4df396b3a6\")>,\n",
       " <selenium.webdriver.remote.webelement.WebElement (session=\"464749b0429c2ec8b2e8f4dbad91799e\", element=\"969b47bf-f749-44da-aeff-47d35b5ba0a7\")>,\n",
       " <selenium.webdriver.remote.webelement.WebElement (session=\"464749b0429c2ec8b2e8f4dbad91799e\", element=\"0f5fe283-5969-4f89-9ec6-bee6ff0fa75c\")>,\n",
       " <selenium.webdriver.remote.webelement.WebElement (session=\"464749b0429c2ec8b2e8f4dbad91799e\", element=\"4725b786-cccc-40ea-9779-4e00ededd3e5\")>,\n",
       " <selenium.webdriver.remote.webelement.WebElement (session=\"464749b0429c2ec8b2e8f4dbad91799e\", element=\"b47db657-f10d-4ff2-8a4f-f9a58b0cc7ad\")>,\n",
       " <selenium.webdriver.remote.webelement.WebElement (session=\"464749b0429c2ec8b2e8f4dbad91799e\", element=\"21e72bc9-a80f-41e3-bcc8-7f1feb8cb18c\")>]"
      ]
     },
     "execution_count": 9,
     "metadata": {},
     "output_type": "execute_result"
    }
   ],
   "source": [
    "experience_tags=driver.find_elements_by_xpath(\"//div[@class='salaries sbold-list-header']\")\n",
    "experience_tags"
   ]
  },
  {
   "cell_type": "code",
   "execution_count": 12,
   "id": "28052862",
   "metadata": {},
   "outputs": [
    {
     "data": {
      "text/plain": [
       "['Data Scientist\\n . \\n3 yrs exp',\n",
       " 'Data Scientist\\n . \\n3-4 yrs exp',\n",
       " 'Data Scientist\\n . \\n4 yrs exp',\n",
       " 'Data Scientist\\n . \\n2 yrs exp',\n",
       " 'Data Scientist\\n . \\n3-4 yrs exp',\n",
       " 'Data Scientist\\n . \\n2-4 yrs exp',\n",
       " 'Data Scientist\\n . \\n2-4 yrs exp',\n",
       " 'Data Scientist\\n . \\n2-4 yrs exp',\n",
       " 'Data Scientist\\n . \\n4 yrs exp',\n",
       " 'Data Scientist\\n . \\n4 yrs exp']"
      ]
     },
     "execution_count": 12,
     "metadata": {},
     "output_type": "execute_result"
    }
   ],
   "source": [
    "for i in experience_tags:\n",
    "    experience=i.text\n",
    "    experience_list.append(experience)\n",
    "experience_list"
   ]
  },
  {
   "cell_type": "code",
   "execution_count": 19,
   "id": "fbfec781",
   "metadata": {},
   "outputs": [
    {
     "name": "stdout",
     "output_type": "stream",
     "text": [
      "10 10 10\n"
     ]
    }
   ],
   "source": [
    "print(len(company_name_list),len(average_salary_list),len(experience_list))"
   ]
  },
  {
   "cell_type": "code",
   "execution_count": 20,
   "id": "04c1ea29",
   "metadata": {},
   "outputs": [],
   "source": [
    "salary=pd.DataFrame({})\n",
    "salary['company_name']=company_name_list \n",
    "salary['average_salary']=average_salary_list\n",
    "salary['experience']=experience_list"
   ]
  },
  {
   "cell_type": "code",
   "execution_count": 21,
   "id": "d1c086c8",
   "metadata": {},
   "outputs": [
    {
     "data": {
      "text/html": [
       "<div>\n",
       "<style scoped>\n",
       "    .dataframe tbody tr th:only-of-type {\n",
       "        vertical-align: middle;\n",
       "    }\n",
       "\n",
       "    .dataframe tbody tr th {\n",
       "        vertical-align: top;\n",
       "    }\n",
       "\n",
       "    .dataframe thead th {\n",
       "        text-align: right;\n",
       "    }\n",
       "</style>\n",
       "<table border=\"1\" class=\"dataframe\">\n",
       "  <thead>\n",
       "    <tr style=\"text-align: right;\">\n",
       "      <th></th>\n",
       "      <th>company_name</th>\n",
       "      <th>average_salary</th>\n",
       "      <th>experience</th>\n",
       "    </tr>\n",
       "  </thead>\n",
       "  <tbody>\n",
       "    <tr>\n",
       "      <th>0</th>\n",
       "      <td>Walmart\\nbased on 11 salaries</td>\n",
       "      <td>₹ 29.7L</td>\n",
       "      <td>Data Scientist\\n . \\n3 yrs exp</td>\n",
       "    </tr>\n",
       "    <tr>\n",
       "      <th>1</th>\n",
       "      <td>Ab Inbev\\nbased on 32 salaries</td>\n",
       "      <td>₹ 20.5L</td>\n",
       "      <td>Data Scientist\\n . \\n3-4 yrs exp</td>\n",
       "    </tr>\n",
       "    <tr>\n",
       "      <th>2</th>\n",
       "      <td>Reliance Jio\\nbased on 10 salaries</td>\n",
       "      <td>₹ 18.9L</td>\n",
       "      <td>Data Scientist\\n . \\n4 yrs exp</td>\n",
       "    </tr>\n",
       "    <tr>\n",
       "      <th>3</th>\n",
       "      <td>ZS\\nbased on 15 salaries</td>\n",
       "      <td>₹ 15.9L</td>\n",
       "      <td>Data Scientist\\n . \\n2 yrs exp</td>\n",
       "    </tr>\n",
       "    <tr>\n",
       "      <th>4</th>\n",
       "      <td>Optum\\nbased on 27 salaries</td>\n",
       "      <td>₹ 15.2L</td>\n",
       "      <td>Data Scientist\\n . \\n3-4 yrs exp</td>\n",
       "    </tr>\n",
       "    <tr>\n",
       "      <th>5</th>\n",
       "      <td>Fractal Analytics\\nbased on 81 salaries</td>\n",
       "      <td>₹ 15.2L</td>\n",
       "      <td>Data Scientist\\n . \\n2-4 yrs exp</td>\n",
       "    </tr>\n",
       "    <tr>\n",
       "      <th>6</th>\n",
       "      <td>Tiger Analytics\\nbased on 46 salaries</td>\n",
       "      <td>₹ 14.8L</td>\n",
       "      <td>Data Scientist\\n . \\n2-4 yrs exp</td>\n",
       "    </tr>\n",
       "    <tr>\n",
       "      <th>7</th>\n",
       "      <td>UnitedHealth\\nbased on 53 salaries</td>\n",
       "      <td>₹ 14.0L</td>\n",
       "      <td>Data Scientist\\n . \\n2-4 yrs exp</td>\n",
       "    </tr>\n",
       "    <tr>\n",
       "      <th>8</th>\n",
       "      <td>Verizon\\nbased on 14 salaries</td>\n",
       "      <td>₹ 12.7L</td>\n",
       "      <td>Data Scientist\\n . \\n4 yrs exp</td>\n",
       "    </tr>\n",
       "    <tr>\n",
       "      <th>9</th>\n",
       "      <td>Ganit Business Solutions\\nbased on 13 salaries</td>\n",
       "      <td>₹ 12.4L</td>\n",
       "      <td>Data Scientist\\n . \\n4 yrs exp</td>\n",
       "    </tr>\n",
       "  </tbody>\n",
       "</table>\n",
       "</div>"
      ],
      "text/plain": [
       "                                     company_name average_salary  \\\n",
       "0                   Walmart\\nbased on 11 salaries        ₹ 29.7L   \n",
       "1                  Ab Inbev\\nbased on 32 salaries        ₹ 20.5L   \n",
       "2              Reliance Jio\\nbased on 10 salaries        ₹ 18.9L   \n",
       "3                        ZS\\nbased on 15 salaries        ₹ 15.9L   \n",
       "4                     Optum\\nbased on 27 salaries        ₹ 15.2L   \n",
       "5         Fractal Analytics\\nbased on 81 salaries        ₹ 15.2L   \n",
       "6           Tiger Analytics\\nbased on 46 salaries        ₹ 14.8L   \n",
       "7              UnitedHealth\\nbased on 53 salaries        ₹ 14.0L   \n",
       "8                   Verizon\\nbased on 14 salaries        ₹ 12.7L   \n",
       "9  Ganit Business Solutions\\nbased on 13 salaries        ₹ 12.4L   \n",
       "\n",
       "                         experience  \n",
       "0    Data Scientist\\n . \\n3 yrs exp  \n",
       "1  Data Scientist\\n . \\n3-4 yrs exp  \n",
       "2    Data Scientist\\n . \\n4 yrs exp  \n",
       "3    Data Scientist\\n . \\n2 yrs exp  \n",
       "4  Data Scientist\\n . \\n3-4 yrs exp  \n",
       "5  Data Scientist\\n . \\n2-4 yrs exp  \n",
       "6  Data Scientist\\n . \\n2-4 yrs exp  \n",
       "7  Data Scientist\\n . \\n2-4 yrs exp  \n",
       "8    Data Scientist\\n . \\n4 yrs exp  \n",
       "9    Data Scientist\\n . \\n4 yrs exp  "
      ]
     },
     "execution_count": 21,
     "metadata": {},
     "output_type": "execute_result"
    }
   ],
   "source": [
    "salary"
   ]
  }
 ],
 "metadata": {
  "kernelspec": {
   "display_name": "Python 3",
   "language": "python",
   "name": "python3"
  },
  "language_info": {
   "codemirror_mode": {
    "name": "ipython",
    "version": 3
   },
   "file_extension": ".py",
   "mimetype": "text/x-python",
   "name": "python",
   "nbconvert_exporter": "python",
   "pygments_lexer": "ipython3",
   "version": "3.8.8"
  }
 },
 "nbformat": 4,
 "nbformat_minor": 5
}
