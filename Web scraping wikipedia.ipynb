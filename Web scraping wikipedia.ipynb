{
 "cells": [
  {
   "cell_type": "code",
   "execution_count": 1,
   "id": "05e26a8b",
   "metadata": {},
   "outputs": [
    {
     "data": {
      "text/plain": [
       "<Response [200]>"
      ]
     },
     "execution_count": 1,
     "metadata": {},
     "output_type": "execute_result"
    }
   ],
   "source": [
    "import requests\n",
    "from bs4 import BeautifulSoup\n",
    "\n",
    "page=requests.get('https://en.wikipedia.org/wiki/Main_Page')\n",
    "page"
   ]
  },
  {
   "cell_type": "code",
   "execution_count": 2,
   "id": "b0876d2a",
   "metadata": {},
   "outputs": [
    {
     "data": {
      "text/plain": [
       "'\\n\\n\\nWikipedia, the free encyclopedia\\n\\n\\n\\n\\n\\n\\n\\n\\n\\n\\n\\n\\n\\n\\n\\n\\n\\n\\n\\n\\n\\n\\n\\n\\n\\n\\n\\n\\n\\n\\n\\n\\n\\n\\n\\n\\n\\n\\n\\n\\n\\n\\n\\nMain Page\\n\\nFrom Wikipedia, the free encyclopedia\\n\\n\\n\\nJump to navigation\\nJump to search\\n\\n\\n\\nWelcome to Wikipedia,\\nthe free encyclopedia that anyone can edit.\\n6,474,776 articles in English\\n\\n\\nThe arts\\nBiography\\nGeography\\nHistory\\nMathematics\\nScience\\nSociety\\nTechnology\\nAll portals\\n\\n\\n\\n\\n\\nFrom today\\'s featured article\\n\\n\\nPhotomicrograph of T.\\xa0cruzi parasites among circular red blood cells\\n\\nChagas disease is a  parasitic disease which occurs in the Americas, particularly in South America. It is caused by a protozoan named Trypanosoma cruzi (pictured), which is transmitted to humans and other mammals primarily by blood-drinking insects of the subfamily Triatominae. Other forms of transmission are possible, such as ingestion of food contaminated with T.\\xa0cruzi, blood transfusion and maternal–fetal transmission. After an initial stage of infection that is usually mild or asymptomatic, untreated individuals enter the chronic phase of the disease. People with chronic Chagas disease may develop organ dysfunction, which most commonly involves the heart or the digestive system. Chagas disease can be treated using the antiparasitic drugs benznidazole and nifurtimox, which are most effective in the early stage of infection. It is estimated that 6.5\\xa0million people worldwide are living with the disease, and it is responsible for about 9,490 annual deaths. (Full\\xa0article...)\\n\\n\\nRecently featured: \\nHere Is Mariah Carey\\nJadran (training ship)\\nWie schön leuchtet der Morgenstern, BWV\\xa01\\n\\n\\nArchive\\nBy email\\nMore featured articles\\n\\nDid you know\\xa0...\\n\\n\\n\\nSiddington Locks, on the Thames and Severn Canal\\n\\n... that the lock flight (pictured) in Siddington, Gloucester\\xadshire has lain abandoned for almost 100 years, but restoration is now planned?\\n... that Eleonore Schönborn, who had to leave Czechoslovakia in 1945 with two young children, received an Austrian award in 2013 for cultural and social improvement?\\n... that Indigo Swing was described as \"one of the name bands\" of its genre?\\n... that Turkish world-champion para-archer Yiğit Caner Aydın stayed in hospital for eight months after a stand fell on his head, broke his neck, and paralyzed him?\\n... that when Russia joined the Council of Europe in 1996, \"no serious observer believed that it met the criteria for membership\"?\\n... that David Wheeler was running for re-election to the Alabama House of Representatives unopposed in the Republican primary when he died in 2022?\\n... that historians do not agree on whether the Battle on the Irghiz River took place in 1209 or 1219?\\n... that the creator of Comic Sans also designed a levitating man in a business suit?\\n\\nArchive\\nStart a new article\\nNominate an article\\n\\n\\n\\n\\n\\n\\nIn the news\\n\\n\\nDennis Sullivan\\n\\nCODA wins Best Picture and Dune wins in six categories at the Academy Awards.\\nMathematician Dennis Sullivan (pictured) is awarded the Abel Prize for his work in topology.\\nChina Eastern Airlines Flight 5735 crashes in Guangxi, China, killing all 132 people on board.\\nThe 1915 Çanakkale Bridge, the first bridge over the Dardanelles and the world\\'s longest suspension bridge, opens in Turkey.\\n\\nOngoing: \\nCOVID-19 pandemic\\nRussian invasion of Ukraine\\nRecent deaths: \\nGrace Alele-Williams\\nMiriam Dell\\nRosa Gómez de Mejía\\nTaylor Hawkins\\nTom Barrise\\nSteve Wilhite\\n\\nNominate an article\\n\\nOn this day\\n\\nMarch 28\\n\\n\\n\\nVienna Philharmonic, 2019\\n\\n1802 – German astronomer Heinrich Wilhelm Matthias Olbers discovered Pallas, the second asteroid ever identified, though it was considered to be a planet at the time.\\n1842 – The Vienna Philharmonic (pictured) held its first concert, conducted by Otto Nicolai.\\n1918 – World War\\xa0I: British and Australian troops soundly defeated German forces at the First Battle of Dernancourt in northern France.\\n1942 – Second World War: The port of Saint-Nazaire in occupied France was disabled by British naval forces.\\n1979 – British prime minister James Callaghan was defeated by one vote in a vote of no confidence after his government struggled to cope with widespread strikes during the Winter of Discontent.\\nFlodoard  (d.\\xa0966)Solomon Foot  (d.\\xa01866)John Alderdice, Baron Alderdice  (b.\\xa01955)\\n\\nMore anniversaries: \\nMarch 27\\nMarch 28\\nMarch 29\\n\\n\\nArchive\\nBy email\\nList of days of the year\\n\\n\\n\\n\\nFrom today\\'s featured list\\n\\nHalle Berry\\n\\nThe 74th Academy Awards ceremony, presented by the Academy of Motion Picture Arts and Sciences (AMPAS), honored films released in 2001 and took place on March\\xa024, 2002, at the Kodak Theatre in Hollywood, Los Angeles. During the ceremony, AMPAS presented Academy Awards in 24 categories. The ceremony, televised in the United States by ABC, was produced by Laura Ziskin and directed by Louis J. Horvitz. Actress Whoopi Goldberg hosted the show for the fourth time. A Beautiful Mind won four awards, including Best Picture and Best Director. Denzel Washington and Halle Berry (pictured) won lead acting honors, with the latter becoming the first African-American to win the award for Best Actress. The telecast garnered nearly 42\\xa0million viewers in the United States. (Full\\xa0list...)\\n\\n\\nRecently featured: \\nBBC Sports Personality of the Year Helen Rollason Award\\nMunicipalities in New Brunswick\\nAwards and nominations received by Alison Krauss\\n\\n\\nArchive\\nMore featured lists\\n\\n\\n\\n\\n\\nToday\\'s featured picture\\n\\n\\n\\n\\n\\n\\n\\nWheat Fields is a series of dozens of paintings by the Dutch Post-Impressionist artist Vincent van Gogh, borne out of his religious studies and sermons, connection to nature, appreciation of manual laborers and desire to provide a means of offering comfort to others. In this 1890 oil-on-canvas landscape painting, entitled Wheatfield Under Thunderclouds or Wheat Fields Under Clouded Sky, Van Gogh depicts the loneliness of the countryside and the degree to which it is \"healthy and heartening\". The work is in the collection of the Van Gogh Museum in Amsterdam.\\n\\nPainting credit: Vincent van Gogh\\n\\nRecently featured: \\nSong thrush\\nPalace of Fine Arts\\nPorters Pass\\n\\n\\nArchive\\nMore featured pictures\\n\\n\\n\\n\\n\\nOther areas of Wikipedia\\n\\nCommunity portal – The central hub for editors, with resources, links, tasks, and announcements.\\nVillage pump – Forum for discussions about Wikipedia itself, including policies and technical issues.\\nSite news – Sources of news about Wikipedia and the broader Wikimedia movement.\\nTeahouse – Ask basic questions about using or editing Wikipedia.\\nHelp desk – Ask questions about using or editing Wikipedia.\\nReference desk – Ask research questions about encyclopedic topics.\\n\\nWikipedia\\'s sister projects\\n\\nWikipedia is written by volunteer editors and hosted by the Wikimedia Foundation, a non-profit organization that also hosts a range of other volunteer projects:\\n\\n\\n\\n\\n\\nCommonsFree media repository\\n\\n\\n\\nMediaWikiWiki software development\\n\\n\\n\\nMeta-WikiWikimedia project coordination\\n\\n\\n\\nWikibooksFree textbooks and manuals\\n\\n\\n\\nWikidataFree knowledge base\\n\\n\\n\\nWikinewsFree-content news\\n\\n\\n\\nWikiquoteCollection of quotations\\n\\n\\n\\nWikisourceFree-content library\\n\\n\\n\\nWikispeciesDirectory of species\\n\\n\\n\\nWikiversityFree learning tools\\n\\n\\n\\nWikivoyageFree travel guide\\n\\n\\n\\nWiktionaryDictionary and thesaurus\\n\\n\\n\\nWikipedia languages\\n\\n\\nThis Wikipedia is written in English. Many other Wikipedias are available; some of the largest are listed below.\\n\\n\\n\\n\\n\\n1,000,000+ articles\\n\\n\\n\\nالعربية\\nDeutsch\\nEspañol\\nFrançais\\nItaliano\\nNederlands\\n日本語\\nPolski\\nPortuguês\\nРусский\\nSvenska\\nУкраїнська\\nTiếng Việt\\n中文\\n\\n\\n\\n\\n\\n250,000+ articles\\n\\n\\n\\nBahasa Indonesia\\nBahasa Melayu\\nBân-lâm-gú\\nБългарски\\nCatalà\\nČeština\\nDansk\\nEsperanto\\nEuskara\\nفارسی\\u200e\\nעברית\\n한국어\\nMagyar\\nNorsk Bokmål\\nRomână\\nSrpski\\nSrpskohrvatski\\nSuomi\\nTürkçe\\n\\n\\n\\n\\n\\n50,000+ articles\\n\\n\\n\\nAsturianu\\nবাংলা\\nBosanski\\nEesti\\nΕλληνικά\\nSimple English\\nGalego\\nHrvatski\\nLatviešu\\nLietuvių\\nമലയാളം\\nМакедонски\\nNorsk nynorsk\\nShqip\\nSlovenčina\\nSlovenščina\\nไทย\\n\\n\\n\\n\\n\\n\\n\\n\\n\\nRetrieved from \"https://en.wikipedia.org/w/index.php?title=Main_Page&oldid=1069328725\"\\n\\n\\n\\n\\n\\n\\n\\nNavigation menu\\n\\n\\n\\nPersonal tools\\n\\n\\nNot logged inTalkContributionsCreate accountLog in\\n\\n\\n\\n\\n\\nNamespaces\\n\\n\\nMain PageTalk\\n\\n\\n\\n\\n\\nEnglish\\n\\n\\n\\n\\n\\n\\n\\n\\n\\nViews\\n\\n\\nReadView sourceView history\\n\\n\\n\\n\\n\\nMore\\n\\n\\n\\n\\n\\n\\n\\n\\nSearch\\n\\n\\n\\n\\n\\n\\n\\n\\n\\n\\n\\n\\n\\n\\n\\n\\n\\n\\n\\nNavigation\\n\\n\\nMain pageContentsCurrent eventsRandom articleAbout WikipediaContact usDonate\\n\\n\\n\\n\\nContribute\\n\\n\\nHelpLearn to editCommunity portalRecent changesUpload file\\n\\n\\n\\n\\nTools\\n\\n\\nWhat links hereRelated changesUpload fileSpecial pagesPermanent linkPage informationCite this pageWikidata item\\n\\n\\n\\n\\nPrint/export\\n\\n\\nDownload as PDFPrintable version\\n\\n\\n\\n\\nIn other projects\\n\\n\\nWikimedia CommonsMediaWikiMeta-WikiMultilingual WikisourceWikispeciesWikibooksWikidataWikimaniaWikinewsWikiquoteWikisourceWikiversityWikivoyageWiktionary\\n\\n\\n\\n\\nLanguages\\n\\n\\nالعربيةবাংলাБългарскиBosanskiCatalàČeštinaDanskDeutschEestiΕλληνικάEspañolEsperantoEuskaraفارسیFrançaisGalego한국어HrvatskiBahasa IndonesiaItalianoעבריתქართულიLatviešuLietuviųMagyarМакедонскиBahasa MelayuNederlands日本語Norsk bokmålNorsk nynorskPolskiPortuguêsRomânăРусскийSimple EnglishSlovenčinaSlovenščinaСрпски / srpskiSrpskohrvatski / српскохрватскиSuomiSvenskaไทยTürkçeУкраїнськаTiếng Việt中文\\n\\n\\n\\n\\n\\n\\n This page was last edited on 1 February 2022, at 19:01\\xa0(UTC).\\nText is available under the Creative Commons Attribution-ShareAlike License 3.0;\\nadditional terms may apply.  By using this site, you agree to the Terms of Use and Privacy Policy. Wikipedia® is a registered trademark of the Wikimedia Foundation, Inc., a non-profit organization.\\n\\n\\nPrivacy policy\\nAbout Wikipedia\\nDisclaimers\\nContact Wikipedia\\nMobile view\\nDevelopers\\nStatistics\\nCookie statement\\n\\n\\n\\n\\n\\n\\n\\n\\n\\n\\n'"
      ]
     },
     "execution_count": 2,
     "metadata": {},
     "output_type": "execute_result"
    }
   ],
   "source": [
    "wiki=BeautifulSoup(page.content)\n",
    "wiki.text"
   ]
  },
  {
   "cell_type": "code",
   "execution_count": 3,
   "id": "0bc16f29",
   "metadata": {},
   "outputs": [
    {
     "data": {
      "text/plain": [
       "'Welcome to Wikipedia'"
      ]
     },
     "execution_count": 3,
     "metadata": {},
     "output_type": "execute_result"
    }
   ],
   "source": [
    "first_title = wiki.find('span',class_=\"mw-headline\")\n",
    "first_title.text"
   ]
  },
  {
   "cell_type": "code",
   "execution_count": 4,
   "id": "81501ddd",
   "metadata": {},
   "outputs": [
    {
     "data": {
      "text/plain": [
       "['Welcome to Wikipedia',\n",
       " \"From today's featured article\",\n",
       " 'Did you know\\xa0...',\n",
       " 'In the news',\n",
       " 'On this day',\n",
       " \"From today's featured list\",\n",
       " \"Today's featured picture\",\n",
       " 'Other areas of Wikipedia',\n",
       " \"Wikipedia's sister projects\",\n",
       " 'Wikipedia languages']"
      ]
     },
     "execution_count": 4,
     "metadata": {},
     "output_type": "execute_result"
    }
   ],
   "source": [
    "titles = []\n",
    "\n",
    "for i in wiki.find_all('span',class_=\"mw-headline\"):\n",
    "    titles.append(i.text)\n",
    "\n",
    "titles"
   ]
  },
  {
   "cell_type": "code",
   "execution_count": null,
   "id": "9e6c5212",
   "metadata": {},
   "outputs": [],
   "source": []
  }
 ],
 "metadata": {
  "kernelspec": {
   "display_name": "Python 3",
   "language": "python",
   "name": "python3"
  },
  "language_info": {
   "codemirror_mode": {
    "name": "ipython",
    "version": 3
   },
   "file_extension": ".py",
   "mimetype": "text/x-python",
   "name": "python",
   "nbconvert_exporter": "python",
   "pygments_lexer": "ipython3",
   "version": "3.8.8"
  }
 },
 "nbformat": 4,
 "nbformat_minor": 5
}
