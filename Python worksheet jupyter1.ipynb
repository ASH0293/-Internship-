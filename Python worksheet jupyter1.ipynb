{
 "cells": [
  {
   "cell_type": "markdown",
   "id": "c24a59b5",
   "metadata": {},
   "source": [
    "# Python worksheet1"
   ]
  },
  {
   "cell_type": "code",
   "execution_count": 5,
   "id": "cb4eddde",
   "metadata": {},
   "outputs": [
    {
     "name": "stdout",
     "output_type": "stream",
     "text": [
      "Factorial of 5 is 120\n"
     ]
    }
   ],
   "source": [
    "#11. Write a python program to find the factorial of a number.\n",
    "import math\n",
    "\n",
    "def factorial(num):\n",
    "    return(math.factorial(num))\n",
    "\n",
    "num=5\n",
    "\n",
    "print('Factorial of',num,'is',factorial(num))\n",
    "\n"
   ]
  },
  {
   "cell_type": "code",
   "execution_count": 14,
   "id": "b62e730d",
   "metadata": {},
   "outputs": [
    {
     "name": "stdout",
     "output_type": "stream",
     "text": [
      "Enter any number 5\n",
      "5 is a PRIME number\n"
     ]
    }
   ],
   "source": [
    "#12. Write a python program to find whether a number is prime or composite.\n",
    "\n",
    "num = int(input(\"Enter any number \"))\n",
    "if num > 1:\n",
    "    for i in range(2, num):\n",
    "        if (num % i) == 0:\n",
    "            print(num, \"is NOT a prime number\")\n",
    "            break\n",
    "    else:\n",
    "        print(num, \"is a PRIME number\")\n",
    "elif num == 0 or 1:\n",
    "    print(num, \"is a neither prime NOR composite number\")\n",
    "else:\n",
    "    print(num, \"is NOT a prime number it is a COMPOSITE number\")\n"
   ]
  },
  {
   "cell_type": "code",
   "execution_count": 15,
   "id": "74f1ede2",
   "metadata": {},
   "outputs": [
    {
     "name": "stdout",
     "output_type": "stream",
     "text": [
      "Enter any textWOW\n",
      "This is palindrome\n"
     ]
    }
   ],
   "source": [
    "#13. Write a python program to check whether a given string is palindrome or not\n",
    "\n",
    "S=input('Enter any text')\n",
    "if(S==S[::-1]):\n",
    "    print('This is palindrome')\n",
    "else:\n",
    "    print('This is not palindrome')\n"
   ]
  },
  {
   "cell_type": "code",
   "execution_count": 17,
   "id": "45d2b9e8",
   "metadata": {},
   "outputs": [
    {
     "name": "stdout",
     "output_type": "stream",
     "text": [
      "base4\n",
      "height3\n",
      "angle90\n",
      "Hypotenuse= 5.0\n"
     ]
    }
   ],
   "source": [
    "#14. Write a Python program to get the third side of right-angled triangle from two given sides.\n",
    "\n",
    "import math\n",
    "a=int(input('base'))\n",
    "b=int(input('height'))\n",
    "x=int(input('angle'))\n",
    "\n",
    "c=math.sqrt(a**2 + b**2)\n",
    "print('Hypotenuse=',c)"
   ]
  },
  {
   "cell_type": "code",
   "execution_count": 24,
   "id": "3743a5ba",
   "metadata": {},
   "outputs": [
    {
     "name": "stdout",
     "output_type": "stream",
     "text": [
      "Count of all characters in Myword is :  {'H': 1, 'e': 1, 'l': 3, 'o': 2, 'W': 1, 'r': 1, 'd': 1}\n"
     ]
    }
   ],
   "source": [
    "#15. Write a python program to print the frequency of each of the characters present in a given string.\n",
    "\n",
    "Myword='HelloWorld'\n",
    "\n",
    "all_freq = {}\n",
    "  \n",
    "for i in Myword:\n",
    "    if i in all_freq:\n",
    "        all_freq[i] += 1\n",
    "    else:\n",
    "        all_freq[i] = 1\n",
    "        \n",
    "# printing result \n",
    "print (\"Count of all characters in Myword is : \",(all_freq))"
   ]
  },
  {
   "cell_type": "code",
   "execution_count": null,
   "id": "ee2a3dbc",
   "metadata": {},
   "outputs": [],
   "source": []
  }
 ],
 "metadata": {
  "kernelspec": {
   "display_name": "Python 3",
   "language": "python",
   "name": "python3"
  },
  "language_info": {
   "codemirror_mode": {
    "name": "ipython",
    "version": 3
   },
   "file_extension": ".py",
   "mimetype": "text/x-python",
   "name": "python",
   "nbconvert_exporter": "python",
   "pygments_lexer": "ipython3",
   "version": "3.8.8"
  }
 },
 "nbformat": 4,
 "nbformat_minor": 5
}
